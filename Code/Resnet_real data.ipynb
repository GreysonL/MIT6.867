{
 "cells": [
  {
   "cell_type": "code",
   "execution_count": 27,
   "metadata": {
    "collapsed": false
   },
   "outputs": [],
   "source": [
    "import keras\n",
    "from keras.models import Sequential, Model\n",
    "from keras.layers import Dense, Dropout, Activation,Input, Merge, add\n",
    "from keras.layers.normalization import BatchNormalization\n",
    "from keras.optimizers import SGD\n",
    "import numpy as np\n",
    "import pandas as pd\n",
    "import random"
   ]
  },
  {
   "cell_type": "code",
   "execution_count": 30,
   "metadata": {
    "collapsed": false
   },
   "outputs": [],
   "source": [
    "data = pd.read_csv('../Data/trainset_impute50000.csv')\n",
    "x = data.drop(data.columns[[0, 1]], axis=1)\n",
    "x = np.array(x)\n",
    "y = data['target']\n",
    "y = np.array(y)"
   ]
  },
  {
   "cell_type": "code",
   "execution_count": 38,
   "metadata": {
    "collapsed": false
   },
   "outputs": [
    {
     "data": {
      "text/plain": [
       "0.96355248214081701"
      ]
     },
     "execution_count": 38,
     "metadata": {},
     "output_type": "execute_result"
    }
   ],
   "source": [
    "1-np.mean(y)"
   ]
  },
  {
   "cell_type": "code",
   "execution_count": 28,
   "metadata": {
    "collapsed": false
   },
   "outputs": [],
   "source": [
    "random.seed(867)\n",
    "train_index = np.random.choice(range(data.shape[0]),int(0.8*data.shape[0]))\n",
    "validate_index=set(range(data.shape[0]))-set(train_index)\n",
    "validate_index=np.array(list(validate_index),dtype='int64')"
   ]
  },
  {
   "cell_type": "code",
   "execution_count": 33,
   "metadata": {
    "collapsed": false
   },
   "outputs": [],
   "source": [
    "x_train = x[train_index,:]\n",
    "x_validate = x[validate_index,:]\n",
    "y_train = y[train_index]\n",
    "y_validate = y[validate_index]"
   ]
  },
  {
   "cell_type": "code",
   "execution_count": 35,
   "metadata": {
    "collapsed": false
   },
   "outputs": [
    {
     "name": "stdout",
     "output_type": "stream",
     "text": [
      "Epoch 1/20\n",
      "476169/476169 [==============================] - 32s 67us/step - loss: 0.1766 - acc: 0.9617\n",
      "Epoch 2/20\n",
      "476169/476169 [==============================] - 30s 64us/step - loss: 0.1604 - acc: 0.9637\n",
      "Epoch 3/20\n",
      "476169/476169 [==============================] - 30s 63us/step - loss: 0.1581 - acc: 0.9637\n",
      "Epoch 4/20\n",
      "476169/476169 [==============================] - 30s 62us/step - loss: 0.1570 - acc: 0.9637\n",
      "Epoch 5/20\n",
      "476169/476169 [==============================] - 30s 63us/step - loss: 0.1561 - acc: 0.9637\n",
      "Epoch 6/20\n",
      "476169/476169 [==============================] - 30s 62us/step - loss: 0.1559 - acc: 0.9637\n",
      "Epoch 7/20\n",
      "476169/476169 [==============================] - 30s 63us/step - loss: 0.1558 - acc: 0.9637\n",
      "Epoch 8/20\n",
      "476169/476169 [==============================] - 30s 62us/step - loss: 0.1558 - acc: 0.9637\n",
      "Epoch 9/20\n",
      "476169/476169 [==============================] - 29s 62us/step - loss: 0.1556 - acc: 0.9637\n",
      "Epoch 10/20\n",
      "476169/476169 [==============================] - 30s 62us/step - loss: 0.1556 - acc: 0.9637\n",
      "Epoch 11/20\n",
      "476169/476169 [==============================] - 30s 63us/step - loss: 0.1555 - acc: 0.9637\n",
      "Epoch 12/20\n",
      "476169/476169 [==============================] - 29s 62us/step - loss: 0.1554 - acc: 0.9637\n",
      "Epoch 13/20\n",
      "476169/476169 [==============================] - 29s 62us/step - loss: 0.1552 - acc: 0.9637\n",
      "Epoch 14/20\n",
      "476169/476169 [==============================] - 29s 62us/step - loss: 0.1553 - acc: 0.9637\n",
      "Epoch 15/20\n",
      "476169/476169 [==============================] - 30s 62us/step - loss: 0.1552 - acc: 0.9637\n",
      "Epoch 16/20\n",
      "476169/476169 [==============================] - 30s 62us/step - loss: 0.1552 - acc: 0.9637\n",
      "Epoch 17/20\n",
      "476169/476169 [==============================] - 30s 63us/step - loss: 0.1551 - acc: 0.9637\n",
      "Epoch 18/20\n",
      "476169/476169 [==============================] - 30s 63us/step - loss: 0.1552 - acc: 0.9637\n",
      "Epoch 19/20\n",
      "476169/476169 [==============================] - 30s 64us/step - loss: 0.1553 - acc: 0.9637\n",
      "Epoch 20/20\n",
      "476169/476169 [==============================] - 30s 63us/step - loss: 0.1552 - acc: 0.9637\n",
      "267445/267445 [==============================] - 6s 22us/step\n"
     ]
    }
   ],
   "source": [
    "raw = Input(shape=(57,))\n",
    "layer0 = Dense(100)(raw)\n",
    "norm_layer0 = BatchNormalization()(layer0)\n",
    "relu_layer0 = Activation('relu')(norm_layer0)\n",
    "drop_layer0 = Dropout(0.5)(relu_layer0)\n",
    "\n",
    "layer1 = Dense(100)(drop_layer0)\n",
    "norm_layer1 = BatchNormalization()(layer1)\n",
    "relu_layer1 = Activation('relu')(norm_layer1)\n",
    "drop_layer1 = Dropout(0.5)(relu_layer1)\n",
    "\n",
    "layer2 = Dense(100)(drop_layer1)\n",
    "norm_layer2 = BatchNormalization()(layer2)\n",
    "res_block1 = add([drop_layer0, norm_layer2])\n",
    "relu_layer2 = Activation('relu')(res_block1)\n",
    "drop_layer2 = Dropout(0.5)(relu_layer2)\n",
    "\n",
    "layer3 = Dense(50)(drop_layer2)\n",
    "norm_layer3 = BatchNormalization()(layer3)\n",
    "relu_layer3 = Activation('relu')(norm_layer3)\n",
    "drop_layer3 = Dropout(0.5)(relu_layer3)\n",
    "\n",
    "layer4 = Dense(50)(drop_layer3)\n",
    "norm_layer4 = BatchNormalization()(layer4)\n",
    "relu_layer4 = Activation('relu')(norm_layer4)\n",
    "drop_layer4 = Dropout(0.5)(relu_layer4)\n",
    "\n",
    "layer5 = Dense(50)(drop_layer4)\n",
    "norm_layer5 = BatchNormalization()(layer5)\n",
    "res_block2 = add([drop_layer3, norm_layer5])\n",
    "relu_layer5 = Activation('relu')(res_block2)\n",
    "drop_layer5 = Dropout(0.5)(relu_layer5)\n",
    "\n",
    "out = Dense(1, activation='sigmoid')(drop_layer5)\n",
    "model = Model(inputs=raw, outputs=out)\n",
    "\n",
    "sgd = SGD(lr=0.01, decay=1e-6, momentum=0.9, nesterov=True)\n",
    "\n",
    "model.compile(loss='binary_crossentropy',\n",
    "              optimizer='rmsprop',\n",
    "              metrics=['accuracy'])\n",
    "\n",
    "model.fit(x_train, y_train, epochs=20, batch_size=128)\n",
    "score = model.evaluate(x_validate, y_validate, batch_size=128)"
   ]
  },
  {
   "cell_type": "code",
   "execution_count": 36,
   "metadata": {
    "collapsed": false
   },
   "outputs": [
    {
     "data": {
      "text/plain": [
       "[0.15486403196143583, 0.96372712146110617]"
      ]
     },
     "execution_count": 36,
     "metadata": {},
     "output_type": "execute_result"
    }
   ],
   "source": [
    "score"
   ]
  },
  {
   "cell_type": "code",
   "execution_count": null,
   "metadata": {
    "collapsed": true
   },
   "outputs": [],
   "source": []
  }
 ],
 "metadata": {
  "anaconda-cloud": {},
  "kernelspec": {
   "display_name": "Python [conda root]",
   "language": "python",
   "name": "conda-root-py"
  },
  "language_info": {
   "codemirror_mode": {
    "name": "ipython",
    "version": 3
   },
   "file_extension": ".py",
   "mimetype": "text/x-python",
   "name": "python",
   "nbconvert_exporter": "python",
   "pygments_lexer": "ipython3",
   "version": "3.5.2"
  }
 },
 "nbformat": 4,
 "nbformat_minor": 1
}
