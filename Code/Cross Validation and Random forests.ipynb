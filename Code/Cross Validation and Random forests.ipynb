{
 "cells": [
  {
   "cell_type": "code",
   "execution_count": 119,
   "metadata": {},
   "outputs": [],
   "source": [
    "# Import libraries\n",
    "from sklearn.ensemble import RandomForestClassifier\n",
    "from sklearn.datasets import make_classification\n",
    "from sklearn.model_selection import KFold\n",
    "from sklearn.cross_validation import cross_val_score\n",
    "from sklearn.model_selection import GridSearchCV\n",
    "import matplotlib.pyplot as plt\n",
    "from sklearn.metrics import make_scorer\n",
    "import numpy as np\n",
    "import pandas as pd"
   ]
  },
  {
   "cell_type": "code",
   "execution_count": 43,
   "metadata": {
    "collapsed": true
   },
   "outputs": [],
   "source": [
    "# load data from csv files\n",
    "train = pd.read_csv('../Data/train.csv')\n",
    "test = pd.read_csv('../Data/test.csv')"
   ]
  },
  {
   "cell_type": "code",
   "execution_count": 67,
   "metadata": {},
   "outputs": [
    {
     "name": "stdout",
     "output_type": "stream",
     "text": [
      "5 cross validation errors:\n",
      " [ 0.96355099  0.96355099  0.96355099  0.96355068  0.96355877]\n",
      "mean error:  0.963552482159\n"
     ]
    }
   ],
   "source": [
    "# Full random forest function and k-fold cross validation with fixed parameters\n",
    "# k-fold CV\n",
    "k = 5\n",
    "X_train, y_train = train.drop(['target','id'], axis=1).values,train.loc[:,'target'].values\n",
    "# Initialize the Random Forest with specific parameters\n",
    "clf = RandomForestClassifier(max_depth=2, random_state=0)\n",
    "clf.fit(X_train, y_train)\n",
    "RandomForestClassifier(bootstrap=True, class_weight=None, criterion='gini',\n",
    "    max_depth=3, max_features='auto', max_leaf_nodes=None,\n",
    "    min_impurity_decrease=0.0, min_impurity_split=None,\n",
    "    min_samples_leaf=1, min_samples_split=2,\n",
    "    min_weight_fraction_leaf=0.0, n_estimators=10, n_jobs=1,\n",
    "    oob_score=False, random_state=0, verbose=0, warm_start=False)\n",
    "# Calculate the k-Fold Cross validation Errors\n",
    "k_error = cross_val_score(clf, X_train, y_train, cv=k)\n",
    "print(k,'cross validation errors:\\n',k_error)\n",
    "print('mean error: ',np.mean(k_error))\n",
    "### Source:\n",
    "## Random Forests\n",
    "# http://scikit-learn.org/stable/modules/generated/sklearn.ensemble.RandomForestClassifier.html\n",
    "## Cross validation\n",
    "# http://scikit-learn.org/stable/modules/generated/sklearn.model_selection.GridSearchCV.html#sklearn.model_selection.GridSearchCV"
   ]
  },
  {
   "cell_type": "code",
   "execution_count": 122,
   "metadata": {},
   "outputs": [],
   "source": [
    "# best model:\n",
    "#grid_clf.best_estimator_\n",
    "# best parameters:\n",
    "#grid_clf.best_params_\n",
    "# grid scores:\n",
    "#grid_clf.grid_scores_"
   ]
  },
  {
   "cell_type": "code",
   "execution_count": null,
   "metadata": {},
   "outputs": [],
   "source": [
    "# Parameter grid search performed with k-fold cross validation on a random forest algorithm\n",
    "# Define 2d-parameter Grid (we can do the grid in any dimension as we want)\n",
    "n_estimators, max_depth  = [5, 10, 15, 20], [2, 5, 7, 9]\n",
    "param_grid = {'n_estimators': n_estimators ,'max_depth': max_depth}\n",
    "# k-fold CV\n",
    "k = 5\n",
    "# initializes the algorithm we'll use, in this case random forest\n",
    "clf = RandomForestClassifier(criterion='gini')\n",
    "grid_clf = GridSearchCV(clf, param_grid, cv = k)\n",
    "grid_clf.fit(X_train, y_train)\n",
    "sorted('List of output we can access:\\n',grid_clf.cv_results_.keys())"
   ]
  },
  {
   "cell_type": "code",
   "execution_count": 123,
   "metadata": {},
   "outputs": [
    {
     "data": {
      "image/png": "[encoded data removed]",
      "text/plain": [
       "<matplotlib.figure.Figure at 0x115902048>"
      ]
     },
     "metadata": {},
     "output_type": "display_data"
    }
   ],
   "source": [
    "# Heatmap of maximum depth, vs number of estimators on the Gini coefficient\n",
    "scores = grid_clf.cv_results_['mean_test_score'].reshape(len(n_estimators),len(max_depth))\n",
    "plt.figure(figsize=(8, 6))\n",
    "plt.subplots_adjust(left=.2, right=0.95, bottom=0.15, top=0.95)\n",
    "plt.imshow(scores, interpolation='nearest', cmap=plt.cm.hot)\n",
    "plt.xlabel('n_estimators')\n",
    "plt.ylabel('max_depth')\n",
    "plt.colorbar()\n",
    "plt.xticks(np.arange(len(n_estimators)), n_estimators)\n",
    "plt.yticks(np.arange(len(max_depth)), max_depth)\n",
    "plt.title('Grid Search Gini Score')\n",
    "plt.show()"
   ]
  },
  {
   "cell_type": "code",
   "execution_count": null,
   "metadata": {
    "collapsed": true
   },
   "outputs": [],
   "source": [
    "# Another option for K-fold Cross validation with explicit/manual parameter grid search that we can use for Residual Networks\n",
    "\n",
    "X, y = train.drop(['target','id'], axis=1).values,train.loc[:,'target'].values\n",
    "# k-fold cross validation\n",
    "k = 5\n",
    "kf = KFold(n_splits=k, random_state=116687, shuffle=True)\n",
    "kf.get_n_splits(X)\n",
    "\n",
    "# Fitting Random Forests\n",
    "for train_index, test_index in kf.split(X):\n",
    "    print(\"TRAIN:\", train_index, \"TEST:\", test_index)\n",
    "    X_train, X_test = X[train_index], X[test_index]\n",
    "    y_train, y_test = y[train_index], y[test_index]    \n",
    "\n",
    "\n",
    "    clf = RandomForestClassifier(max_depth=2, random_state=0)\n",
    "    clf.fit(X_train, y_train)\n",
    "    RandomForestClassifier(bootstrap=True, class_weight=None, criterion='gini',\n",
    "                max_depth=2, max_features='auto', max_leaf_nodes=None,\n",
    "                min_impurity_decrease=0.0, min_impurity_split=None,\n",
    "                min_samples_leaf=1, min_samples_split=2,\n",
    "                min_weight_fraction_leaf=0.0, n_estimators=10, n_jobs=1,\n",
    "                oob_score=False, random_state=0, verbose=0, warm_start=False)\n",
    "    #print(clf.feature_importances_)\n",
    "    # Error calculation\n",
    "    #print(clf.predict([[0, 0, 0, 0]]))\n",
    "    \n"
   ]
  }
 ],
 "metadata": {
  "kernelspec": {
   "display_name": "Python 3",
   "language": "python",
   "name": "python3"
  },
  "language_info": {
   "codemirror_mode": {
    "name": "ipython",
    "version": 3
   },
   "file_extension": ".py",
   "mimetype": "text/x-python",
   "name": "python",
   "nbconvert_exporter": "python",
   "pygments_lexer": "ipython3",
   "version": "3.6.1"
  }
 },
 "nbformat": 4,
 "nbformat_minor": 2
}
