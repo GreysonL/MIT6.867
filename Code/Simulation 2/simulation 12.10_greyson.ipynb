{
 "cells": [
  {
   "cell_type": "code",
   "execution_count": 1,
   "metadata": {},
   "outputs": [
    {
     "name": "stderr",
     "output_type": "stream",
     "text": [
      "Using TensorFlow backend.\n"
     ]
    }
   ],
   "source": [
    "import random\n",
    "import numpy as np\n",
    "import pandas as pd\n",
    "from sklearn.ensemble import ExtraTreesClassifier\n",
    "from sklearn.linear_model import LogisticRegression\n",
    "import matplotlib.pyplot as plt\n",
    "import keras\n",
    "from keras.models import Sequential\n",
    "from keras.layers import Dense, Dropout, Activation\n",
    "from keras.optimizers import SGD"
   ]
  },
  {
   "cell_type": "code",
   "execution_count": 2,
   "metadata": {},
   "outputs": [
    {
     "data": {
      "text/html": [
       "<div>\n",
       "<table border=\"1\" class=\"dataframe\">\n",
       "  <thead>\n",
       "    <tr style=\"text-align: right;\">\n",
       "      <th></th>\n",
       "      <th>x1</th>\n",
       "      <th>x2</th>\n",
       "      <th>x3</th>\n",
       "      <th>x4</th>\n",
       "      <th>x5</th>\n",
       "      <th>x6</th>\n",
       "    </tr>\n",
       "  </thead>\n",
       "  <tbody>\n",
       "    <tr>\n",
       "      <th>0</th>\n",
       "      <td>-0.154005</td>\n",
       "      <td>0.197094</td>\n",
       "      <td>0.123579</td>\n",
       "      <td>4</td>\n",
       "      <td>-1.023316</td>\n",
       "      <td>1</td>\n",
       "    </tr>\n",
       "    <tr>\n",
       "      <th>1</th>\n",
       "      <td>-1.069379</td>\n",
       "      <td>1.314449</td>\n",
       "      <td>-2.132584</td>\n",
       "      <td>3</td>\n",
       "      <td>0.256518</td>\n",
       "      <td>2</td>\n",
       "    </tr>\n",
       "    <tr>\n",
       "      <th>2</th>\n",
       "      <td>0.161591</td>\n",
       "      <td>0.503896</td>\n",
       "      <td>1.493674</td>\n",
       "      <td>2</td>\n",
       "      <td>0.631397</td>\n",
       "      <td>2</td>\n",
       "    </tr>\n",
       "    <tr>\n",
       "      <th>3</th>\n",
       "      <td>0.029792</td>\n",
       "      <td>-0.061004</td>\n",
       "      <td>-0.568154</td>\n",
       "      <td>2</td>\n",
       "      <td>-1.651640</td>\n",
       "      <td>2</td>\n",
       "    </tr>\n",
       "    <tr>\n",
       "      <th>4</th>\n",
       "      <td>-1.079196</td>\n",
       "      <td>0.091550</td>\n",
       "      <td>-0.817524</td>\n",
       "      <td>1</td>\n",
       "      <td>-0.372353</td>\n",
       "      <td>2</td>\n",
       "    </tr>\n",
       "  </tbody>\n",
       "</table>\n",
       "</div>"
      ],
      "text/plain": [
       "         x1        x2        x3  x4        x5  x6\n",
       "0 -0.154005  0.197094  0.123579   4 -1.023316   1\n",
       "1 -1.069379  1.314449 -2.132584   3  0.256518   2\n",
       "2  0.161591  0.503896  1.493674   2  0.631397   2\n",
       "3  0.029792 -0.061004 -0.568154   2 -1.651640   2\n",
       "4 -1.079196  0.091550 -0.817524   1 -0.372353   2"
      ]
     },
     "execution_count": 2,
     "metadata": {},
     "output_type": "execute_result"
    }
   ],
   "source": [
    "np.random.seed(867)\n",
    "N = 5000\n",
    "x1 = np.random.normal(0, 1, N)\n",
    "x2 = np.random.normal(0, 1, N)\n",
    "x3 = np.random.normal(0, 1, N)\n",
    "x4 = np.random.randint(1, 5, N)\n",
    "x5 = np.random.normal(0, 1, N)\n",
    "x6 = np.random.randint(1, 5, N)\n",
    "d = {'x1': x1, 'x2': x2, 'x3': x3,'x4': x4,'x5': x5,'x6': x6}\n",
    "df = pd.DataFrame(data=d)\n",
    "df.head()"
   ]
  },
  {
   "cell_type": "code",
   "execution_count": 3,
   "metadata": {},
   "outputs": [
    {
     "data": {
      "text/html": [
       "<div>\n",
       "<table border=\"1\" class=\"dataframe\">\n",
       "  <thead>\n",
       "    <tr style=\"text-align: right;\">\n",
       "      <th></th>\n",
       "      <th>x1</th>\n",
       "      <th>x2</th>\n",
       "      <th>x3</th>\n",
       "      <th>x5</th>\n",
       "      <th>x4_1</th>\n",
       "      <th>x4_2</th>\n",
       "      <th>x4_3</th>\n",
       "      <th>x4_4</th>\n",
       "      <th>x6_1</th>\n",
       "      <th>x6_2</th>\n",
       "      <th>x6_3</th>\n",
       "      <th>x6_4</th>\n",
       "    </tr>\n",
       "  </thead>\n",
       "  <tbody>\n",
       "    <tr>\n",
       "      <th>0</th>\n",
       "      <td>-0.154005</td>\n",
       "      <td>0.197094</td>\n",
       "      <td>0.123579</td>\n",
       "      <td>-1.023316</td>\n",
       "      <td>0.0</td>\n",
       "      <td>0.0</td>\n",
       "      <td>0.0</td>\n",
       "      <td>1.0</td>\n",
       "      <td>1.0</td>\n",
       "      <td>0.0</td>\n",
       "      <td>0.0</td>\n",
       "      <td>0.0</td>\n",
       "    </tr>\n",
       "    <tr>\n",
       "      <th>1</th>\n",
       "      <td>-1.069379</td>\n",
       "      <td>1.314449</td>\n",
       "      <td>-2.132584</td>\n",
       "      <td>0.256518</td>\n",
       "      <td>0.0</td>\n",
       "      <td>0.0</td>\n",
       "      <td>1.0</td>\n",
       "      <td>0.0</td>\n",
       "      <td>0.0</td>\n",
       "      <td>1.0</td>\n",
       "      <td>0.0</td>\n",
       "      <td>0.0</td>\n",
       "    </tr>\n",
       "    <tr>\n",
       "      <th>2</th>\n",
       "      <td>0.161591</td>\n",
       "      <td>0.503896</td>\n",
       "      <td>1.493674</td>\n",
       "      <td>0.631397</td>\n",
       "      <td>0.0</td>\n",
       "      <td>1.0</td>\n",
       "      <td>0.0</td>\n",
       "      <td>0.0</td>\n",
       "      <td>0.0</td>\n",
       "      <td>1.0</td>\n",
       "      <td>0.0</td>\n",
       "      <td>0.0</td>\n",
       "    </tr>\n",
       "    <tr>\n",
       "      <th>3</th>\n",
       "      <td>0.029792</td>\n",
       "      <td>-0.061004</td>\n",
       "      <td>-0.568154</td>\n",
       "      <td>-1.651640</td>\n",
       "      <td>0.0</td>\n",
       "      <td>1.0</td>\n",
       "      <td>0.0</td>\n",
       "      <td>0.0</td>\n",
       "      <td>0.0</td>\n",
       "      <td>1.0</td>\n",
       "      <td>0.0</td>\n",
       "      <td>0.0</td>\n",
       "    </tr>\n",
       "    <tr>\n",
       "      <th>4</th>\n",
       "      <td>-1.079196</td>\n",
       "      <td>0.091550</td>\n",
       "      <td>-0.817524</td>\n",
       "      <td>-0.372353</td>\n",
       "      <td>1.0</td>\n",
       "      <td>0.0</td>\n",
       "      <td>0.0</td>\n",
       "      <td>0.0</td>\n",
       "      <td>0.0</td>\n",
       "      <td>1.0</td>\n",
       "      <td>0.0</td>\n",
       "      <td>0.0</td>\n",
       "    </tr>\n",
       "  </tbody>\n",
       "</table>\n",
       "</div>"
      ],
      "text/plain": [
       "         x1        x2        x3        x5  x4_1  x4_2  x4_3  x4_4  x6_1  x6_2  \\\n",
       "0 -0.154005  0.197094  0.123579 -1.023316   0.0   0.0   0.0   1.0   1.0   0.0   \n",
       "1 -1.069379  1.314449 -2.132584  0.256518   0.0   0.0   1.0   0.0   0.0   1.0   \n",
       "2  0.161591  0.503896  1.493674  0.631397   0.0   1.0   0.0   0.0   0.0   1.0   \n",
       "3  0.029792 -0.061004 -0.568154 -1.651640   0.0   1.0   0.0   0.0   0.0   1.0   \n",
       "4 -1.079196  0.091550 -0.817524 -0.372353   1.0   0.0   0.0   0.0   0.0   1.0   \n",
       "\n",
       "   x6_3  x6_4  \n",
       "0   0.0   0.0  \n",
       "1   0.0   0.0  \n",
       "2   0.0   0.0  \n",
       "3   0.0   0.0  \n",
       "4   0.0   0.0  "
      ]
     },
     "execution_count": 3,
     "metadata": {},
     "output_type": "execute_result"
    }
   ],
   "source": [
    "df=pd.get_dummies(df, columns=[\"x4\",\"x6\"])\n",
    "df.head()"
   ]
  },
  {
   "cell_type": "code",
   "execution_count": 4,
   "metadata": {},
   "outputs": [
    {
     "data": {
      "text/html": [
       "<div>\n",
       "<table border=\"1\" class=\"dataframe\">\n",
       "  <thead>\n",
       "    <tr style=\"text-align: right;\">\n",
       "      <th></th>\n",
       "      <th>x1</th>\n",
       "      <th>x2</th>\n",
       "      <th>x3</th>\n",
       "      <th>x5</th>\n",
       "      <th>x4_1</th>\n",
       "      <th>x4_2</th>\n",
       "      <th>x4_3</th>\n",
       "      <th>x4_4</th>\n",
       "      <th>x6_1</th>\n",
       "      <th>x6_2</th>\n",
       "      <th>...</th>\n",
       "      <th>0</th>\n",
       "      <th>0</th>\n",
       "      <th>0</th>\n",
       "      <th>0</th>\n",
       "      <th>0</th>\n",
       "      <th>0</th>\n",
       "      <th>0</th>\n",
       "      <th>0</th>\n",
       "      <th>0</th>\n",
       "      <th>0</th>\n",
       "    </tr>\n",
       "  </thead>\n",
       "  <tbody>\n",
       "    <tr>\n",
       "      <th>0</th>\n",
       "      <td>-0.154005</td>\n",
       "      <td>0.197094</td>\n",
       "      <td>0.123579</td>\n",
       "      <td>-1.023316</td>\n",
       "      <td>0.0</td>\n",
       "      <td>0.0</td>\n",
       "      <td>0.0</td>\n",
       "      <td>1.0</td>\n",
       "      <td>1.0</td>\n",
       "      <td>0.0</td>\n",
       "      <td>...</td>\n",
       "      <td>1.0</td>\n",
       "      <td>0.0</td>\n",
       "      <td>0.0</td>\n",
       "      <td>0.0</td>\n",
       "      <td>0.0</td>\n",
       "      <td>0.0</td>\n",
       "      <td>0.0</td>\n",
       "      <td>0.0</td>\n",
       "      <td>0.0</td>\n",
       "      <td>0.0</td>\n",
       "    </tr>\n",
       "    <tr>\n",
       "      <th>1</th>\n",
       "      <td>-1.069379</td>\n",
       "      <td>1.314449</td>\n",
       "      <td>-2.132584</td>\n",
       "      <td>0.256518</td>\n",
       "      <td>0.0</td>\n",
       "      <td>0.0</td>\n",
       "      <td>1.0</td>\n",
       "      <td>0.0</td>\n",
       "      <td>0.0</td>\n",
       "      <td>1.0</td>\n",
       "      <td>...</td>\n",
       "      <td>0.0</td>\n",
       "      <td>0.0</td>\n",
       "      <td>0.0</td>\n",
       "      <td>0.0</td>\n",
       "      <td>0.0</td>\n",
       "      <td>0.0</td>\n",
       "      <td>0.0</td>\n",
       "      <td>0.0</td>\n",
       "      <td>0.0</td>\n",
       "      <td>0.0</td>\n",
       "    </tr>\n",
       "    <tr>\n",
       "      <th>2</th>\n",
       "      <td>0.161591</td>\n",
       "      <td>0.503896</td>\n",
       "      <td>1.493674</td>\n",
       "      <td>0.631397</td>\n",
       "      <td>0.0</td>\n",
       "      <td>1.0</td>\n",
       "      <td>0.0</td>\n",
       "      <td>0.0</td>\n",
       "      <td>0.0</td>\n",
       "      <td>1.0</td>\n",
       "      <td>...</td>\n",
       "      <td>0.0</td>\n",
       "      <td>0.0</td>\n",
       "      <td>0.0</td>\n",
       "      <td>0.0</td>\n",
       "      <td>0.0</td>\n",
       "      <td>0.0</td>\n",
       "      <td>0.0</td>\n",
       "      <td>0.0</td>\n",
       "      <td>0.0</td>\n",
       "      <td>0.0</td>\n",
       "    </tr>\n",
       "    <tr>\n",
       "      <th>3</th>\n",
       "      <td>0.029792</td>\n",
       "      <td>-0.061004</td>\n",
       "      <td>-0.568154</td>\n",
       "      <td>-1.651640</td>\n",
       "      <td>0.0</td>\n",
       "      <td>1.0</td>\n",
       "      <td>0.0</td>\n",
       "      <td>0.0</td>\n",
       "      <td>0.0</td>\n",
       "      <td>1.0</td>\n",
       "      <td>...</td>\n",
       "      <td>0.0</td>\n",
       "      <td>0.0</td>\n",
       "      <td>0.0</td>\n",
       "      <td>0.0</td>\n",
       "      <td>0.0</td>\n",
       "      <td>0.0</td>\n",
       "      <td>0.0</td>\n",
       "      <td>0.0</td>\n",
       "      <td>0.0</td>\n",
       "      <td>0.0</td>\n",
       "    </tr>\n",
       "    <tr>\n",
       "      <th>4</th>\n",
       "      <td>-1.079196</td>\n",
       "      <td>0.091550</td>\n",
       "      <td>-0.817524</td>\n",
       "      <td>-0.372353</td>\n",
       "      <td>1.0</td>\n",
       "      <td>0.0</td>\n",
       "      <td>0.0</td>\n",
       "      <td>0.0</td>\n",
       "      <td>0.0</td>\n",
       "      <td>1.0</td>\n",
       "      <td>...</td>\n",
       "      <td>0.0</td>\n",
       "      <td>0.0</td>\n",
       "      <td>0.0</td>\n",
       "      <td>0.0</td>\n",
       "      <td>0.0</td>\n",
       "      <td>0.0</td>\n",
       "      <td>0.0</td>\n",
       "      <td>0.0</td>\n",
       "      <td>0.0</td>\n",
       "      <td>0.0</td>\n",
       "    </tr>\n",
       "  </tbody>\n",
       "</table>\n",
       "<p>5 rows × 78 columns</p>\n",
       "</div>"
      ],
      "text/plain": [
       "         x1        x2        x3        x5  x4_1  x4_2  x4_3  x4_4  x6_1  x6_2  \\\n",
       "0 -0.154005  0.197094  0.123579 -1.023316   0.0   0.0   0.0   1.0   1.0   0.0   \n",
       "1 -1.069379  1.314449 -2.132584  0.256518   0.0   0.0   1.0   0.0   0.0   1.0   \n",
       "2  0.161591  0.503896  1.493674  0.631397   0.0   1.0   0.0   0.0   0.0   1.0   \n",
       "3  0.029792 -0.061004 -0.568154 -1.651640   0.0   1.0   0.0   0.0   0.0   1.0   \n",
       "4 -1.079196  0.091550 -0.817524 -0.372353   1.0   0.0   0.0   0.0   0.0   1.0   \n",
       "\n",
       "  ...     0    0    0    0    0    0    0    0    0    0  \n",
       "0 ...   1.0  0.0  0.0  0.0  0.0  0.0  0.0  0.0  0.0  0.0  \n",
       "1 ...   0.0  0.0  0.0  0.0  0.0  0.0  0.0  0.0  0.0  0.0  \n",
       "2 ...   0.0  0.0  0.0  0.0  0.0  0.0  0.0  0.0  0.0  0.0  \n",
       "3 ...   0.0  0.0  0.0  0.0  0.0  0.0  0.0  0.0  0.0  0.0  \n",
       "4 ...   0.0  0.0  0.0  0.0  0.0  0.0  0.0  0.0  0.0  0.0  \n",
       "\n",
       "[5 rows x 78 columns]"
      ]
     },
     "execution_count": 4,
     "metadata": {},
     "output_type": "execute_result"
    }
   ],
   "source": [
    "for i in range(11):\n",
    "    for j in np.arange(i+1,12):\n",
    "            inter = df.iloc[:,i]*df.iloc[:,j]\n",
    "            df = pd.concat([df, inter], axis=1)\n",
    "df.head()"
   ]
  },
  {
   "cell_type": "code",
   "execution_count": 5,
   "metadata": {},
   "outputs": [],
   "source": [
    "x4_1 = df.iloc[:,4]\n",
    "x4_2 = df.iloc[:,5]\n",
    "x4_3 = df.iloc[:,6]\n",
    "x4_4 = df.iloc[:,7]\n",
    "## main effect for x1-x4\n",
    "main_effect = [0.4,0.1,0.1,0.1,0.2,0.3,0.4]\n",
    "## interaction between x1 and x2, x3 and x4\n",
    "inter_effect = [1,0.5,1,2,3]"
   ]
  },
  {
   "cell_type": "code",
   "execution_count": 6,
   "metadata": {},
   "outputs": [],
   "source": [
    "main_matrix = np.column_stack((x1,x2**2,0.5*np.exp(x3),x4_1,x4_2,x4_3,x4_4))\n",
    "inter_matrix = np.column_stack((x1*x2**2,0.5*np.exp(x3)*x4_1,0.5*np.exp(x3)*x4_2,0.5*np.exp(x3)*x4_3,0.5*np.exp(x3)*x4_4))"
   ]
  },
  {
   "cell_type": "code",
   "execution_count": 7,
   "metadata": {},
   "outputs": [],
   "source": [
    "eta_wo_intercept = np.dot(main_matrix,main_effect) + np.dot(inter_matrix,inter_effect)\n",
    "intercept = -np.mean(eta_wo_intercept)\n",
    "np.random.seed(867)\n",
    "eps = np.random.normal(0, 1, N)\n",
    "eta = eta_wo_intercept + intercept + eps\n",
    "p = np.exp(eta)/(1+np.exp(eta))\n",
    "y = np.zeros(N)\n",
    "y[p>0.5]=1"
   ]
  },
  {
   "cell_type": "code",
   "execution_count": 51,
   "metadata": {},
   "outputs": [
    {
     "data": {
      "text/plain": [
       "array([ 0,  1,  2,  3,  4,  5,  7,  9, 12, 13, 15, 23, 25, 27, 28, 31, 32,\n",
       "       34, 36, 37, 39, 40, 43, 62], dtype=int64)"
      ]
     },
     "execution_count": 51,
     "metadata": {},
     "output_type": "execute_result"
    }
   ],
   "source": [
    "### LASSO with logistic regression\n",
    "lam=5\n",
    "logistic = LogisticRegression(penalty='l1',tol=1e-5,C=1/lam,fit_intercept=True,intercept_scaling=1e6,max_iter=1e5)\n",
    "result = logistic.fit(df,y)\n",
    "useful_index = np.where(logistic.coef_!= 0)[1]\n",
    "num_main = sum(useful_index<=11)\n",
    "useful_index"
   ]
  },
  {
   "cell_type": "code",
   "execution_count": 52,
   "metadata": {},
   "outputs": [
    {
     "data": {
      "text/html": [
       "<div>\n",
       "<table border=\"1\" class=\"dataframe\">\n",
       "  <thead>\n",
       "    <tr style=\"text-align: right;\">\n",
       "      <th></th>\n",
       "      <th>x1</th>\n",
       "      <th>x2</th>\n",
       "      <th>x3</th>\n",
       "      <th>x5</th>\n",
       "      <th>x4_1</th>\n",
       "      <th>x4_2</th>\n",
       "      <th>x4_4</th>\n",
       "      <th>x6_2</th>\n",
       "      <th>0</th>\n",
       "      <th>0</th>\n",
       "      <th>...</th>\n",
       "      <th>0</th>\n",
       "      <th>0</th>\n",
       "      <th>0</th>\n",
       "      <th>0</th>\n",
       "      <th>0</th>\n",
       "      <th>0</th>\n",
       "      <th>0</th>\n",
       "      <th>0</th>\n",
       "      <th>0</th>\n",
       "      <th>0</th>\n",
       "    </tr>\n",
       "  </thead>\n",
       "  <tbody>\n",
       "    <tr>\n",
       "      <th>0</th>\n",
       "      <td>-0.154005</td>\n",
       "      <td>0.197094</td>\n",
       "      <td>0.123579</td>\n",
       "      <td>-1.023316</td>\n",
       "      <td>0.0</td>\n",
       "      <td>0.0</td>\n",
       "      <td>1.0</td>\n",
       "      <td>0.0</td>\n",
       "      <td>-0.030353</td>\n",
       "      <td>-0.019032</td>\n",
       "      <td>...</td>\n",
       "      <td>0.197094</td>\n",
       "      <td>0.0</td>\n",
       "      <td>0.0</td>\n",
       "      <td>0.000000</td>\n",
       "      <td>0.000000</td>\n",
       "      <td>0.123579</td>\n",
       "      <td>0.000000</td>\n",
       "      <td>0.0</td>\n",
       "      <td>-0.000000</td>\n",
       "      <td>0.0</td>\n",
       "    </tr>\n",
       "    <tr>\n",
       "      <th>1</th>\n",
       "      <td>-1.069379</td>\n",
       "      <td>1.314449</td>\n",
       "      <td>-2.132584</td>\n",
       "      <td>0.256518</td>\n",
       "      <td>0.0</td>\n",
       "      <td>0.0</td>\n",
       "      <td>0.0</td>\n",
       "      <td>1.0</td>\n",
       "      <td>-1.405644</td>\n",
       "      <td>2.280539</td>\n",
       "      <td>...</td>\n",
       "      <td>0.000000</td>\n",
       "      <td>0.0</td>\n",
       "      <td>0.0</td>\n",
       "      <td>-0.000000</td>\n",
       "      <td>-2.132584</td>\n",
       "      <td>-0.000000</td>\n",
       "      <td>-2.132584</td>\n",
       "      <td>-0.0</td>\n",
       "      <td>0.000000</td>\n",
       "      <td>0.0</td>\n",
       "    </tr>\n",
       "    <tr>\n",
       "      <th>2</th>\n",
       "      <td>0.161591</td>\n",
       "      <td>0.503896</td>\n",
       "      <td>1.493674</td>\n",
       "      <td>0.631397</td>\n",
       "      <td>0.0</td>\n",
       "      <td>1.0</td>\n",
       "      <td>0.0</td>\n",
       "      <td>1.0</td>\n",
       "      <td>0.081425</td>\n",
       "      <td>0.241364</td>\n",
       "      <td>...</td>\n",
       "      <td>0.000000</td>\n",
       "      <td>0.0</td>\n",
       "      <td>0.0</td>\n",
       "      <td>0.000000</td>\n",
       "      <td>0.000000</td>\n",
       "      <td>0.000000</td>\n",
       "      <td>1.493674</td>\n",
       "      <td>0.0</td>\n",
       "      <td>0.631397</td>\n",
       "      <td>0.0</td>\n",
       "    </tr>\n",
       "    <tr>\n",
       "      <th>3</th>\n",
       "      <td>0.029792</td>\n",
       "      <td>-0.061004</td>\n",
       "      <td>-0.568154</td>\n",
       "      <td>-1.651640</td>\n",
       "      <td>0.0</td>\n",
       "      <td>1.0</td>\n",
       "      <td>0.0</td>\n",
       "      <td>1.0</td>\n",
       "      <td>-0.001817</td>\n",
       "      <td>-0.016926</td>\n",
       "      <td>...</td>\n",
       "      <td>-0.000000</td>\n",
       "      <td>-0.0</td>\n",
       "      <td>-0.0</td>\n",
       "      <td>-0.000000</td>\n",
       "      <td>-0.000000</td>\n",
       "      <td>-0.000000</td>\n",
       "      <td>-0.568154</td>\n",
       "      <td>-0.0</td>\n",
       "      <td>-1.651640</td>\n",
       "      <td>0.0</td>\n",
       "    </tr>\n",
       "    <tr>\n",
       "      <th>4</th>\n",
       "      <td>-1.079196</td>\n",
       "      <td>0.091550</td>\n",
       "      <td>-0.817524</td>\n",
       "      <td>-0.372353</td>\n",
       "      <td>1.0</td>\n",
       "      <td>0.0</td>\n",
       "      <td>0.0</td>\n",
       "      <td>1.0</td>\n",
       "      <td>-0.098800</td>\n",
       "      <td>0.882269</td>\n",
       "      <td>...</td>\n",
       "      <td>0.000000</td>\n",
       "      <td>0.0</td>\n",
       "      <td>0.0</td>\n",
       "      <td>-0.817524</td>\n",
       "      <td>-0.000000</td>\n",
       "      <td>-0.000000</td>\n",
       "      <td>-0.817524</td>\n",
       "      <td>-0.0</td>\n",
       "      <td>-0.000000</td>\n",
       "      <td>0.0</td>\n",
       "    </tr>\n",
       "  </tbody>\n",
       "</table>\n",
       "<p>5 rows × 24 columns</p>\n",
       "</div>"
      ],
      "text/plain": [
       "         x1        x2        x3        x5  x4_1  x4_2  x4_4  x6_2         0  \\\n",
       "0 -0.154005  0.197094  0.123579 -1.023316   0.0   0.0   1.0   0.0 -0.030353   \n",
       "1 -1.069379  1.314449 -2.132584  0.256518   0.0   0.0   0.0   1.0 -1.405644   \n",
       "2  0.161591  0.503896  1.493674  0.631397   0.0   1.0   0.0   1.0  0.081425   \n",
       "3  0.029792 -0.061004 -0.568154 -1.651640   0.0   1.0   0.0   1.0 -0.001817   \n",
       "4 -1.079196  0.091550 -0.817524 -0.372353   1.0   0.0   0.0   1.0 -0.098800   \n",
       "\n",
       "          0 ...          0    0    0         0         0         0         0  \\\n",
       "0 -0.019032 ...   0.197094  0.0  0.0  0.000000  0.000000  0.123579  0.000000   \n",
       "1  2.280539 ...   0.000000  0.0  0.0 -0.000000 -2.132584 -0.000000 -2.132584   \n",
       "2  0.241364 ...   0.000000  0.0  0.0  0.000000  0.000000  0.000000  1.493674   \n",
       "3 -0.016926 ...  -0.000000 -0.0 -0.0 -0.000000 -0.000000 -0.000000 -0.568154   \n",
       "4  0.882269 ...   0.000000  0.0  0.0 -0.817524 -0.000000 -0.000000 -0.817524   \n",
       "\n",
       "     0         0    0  \n",
       "0  0.0 -0.000000  0.0  \n",
       "1 -0.0  0.000000  0.0  \n",
       "2  0.0  0.631397  0.0  \n",
       "3 -0.0 -1.651640  0.0  \n",
       "4 -0.0 -0.000000  0.0  \n",
       "\n",
       "[5 rows x 24 columns]"
      ]
     },
     "execution_count": 52,
     "metadata": {},
     "output_type": "execute_result"
    }
   ],
   "source": [
    "x=df.iloc[:,useful_index]\n",
    "x.head()"
   ]
  },
  {
   "cell_type": "code",
   "execution_count": 53,
   "metadata": {},
   "outputs": [
    {
     "data": {
      "image/png": "[encoded data removed]",
      "text/plain": [
       "<matplotlib.figure.Figure at 0x1eb9855b518>"
      ]
     },
     "metadata": {},
     "output_type": "display_data"
    }
   ],
   "source": [
    "## random forest to see the importance\n",
    "forest = ExtraTreesClassifier(n_estimators=20, random_state=0)\n",
    "forest.fit(x, y)\n",
    "importances = forest.feature_importances_\n",
    "std = np.std([tree.feature_importances_ for tree in forest.estimators_],\n",
    "             axis=0)\n",
    "indices = np.argsort(importances)\n",
    "plt.figure()\n",
    "plt.title(\"Feature importances\")\n",
    "plt.barh(range(x.shape[1]), importances[indices])\n",
    "plt.yticks(range(x.shape[1]), indices)\n",
    "plt.ylim([-1, x.shape[1]])\n",
    "plt.show()"
   ]
  },
  {
   "cell_type": "code",
   "execution_count": 54,
   "metadata": {},
   "outputs": [
    {
     "data": {
      "text/plain": [
       "0.41791571187276522"
      ]
     },
     "execution_count": 54,
     "metadata": {},
     "output_type": "execute_result"
    }
   ],
   "source": [
    "inter_prop = 1-sum(importances[range(num_main)])\n",
    "inter_prop"
   ]
  },
  {
   "cell_type": "code",
   "execution_count": 55,
   "metadata": {},
   "outputs": [
    {
     "name": "stdout",
     "output_type": "stream",
     "text": [
      "1000/1000 [==============================] - 1s 1ms/step\n"
     ]
    }
   ],
   "source": [
    "## with interaction\n",
    "x = np.array(x)\n",
    "y = np.array(y)\n",
    "model1 = Sequential()\n",
    "model1.add(Dense(10, input_dim=np.shape(x)[1], activation='relu'))\n",
    "model1.add(Dense(5, activation='relu'))\n",
    "model1.add(Dense(1, activation='sigmoid'))\n",
    "model1.compile(loss='binary_crossentropy',optimizer='rmsprop',metrics=['accuracy'])\n",
    "trace1 = model1.fit(x[0:4000,:], y[0:4000],epochs=50,batch_size=64,verbose=0)\n",
    "score1 = model1.evaluate(x[4000:5000,:], y[4000:5000], batch_size=64)"
   ]
  },
  {
   "cell_type": "code",
   "execution_count": 56,
   "metadata": {},
   "outputs": [
    {
     "data": {
      "text/plain": [
       "[0.051221471033990384, 0.98199999999999998]"
      ]
     },
     "execution_count": 56,
     "metadata": {},
     "output_type": "execute_result"
    }
   ],
   "source": [
    "score1"
   ]
  },
  {
   "cell_type": "code",
   "execution_count": 57,
   "metadata": {},
   "outputs": [
    {
     "data": {
      "text/plain": [
       "8"
      ]
     },
     "execution_count": 57,
     "metadata": {},
     "output_type": "execute_result"
    }
   ],
   "source": [
    "min(np.where(np.transpose(trace1.history['acc'])>0.95)[0])"
   ]
  },
  {
   "cell_type": "code",
   "execution_count": 58,
   "metadata": {},
   "outputs": [
    {
     "name": "stdout",
     "output_type": "stream",
     "text": [
      "1000/1000 [==============================] - 1s 1ms/step\n"
     ]
    }
   ],
   "source": [
    "## without interaction\n",
    "x = np.array(x)\n",
    "y = np.array(y)\n",
    "model2 = Sequential()\n",
    "model2.add(Dense(10, input_dim=num_main, activation='relu'))\n",
    "model2.add(Dense(5, activation='relu'))\n",
    "model2.add(Dense(1, activation='sigmoid'))\n",
    "model2.compile(loss='binary_crossentropy',optimizer='rmsprop',metrics=['accuracy'])\n",
    "trace2 = model2.fit(x[0:4000,0:num_main], y[0:4000],epochs=50,batch_size=64,verbose=0)\n",
    "score2 = model2.evaluate(x[4000:5000,0:num_main], y[4000:5000], batch_size=64)"
   ]
  },
  {
   "cell_type": "code",
   "execution_count": 59,
   "metadata": {},
   "outputs": [
    {
     "data": {
      "text/plain": [
       "[0.10075744140148163, 0.96000000095367433]"
      ]
     },
     "execution_count": 59,
     "metadata": {},
     "output_type": "execute_result"
    }
   ],
   "source": [
    "score2"
   ]
  },
  {
   "cell_type": "code",
   "execution_count": 60,
   "metadata": {},
   "outputs": [
    {
     "data": {
      "text/plain": [
       "22"
      ]
     },
     "execution_count": 60,
     "metadata": {},
     "output_type": "execute_result"
    }
   ],
   "source": [
    "min(np.where(np.transpose(trace2.history['acc'])>0.95)[0])"
   ]
  },
  {
   "cell_type": "code",
   "execution_count": null,
   "metadata": {},
   "outputs": [
    {
     "name": "stdout",
     "output_type": "stream",
     "text": [
      "1000/1000 [==============================] - 0s 20us/step\n",
      "1000/1000 [==============================] - 0s 26us/step\n",
      "1000/1000 [==============================] - 0s 34us/step\n",
      "1000/1000 [==============================] - 0s 40us/step\n",
      "1000/1000 [==============================] - 0s 49us/step\n",
      "1000/1000 [==============================] - 0s 58us/step\n"
     ]
    }
   ],
   "source": [
    "## Finally, put all the things together, assume there is a shrinkage factor t for the interaction effect\n",
    "## we vary t from 0 to 1.5 with grid level 0.1, and we expect the importance of interaction term increase\n",
    "np.random.seed(867)\n",
    "lam=5  ## tuning parameter in LASSO\n",
    "table = np.zeros((16,7))\n",
    "for i in range(16):\n",
    "    t = 0.1*i\n",
    "    inter_effect = np.array([1,0.5,1,2,3])*t\n",
    "    eta_wo_intercept = np.dot(main_matrix,main_effect) + np.dot(inter_matrix,inter_effect)\n",
    "    intercept = -np.mean(eta_wo_intercept)\n",
    "    eps = np.random.normal(0, 1, N)\n",
    "    eta = eta_wo_intercept + intercept + eps\n",
    "    p = np.exp(eta)/(1+np.exp(eta))\n",
    "    y = np.zeros(N)\n",
    "    y[p>0.5]=1\n",
    "    logistic = LogisticRegression(penalty='l1',tol=1e-5,C=1/lam,fit_intercept=True,intercept_scaling=1e6,max_iter=1e5)\n",
    "    result = logistic.fit(df,y)\n",
    "    useful_index = np.where(logistic.coef_!= 0)[1]\n",
    "    num_main = sum(useful_index<=11)\n",
    "    num_inter = len(useful_index) - num_main\n",
    "    x=df.iloc[:,useful_index]\n",
    "    forest = ExtraTreesClassifier(n_estimators=20, random_state=0)\n",
    "    forest.fit(x, y)\n",
    "    importances = forest.feature_importances_\n",
    "    std = np.std([tree.feature_importances_ for tree in forest.estimators_],\n",
    "                 axis=0)\n",
    "    inter_prop = 1-sum(importances[range(num_main)])\n",
    "    x = np.array(x)\n",
    "    y = np.array(y)\n",
    "    model1 = Sequential()\n",
    "    model1.add(Dense(20, input_dim=np.shape(x)[1], activation='relu'))\n",
    "    model1.add(Dense(10, activation='relu'))\n",
    "    model1.add(Dense(1, activation='sigmoid'))\n",
    "    model1.compile(loss='binary_crossentropy',optimizer='rmsprop',metrics=['accuracy'])\n",
    "    trace1 = model1.fit(x[0:4000,:], y[0:4000],epochs=100,batch_size=64,verbose=0)\n",
    "    score1 = model1.evaluate(x[4000:5000,:], y[4000:5000], batch_size=64)\n",
    "    if len(np.where(np.transpose(trace1.history['acc'])>0.95)[0])==0:\n",
    "        step1=100\n",
    "    else:\n",
    "        step1 = min(np.where(np.transpose(trace1.history['acc'])>0.95)[0])\n",
    "    model2 = Sequential()\n",
    "    model2.add(Dense(20, input_dim=num_main, activation='relu'))\n",
    "    model2.add(Dense(10, activation='relu'))\n",
    "    model2.add(Dense(1, activation='sigmoid'))\n",
    "    model2.compile(loss='binary_crossentropy',optimizer='rmsprop',metrics=['accuracy'])\n",
    "    trace2 = model2.fit(x[0:4000,0:num_main], y[0:4000],epochs=100,batch_size=64,verbose=0)\n",
    "    score2 = model2.evaluate(x[4000:5000,0:num_main], y[4000:5000], batch_size=64)\n",
    "    if len(np.where(np.transpose(trace2.history['acc'])>0.95)[0])==0:\n",
    "        step2=100\n",
    "    else:\n",
    "        step2 = min(np.where(np.transpose(trace2.history['acc'])>0.95)[0])\n",
    "    table[i,:]=np.array([i,num_inter,inter_prop,step1,step2,score1[1],score2[1]])"
   ]
  },
  {
   "cell_type": "code",
   "execution_count": 199,
   "metadata": {},
   "outputs": [
    {
     "data": {
      "image/png": "[encoded data removed]",
      "text/plain": [
       "<matplotlib.figure.Figure at 0x21ac51e55f8>"
      ]
     },
     "metadata": {},
     "output_type": "display_data"
    }
   ],
   "source": [
    "plt.title('Summary')\n",
    "plt.plot(table[:,0],table[:,1],label='importance')\n",
    "plt.plot(table[:,0],table[:,4],label='test acc with inter')\n",
    "plt.plot(table[:,0],table[:,5],label='test acc without inter')\n",
    "plt.legend(loc=2)\n",
    "plt.show()"
   ]
  },
  {
   "cell_type": "code",
   "execution_count": 201,
   "metadata": {},
   "outputs": [
    {
     "data": {
      "image/png": "[encoded data removed]",
      "text/plain": [
       "<matplotlib.figure.Figure at 0x21ac516e470>"
      ]
     },
     "metadata": {},
     "output_type": "display_data"
    }
   ],
   "source": [
    "plt.title('Step')\n",
    "plt.plot(table[:,0],table[:,2],label='steps to 95% with inter')\n",
    "plt.plot(table[:,0],table[:,3],label='steps to 95% without inter')\n",
    "plt.legend(loc=4)\n",
    "plt.show()"
   ]
  },
  {
   "cell_type": "code",
   "execution_count": 7,
   "metadata": {},
   "outputs": [
    {
     "data": {
      "text/html": [
       "<div>\n",
       "<table border=\"1\" class=\"dataframe\">\n",
       "  <thead>\n",
       "    <tr style=\"text-align: right;\">\n",
       "      <th></th>\n",
       "      <th>x1</th>\n",
       "      <th>x2</th>\n",
       "      <th>x3</th>\n",
       "      <th>x4_1</th>\n",
       "      <th>x4_2</th>\n",
       "      <th>x4_3</th>\n",
       "      <th>x4_4</th>\n",
       "      <th>inter1</th>\n",
       "      <th>inter2</th>\n",
       "      <th>inter3</th>\n",
       "      <th>inter4</th>\n",
       "      <th>inter5</th>\n",
       "    </tr>\n",
       "  </thead>\n",
       "  <tbody>\n",
       "    <tr>\n",
       "      <th>0</th>\n",
       "      <td>-0.154005</td>\n",
       "      <td>0.197094</td>\n",
       "      <td>0.123579</td>\n",
       "      <td>0.0</td>\n",
       "      <td>0.0</td>\n",
       "      <td>0.0</td>\n",
       "      <td>1.0</td>\n",
       "      <td>-0.030353</td>\n",
       "      <td>0.000000</td>\n",
       "      <td>0.000000</td>\n",
       "      <td>0.000000</td>\n",
       "      <td>0.123579</td>\n",
       "    </tr>\n",
       "    <tr>\n",
       "      <th>1</th>\n",
       "      <td>-1.069379</td>\n",
       "      <td>1.314449</td>\n",
       "      <td>-2.132584</td>\n",
       "      <td>0.0</td>\n",
       "      <td>0.0</td>\n",
       "      <td>1.0</td>\n",
       "      <td>0.0</td>\n",
       "      <td>-1.405644</td>\n",
       "      <td>-0.000000</td>\n",
       "      <td>-0.000000</td>\n",
       "      <td>-2.132584</td>\n",
       "      <td>-0.000000</td>\n",
       "    </tr>\n",
       "    <tr>\n",
       "      <th>2</th>\n",
       "      <td>0.161591</td>\n",
       "      <td>0.503896</td>\n",
       "      <td>1.493674</td>\n",
       "      <td>0.0</td>\n",
       "      <td>1.0</td>\n",
       "      <td>0.0</td>\n",
       "      <td>0.0</td>\n",
       "      <td>0.081425</td>\n",
       "      <td>0.000000</td>\n",
       "      <td>1.493674</td>\n",
       "      <td>0.000000</td>\n",
       "      <td>0.000000</td>\n",
       "    </tr>\n",
       "    <tr>\n",
       "      <th>3</th>\n",
       "      <td>0.029792</td>\n",
       "      <td>-0.061004</td>\n",
       "      <td>-0.568154</td>\n",
       "      <td>0.0</td>\n",
       "      <td>1.0</td>\n",
       "      <td>0.0</td>\n",
       "      <td>0.0</td>\n",
       "      <td>-0.001817</td>\n",
       "      <td>-0.000000</td>\n",
       "      <td>-0.568154</td>\n",
       "      <td>-0.000000</td>\n",
       "      <td>-0.000000</td>\n",
       "    </tr>\n",
       "    <tr>\n",
       "      <th>4</th>\n",
       "      <td>-1.079196</td>\n",
       "      <td>0.091550</td>\n",
       "      <td>-0.817524</td>\n",
       "      <td>1.0</td>\n",
       "      <td>0.0</td>\n",
       "      <td>0.0</td>\n",
       "      <td>0.0</td>\n",
       "      <td>-0.098800</td>\n",
       "      <td>-0.817524</td>\n",
       "      <td>-0.000000</td>\n",
       "      <td>-0.000000</td>\n",
       "      <td>-0.000000</td>\n",
       "    </tr>\n",
       "  </tbody>\n",
       "</table>\n",
       "</div>"
      ],
      "text/plain": [
       "         x1        x2        x3  x4_1  x4_2  x4_3  x4_4    inter1    inter2  \\\n",
       "0 -0.154005  0.197094  0.123579   0.0   0.0   0.0   1.0 -0.030353  0.000000   \n",
       "1 -1.069379  1.314449 -2.132584   0.0   0.0   1.0   0.0 -1.405644 -0.000000   \n",
       "2  0.161591  0.503896  1.493674   0.0   1.0   0.0   0.0  0.081425  0.000000   \n",
       "3  0.029792 -0.061004 -0.568154   0.0   1.0   0.0   0.0 -0.001817 -0.000000   \n",
       "4 -1.079196  0.091550 -0.817524   1.0   0.0   0.0   0.0 -0.098800 -0.817524   \n",
       "\n",
       "     inter3    inter4    inter5  \n",
       "0  0.000000  0.000000  0.123579  \n",
       "1 -0.000000 -2.132584 -0.000000  \n",
       "2  1.493674  0.000000  0.000000  \n",
       "3 -0.568154 -0.000000 -0.000000  \n",
       "4 -0.000000 -0.000000 -0.000000  "
      ]
     },
     "execution_count": 7,
     "metadata": {},
     "output_type": "execute_result"
    }
   ],
   "source": [
    "#### remove all the irrelavant variables, do a simplified simulation\n",
    "np.random.seed(867)\n",
    "N = 5000\n",
    "x1 = np.random.normal(0, 1, N)\n",
    "x2 = np.random.normal(0, 1, N)\n",
    "x3 = np.random.normal(0, 1, N)\n",
    "x4 = np.random.randint(1, 5, N)\n",
    "d = {'x1': x1, 'x2': x2, 'x3': x3,'x4': x4}\n",
    "df = pd.DataFrame(data=d)\n",
    "df = pd.get_dummies(df, columns=[\"x4\"])\n",
    "x4_1 = df.iloc[:,3]\n",
    "x4_2 = df.iloc[:,4]\n",
    "x4_3 = df.iloc[:,5]\n",
    "x4_4 = df.iloc[:,6]\n",
    "df['inter1'] = pd.Series(x1*x2, index=df.index)\n",
    "df['inter2'] = pd.Series(x4_1*x3, index=df.index)\n",
    "df['inter3'] = pd.Series(x4_2*x3, index=df.index)\n",
    "df['inter4'] = pd.Series(x4_3*x3, index=df.index)\n",
    "df['inter5'] = pd.Series(x4_4*x3, index=df.index)\n",
    "main_effect = [0.4,0.1,0.1,0.1,0.2,0.3,0.4]\n",
    "main_matrix = np.column_stack((x1,x2**2,0.5*np.exp(x3),x4_1,x4_2,x4_3,x4_4))\n",
    "inter_matrix = np.column_stack((x1*x2**2,0.5*np.exp(x3)*x4_1,0.5*np.exp(x3)*x4_2,0.5*np.exp(x3)*x4_3,0.5*np.exp(x3)*x4_4))\n",
    "df.head()"
   ]
  },
  {
   "cell_type": "code",
   "execution_count": 42,
   "metadata": {},
   "outputs": [
    {
     "name": "stdout",
     "output_type": "stream",
     "text": [
      "1000/1000 [==============================] - 1s 1ms/step\n",
      "1000/1000 [==============================] - 1s 1ms/step\n",
      "1000/1000 [==============================] - 1s 1ms/step\n",
      "1000/1000 [==============================] - 1s 1ms/step\n",
      "1000/1000 [==============================] - 1s 1ms/step\n",
      "1000/1000 [==============================] - 1s 1ms/step\n",
      "1000/1000 [==============================] - 1s 1ms/step\n",
      "1000/1000 [==============================] - 1s 1ms/step\n",
      "1000/1000 [==============================] - 1s 1ms/step\n",
      "1000/1000 [==============================] - 1s 1ms/step\n",
      "1000/1000 [==============================] - 1s 1ms/step\n",
      "1000/1000 [==============================] - 1s 1ms/step\n",
      "1000/1000 [==============================] - 1s 1ms/step\n",
      "1000/1000 [==============================] - 1s 1ms/step\n",
      "1000/1000 [==============================] - 1s 1ms/step\n",
      "1000/1000 [==============================] - 1s 1ms/step\n",
      "1000/1000 [==============================] - 1s 1ms/step\n",
      "1000/1000 [==============================] - 1s 1ms/step\n",
      "1000/1000 [==============================] - 1s 1ms/step\n",
      "1000/1000 [==============================] - 1s 1ms/step\n",
      "1000/1000 [==============================] - 1s 1ms/step\n",
      "1000/1000 [==============================] - 1s 1ms/step\n"
     ]
    }
   ],
   "source": [
    "np.random.seed(867)\n",
    "table = np.zeros((11,6))\n",
    "for i in range(11):\n",
    "    t = 0.1*i\n",
    "    inter_effect = np.array([1,0.5,1,2,3])*t\n",
    "    eta_wo_intercept = np.dot(main_matrix,main_effect) + np.dot(inter_matrix,inter_effect)\n",
    "    intercept = -np.mean(eta_wo_intercept)\n",
    "    eps = np.random.normal(0, 1, N)\n",
    "    eta = eta_wo_intercept + intercept + eps\n",
    "    p = np.exp(eta)/(1+np.exp(eta))\n",
    "    y = np.zeros(N)\n",
    "    y[p>0.5]=1\n",
    "    forest = ExtraTreesClassifier(n_estimators=20, random_state=0)\n",
    "    forest.fit(df, y)\n",
    "    importances = forest.feature_importances_\n",
    "    std = np.std([tree.feature_importances_ for tree in forest.estimators_],\n",
    "                 axis=0)\n",
    "    inter_prop = 1-sum(importances[range(7)])\n",
    "    x = np.array(df)\n",
    "    y = np.array(y)\n",
    "    model1 = Sequential()\n",
    "    model1.add(Dense(20, input_dim=np.shape(x)[1], activation='relu'))\n",
    "    model1.add(Dense(10, activation='relu'))\n",
    "    model1.add(Dense(1, activation='sigmoid'))\n",
    "    model1.compile(loss='binary_crossentropy',optimizer='rmsprop',metrics=['accuracy'])\n",
    "    trace1 = model1.fit(x[0:4000,:], y[0:4000],epochs=100,batch_size=64,verbose=0)\n",
    "    score1 = model1.evaluate(x[4000:5000,:], y[4000:5000], batch_size=64)\n",
    "    if len(np.where(np.transpose(trace1.history['acc'])>0.80)[0])==0:\n",
    "        step1=100\n",
    "    else:\n",
    "        step1 = min(np.where(np.transpose(trace1.history['acc'])>0.80)[0])\n",
    "    model2 = Sequential()\n",
    "    num_main = 7\n",
    "    model2.add(Dense(20, input_dim=num_main, activation='relu'))\n",
    "    model2.add(Dense(10, activation='relu'))\n",
    "    model2.add(Dense(1, activation='sigmoid'))\n",
    "    model2.compile(loss='binary_crossentropy',optimizer='rmsprop',metrics=['accuracy'])\n",
    "    trace2 = model2.fit(x[0:4000,0:num_main], y[0:4000],epochs=100,batch_size=64,verbose=0)\n",
    "    score2 = model2.evaluate(x[4000:5000,0:num_main], y[4000:5000], batch_size=64)\n",
    "    if len(np.where(np.transpose(trace2.history['acc'])>0.80)[0])==0:\n",
    "        step2=100\n",
    "    else:\n",
    "        step2 = min(np.where(np.transpose(trace2.history['acc'])>0.80)[0])\n",
    "    table[i,:]=np.array([i,inter_prop,step1,step2,score1[1],score2[1]])"
   ]
  },
  {
   "cell_type": "code",
   "execution_count": 43,
   "metadata": {},
   "outputs": [
    {
     "data": {
      "image/png": "[encoded data removed]",
      "text/plain": [
       "<matplotlib.figure.Figure at 0x1eb89ec8978>"
      ]
     },
     "metadata": {},
     "output_type": "display_data"
    }
   ],
   "source": [
    "plt.title('Summary')\n",
    "plt.plot(table[:,0],table[:,1],label='importance')\n",
    "plt.plot(table[:,0],table[:,4],label='test acc with inter')\n",
    "plt.plot(table[:,0],table[:,5],label='test acc without inter')\n",
    "plt.legend(bbox_to_anchor=(1.05, 1), loc=2, borderaxespad=0.)\n",
    "plt.show()"
   ]
  },
  {
   "cell_type": "code",
   "execution_count": 44,
   "metadata": {},
   "outputs": [
    {
     "data": {
      "image/png": "[encoded data removed]",
      "text/plain": [
       "<matplotlib.figure.Figure at 0x1eb89ec4f28>"
      ]
     },
     "metadata": {},
     "output_type": "display_data"
    }
   ],
   "source": [
    "plt.title('Step')\n",
    "plt.plot(table[:,0],table[:,2],label='steps to 80% with inter')\n",
    "plt.plot(table[:,0],table[:,3],label='steps to 80% without inter')\n",
    "plt.legend(bbox_to_anchor=(1.05, 1), loc=2, borderaxespad=0.)\n",
    "plt.show()"
   ]
  }
 ],
 "metadata": {
  "anaconda-cloud": {},
  "kernelspec": {
   "display_name": "Python [conda root]",
   "language": "python",
   "name": "conda-root-py"
  },
  "language_info": {
   "codemirror_mode": {
    "name": "ipython",
    "version": 3
   },
   "file_extension": ".py",
   "mimetype": "text/x-python",
   "name": "python",
   "nbconvert_exporter": "python",
   "pygments_lexer": "ipython3",
   "version": "3.6.1"
  }
 },
 "nbformat": 4,
 "nbformat_minor": 1
}
