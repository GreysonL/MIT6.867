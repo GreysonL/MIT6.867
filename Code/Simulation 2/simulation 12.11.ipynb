{
 "cells": [
  {
   "cell_type": "code",
   "execution_count": 21,
   "metadata": {},
   "outputs": [],
   "source": [
    "import random\n",
    "import numpy as np\n",
    "import pandas as pd\n",
    "from sklearn.ensemble import ExtraTreesClassifier\n",
    "from sklearn.linear_model import LogisticRegression\n",
    "import matplotlib.pyplot as plt\n",
    "import keras\n",
    "from keras.models import Sequential\n",
    "from keras.layers import Dense, Dropout, Activation\n",
    "from keras import optimizers,regularizers\n",
    "import _pickle as cPickle"
   ]
  },
  {
   "cell_type": "code",
   "execution_count": 33,
   "metadata": {},
   "outputs": [
    {
     "data": {
      "text/html": [
       "<div>\n",
       "<table border=\"1\" class=\"dataframe\">\n",
       "  <thead>\n",
       "    <tr style=\"text-align: right;\">\n",
       "      <th></th>\n",
       "      <th>x1</th>\n",
       "      <th>x2</th>\n",
       "      <th>x3</th>\n",
       "      <th>x4</th>\n",
       "      <th>x5</th>\n",
       "      <th>x6</th>\n",
       "    </tr>\n",
       "  </thead>\n",
       "  <tbody>\n",
       "    <tr>\n",
       "      <th>0</th>\n",
       "      <td>-0.154005</td>\n",
       "      <td>0.197094</td>\n",
       "      <td>0.123579</td>\n",
       "      <td>4</td>\n",
       "      <td>-1.023316</td>\n",
       "      <td>1</td>\n",
       "    </tr>\n",
       "    <tr>\n",
       "      <th>1</th>\n",
       "      <td>-1.069379</td>\n",
       "      <td>1.314449</td>\n",
       "      <td>-2.132584</td>\n",
       "      <td>3</td>\n",
       "      <td>0.256518</td>\n",
       "      <td>2</td>\n",
       "    </tr>\n",
       "    <tr>\n",
       "      <th>2</th>\n",
       "      <td>0.161591</td>\n",
       "      <td>0.503896</td>\n",
       "      <td>1.493674</td>\n",
       "      <td>2</td>\n",
       "      <td>0.631397</td>\n",
       "      <td>2</td>\n",
       "    </tr>\n",
       "    <tr>\n",
       "      <th>3</th>\n",
       "      <td>0.029792</td>\n",
       "      <td>-0.061004</td>\n",
       "      <td>-0.568154</td>\n",
       "      <td>2</td>\n",
       "      <td>-1.651640</td>\n",
       "      <td>2</td>\n",
       "    </tr>\n",
       "    <tr>\n",
       "      <th>4</th>\n",
       "      <td>-1.079196</td>\n",
       "      <td>0.091550</td>\n",
       "      <td>-0.817524</td>\n",
       "      <td>1</td>\n",
       "      <td>-0.372353</td>\n",
       "      <td>2</td>\n",
       "    </tr>\n",
       "  </tbody>\n",
       "</table>\n",
       "</div>"
      ],
      "text/plain": [
       "         x1        x2        x3  x4        x5  x6\n",
       "0 -0.154005  0.197094  0.123579   4 -1.023316   1\n",
       "1 -1.069379  1.314449 -2.132584   3  0.256518   2\n",
       "2  0.161591  0.503896  1.493674   2  0.631397   2\n",
       "3  0.029792 -0.061004 -0.568154   2 -1.651640   2\n",
       "4 -1.079196  0.091550 -0.817524   1 -0.372353   2"
      ]
     },
     "execution_count": 33,
     "metadata": {},
     "output_type": "execute_result"
    }
   ],
   "source": [
    "np.random.seed(867)\n",
    "N = 5000\n",
    "x1 = np.random.normal(0, 1, N)\n",
    "x2 = np.random.normal(0, 1, N)\n",
    "x3 = np.random.normal(0, 1, N)\n",
    "x4 = np.random.randint(1, 5, N)\n",
    "x5 = np.random.normal(0, 1, N)\n",
    "x6 = np.random.randint(1, 5, N)\n",
    "d = {'x1': x1, 'x2': x2, 'x3': x3,'x4': x4,'x5': x5,'x6': x6}\n",
    "df = pd.DataFrame(data=d)\n",
    "df.head()"
   ]
  },
  {
   "cell_type": "code",
   "execution_count": 34,
   "metadata": {},
   "outputs": [
    {
     "data": {
      "text/html": [
       "<div>\n",
       "<table border=\"1\" class=\"dataframe\">\n",
       "  <thead>\n",
       "    <tr style=\"text-align: right;\">\n",
       "      <th></th>\n",
       "      <th>x1</th>\n",
       "      <th>x2</th>\n",
       "      <th>x3</th>\n",
       "      <th>x5</th>\n",
       "      <th>x4_1</th>\n",
       "      <th>x4_2</th>\n",
       "      <th>x4_3</th>\n",
       "      <th>x4_4</th>\n",
       "      <th>x6_1</th>\n",
       "      <th>x6_2</th>\n",
       "      <th>x6_3</th>\n",
       "      <th>x6_4</th>\n",
       "    </tr>\n",
       "  </thead>\n",
       "  <tbody>\n",
       "    <tr>\n",
       "      <th>0</th>\n",
       "      <td>-0.154005</td>\n",
       "      <td>0.197094</td>\n",
       "      <td>0.123579</td>\n",
       "      <td>-1.023316</td>\n",
       "      <td>0.0</td>\n",
       "      <td>0.0</td>\n",
       "      <td>0.0</td>\n",
       "      <td>1.0</td>\n",
       "      <td>1.0</td>\n",
       "      <td>0.0</td>\n",
       "      <td>0.0</td>\n",
       "      <td>0.0</td>\n",
       "    </tr>\n",
       "    <tr>\n",
       "      <th>1</th>\n",
       "      <td>-1.069379</td>\n",
       "      <td>1.314449</td>\n",
       "      <td>-2.132584</td>\n",
       "      <td>0.256518</td>\n",
       "      <td>0.0</td>\n",
       "      <td>0.0</td>\n",
       "      <td>1.0</td>\n",
       "      <td>0.0</td>\n",
       "      <td>0.0</td>\n",
       "      <td>1.0</td>\n",
       "      <td>0.0</td>\n",
       "      <td>0.0</td>\n",
       "    </tr>\n",
       "    <tr>\n",
       "      <th>2</th>\n",
       "      <td>0.161591</td>\n",
       "      <td>0.503896</td>\n",
       "      <td>1.493674</td>\n",
       "      <td>0.631397</td>\n",
       "      <td>0.0</td>\n",
       "      <td>1.0</td>\n",
       "      <td>0.0</td>\n",
       "      <td>0.0</td>\n",
       "      <td>0.0</td>\n",
       "      <td>1.0</td>\n",
       "      <td>0.0</td>\n",
       "      <td>0.0</td>\n",
       "    </tr>\n",
       "    <tr>\n",
       "      <th>3</th>\n",
       "      <td>0.029792</td>\n",
       "      <td>-0.061004</td>\n",
       "      <td>-0.568154</td>\n",
       "      <td>-1.651640</td>\n",
       "      <td>0.0</td>\n",
       "      <td>1.0</td>\n",
       "      <td>0.0</td>\n",
       "      <td>0.0</td>\n",
       "      <td>0.0</td>\n",
       "      <td>1.0</td>\n",
       "      <td>0.0</td>\n",
       "      <td>0.0</td>\n",
       "    </tr>\n",
       "    <tr>\n",
       "      <th>4</th>\n",
       "      <td>-1.079196</td>\n",
       "      <td>0.091550</td>\n",
       "      <td>-0.817524</td>\n",
       "      <td>-0.372353</td>\n",
       "      <td>1.0</td>\n",
       "      <td>0.0</td>\n",
       "      <td>0.0</td>\n",
       "      <td>0.0</td>\n",
       "      <td>0.0</td>\n",
       "      <td>1.0</td>\n",
       "      <td>0.0</td>\n",
       "      <td>0.0</td>\n",
       "    </tr>\n",
       "  </tbody>\n",
       "</table>\n",
       "</div>"
      ],
      "text/plain": [
       "         x1        x2        x3        x5  x4_1  x4_2  x4_3  x4_4  x6_1  x6_2  \\\n",
       "0 -0.154005  0.197094  0.123579 -1.023316   0.0   0.0   0.0   1.0   1.0   0.0   \n",
       "1 -1.069379  1.314449 -2.132584  0.256518   0.0   0.0   1.0   0.0   0.0   1.0   \n",
       "2  0.161591  0.503896  1.493674  0.631397   0.0   1.0   0.0   0.0   0.0   1.0   \n",
       "3  0.029792 -0.061004 -0.568154 -1.651640   0.0   1.0   0.0   0.0   0.0   1.0   \n",
       "4 -1.079196  0.091550 -0.817524 -0.372353   1.0   0.0   0.0   0.0   0.0   1.0   \n",
       "\n",
       "   x6_3  x6_4  \n",
       "0   0.0   0.0  \n",
       "1   0.0   0.0  \n",
       "2   0.0   0.0  \n",
       "3   0.0   0.0  \n",
       "4   0.0   0.0  "
      ]
     },
     "execution_count": 34,
     "metadata": {},
     "output_type": "execute_result"
    }
   ],
   "source": [
    "df=pd.get_dummies(df, columns=[\"x4\",\"x6\"])\n",
    "df.head()"
   ]
  },
  {
   "cell_type": "code",
   "execution_count": 35,
   "metadata": {},
   "outputs": [
    {
     "data": {
      "text/html": [
       "<div>\n",
       "<table border=\"1\" class=\"dataframe\">\n",
       "  <thead>\n",
       "    <tr style=\"text-align: right;\">\n",
       "      <th></th>\n",
       "      <th>x1</th>\n",
       "      <th>x2</th>\n",
       "      <th>x3</th>\n",
       "      <th>x5</th>\n",
       "      <th>x4_1</th>\n",
       "      <th>x4_2</th>\n",
       "      <th>x4_3</th>\n",
       "      <th>x4_4</th>\n",
       "      <th>x6_1</th>\n",
       "      <th>x6_2</th>\n",
       "      <th>...</th>\n",
       "      <th>0</th>\n",
       "      <th>0</th>\n",
       "      <th>0</th>\n",
       "      <th>0</th>\n",
       "      <th>0</th>\n",
       "      <th>0</th>\n",
       "      <th>0</th>\n",
       "      <th>0</th>\n",
       "      <th>0</th>\n",
       "      <th>0</th>\n",
       "    </tr>\n",
       "  </thead>\n",
       "  <tbody>\n",
       "    <tr>\n",
       "      <th>0</th>\n",
       "      <td>-0.154005</td>\n",
       "      <td>0.197094</td>\n",
       "      <td>0.123579</td>\n",
       "      <td>-1.023316</td>\n",
       "      <td>0.0</td>\n",
       "      <td>0.0</td>\n",
       "      <td>0.0</td>\n",
       "      <td>1.0</td>\n",
       "      <td>1.0</td>\n",
       "      <td>0.0</td>\n",
       "      <td>...</td>\n",
       "      <td>1.0</td>\n",
       "      <td>0.0</td>\n",
       "      <td>0.0</td>\n",
       "      <td>0.0</td>\n",
       "      <td>0.0</td>\n",
       "      <td>0.0</td>\n",
       "      <td>0.0</td>\n",
       "      <td>0.0</td>\n",
       "      <td>0.0</td>\n",
       "      <td>0.0</td>\n",
       "    </tr>\n",
       "    <tr>\n",
       "      <th>1</th>\n",
       "      <td>-1.069379</td>\n",
       "      <td>1.314449</td>\n",
       "      <td>-2.132584</td>\n",
       "      <td>0.256518</td>\n",
       "      <td>0.0</td>\n",
       "      <td>0.0</td>\n",
       "      <td>1.0</td>\n",
       "      <td>0.0</td>\n",
       "      <td>0.0</td>\n",
       "      <td>1.0</td>\n",
       "      <td>...</td>\n",
       "      <td>0.0</td>\n",
       "      <td>0.0</td>\n",
       "      <td>0.0</td>\n",
       "      <td>0.0</td>\n",
       "      <td>0.0</td>\n",
       "      <td>0.0</td>\n",
       "      <td>0.0</td>\n",
       "      <td>0.0</td>\n",
       "      <td>0.0</td>\n",
       "      <td>0.0</td>\n",
       "    </tr>\n",
       "    <tr>\n",
       "      <th>2</th>\n",
       "      <td>0.161591</td>\n",
       "      <td>0.503896</td>\n",
       "      <td>1.493674</td>\n",
       "      <td>0.631397</td>\n",
       "      <td>0.0</td>\n",
       "      <td>1.0</td>\n",
       "      <td>0.0</td>\n",
       "      <td>0.0</td>\n",
       "      <td>0.0</td>\n",
       "      <td>1.0</td>\n",
       "      <td>...</td>\n",
       "      <td>0.0</td>\n",
       "      <td>0.0</td>\n",
       "      <td>0.0</td>\n",
       "      <td>0.0</td>\n",
       "      <td>0.0</td>\n",
       "      <td>0.0</td>\n",
       "      <td>0.0</td>\n",
       "      <td>0.0</td>\n",
       "      <td>0.0</td>\n",
       "      <td>0.0</td>\n",
       "    </tr>\n",
       "    <tr>\n",
       "      <th>3</th>\n",
       "      <td>0.029792</td>\n",
       "      <td>-0.061004</td>\n",
       "      <td>-0.568154</td>\n",
       "      <td>-1.651640</td>\n",
       "      <td>0.0</td>\n",
       "      <td>1.0</td>\n",
       "      <td>0.0</td>\n",
       "      <td>0.0</td>\n",
       "      <td>0.0</td>\n",
       "      <td>1.0</td>\n",
       "      <td>...</td>\n",
       "      <td>0.0</td>\n",
       "      <td>0.0</td>\n",
       "      <td>0.0</td>\n",
       "      <td>0.0</td>\n",
       "      <td>0.0</td>\n",
       "      <td>0.0</td>\n",
       "      <td>0.0</td>\n",
       "      <td>0.0</td>\n",
       "      <td>0.0</td>\n",
       "      <td>0.0</td>\n",
       "    </tr>\n",
       "    <tr>\n",
       "      <th>4</th>\n",
       "      <td>-1.079196</td>\n",
       "      <td>0.091550</td>\n",
       "      <td>-0.817524</td>\n",
       "      <td>-0.372353</td>\n",
       "      <td>1.0</td>\n",
       "      <td>0.0</td>\n",
       "      <td>0.0</td>\n",
       "      <td>0.0</td>\n",
       "      <td>0.0</td>\n",
       "      <td>1.0</td>\n",
       "      <td>...</td>\n",
       "      <td>0.0</td>\n",
       "      <td>0.0</td>\n",
       "      <td>0.0</td>\n",
       "      <td>0.0</td>\n",
       "      <td>0.0</td>\n",
       "      <td>0.0</td>\n",
       "      <td>0.0</td>\n",
       "      <td>0.0</td>\n",
       "      <td>0.0</td>\n",
       "      <td>0.0</td>\n",
       "    </tr>\n",
       "  </tbody>\n",
       "</table>\n",
       "<p>5 rows × 78 columns</p>\n",
       "</div>"
      ],
      "text/plain": [
       "         x1        x2        x3        x5  x4_1  x4_2  x4_3  x4_4  x6_1  x6_2  \\\n",
       "0 -0.154005  0.197094  0.123579 -1.023316   0.0   0.0   0.0   1.0   1.0   0.0   \n",
       "1 -1.069379  1.314449 -2.132584  0.256518   0.0   0.0   1.0   0.0   0.0   1.0   \n",
       "2  0.161591  0.503896  1.493674  0.631397   0.0   1.0   0.0   0.0   0.0   1.0   \n",
       "3  0.029792 -0.061004 -0.568154 -1.651640   0.0   1.0   0.0   0.0   0.0   1.0   \n",
       "4 -1.079196  0.091550 -0.817524 -0.372353   1.0   0.0   0.0   0.0   0.0   1.0   \n",
       "\n",
       "  ...     0    0    0    0    0    0    0    0    0    0  \n",
       "0 ...   1.0  0.0  0.0  0.0  0.0  0.0  0.0  0.0  0.0  0.0  \n",
       "1 ...   0.0  0.0  0.0  0.0  0.0  0.0  0.0  0.0  0.0  0.0  \n",
       "2 ...   0.0  0.0  0.0  0.0  0.0  0.0  0.0  0.0  0.0  0.0  \n",
       "3 ...   0.0  0.0  0.0  0.0  0.0  0.0  0.0  0.0  0.0  0.0  \n",
       "4 ...   0.0  0.0  0.0  0.0  0.0  0.0  0.0  0.0  0.0  0.0  \n",
       "\n",
       "[5 rows x 78 columns]"
      ]
     },
     "execution_count": 35,
     "metadata": {},
     "output_type": "execute_result"
    }
   ],
   "source": [
    "for i in range(11):\n",
    "    for j in np.arange(i+1,12):\n",
    "            inter = df.iloc[:,i]*df.iloc[:,j]\n",
    "            df = pd.concat([df, inter], axis=1)\n",
    "df.head()"
   ]
  },
  {
   "cell_type": "code",
   "execution_count": 36,
   "metadata": {},
   "outputs": [],
   "source": [
    "x4_1 = df.iloc[:,4]\n",
    "x4_2 = df.iloc[:,5]\n",
    "x4_3 = df.iloc[:,6]\n",
    "x4_4 = df.iloc[:,7]\n",
    "## main effect for x1-x4\n",
    "main_effect = [0.3,0.1,0.1,0.1,0.2,0.3,0.4]\n",
    "## interaction between x1 and x2, x3 and x4\n",
    "inter_effect = [1,0.5,1,2,3]"
   ]
  },
  {
   "cell_type": "code",
   "execution_count": 37,
   "metadata": {},
   "outputs": [],
   "source": [
    "main_matrix = np.column_stack((x1,x2**2,0.5*np.exp(x3),x4_1,x4_2,x4_3,x4_4))\n",
    "inter_matrix = np.column_stack((x1*x2**2,0.5*np.exp(x3)*x4_1,0.5*np.exp(x3)*x4_2,0.5*np.exp(x3)*x4_3,0.5*np.exp(x3)*x4_4))"
   ]
  },
  {
   "cell_type": "code",
   "execution_count": 38,
   "metadata": {},
   "outputs": [],
   "source": [
    "eta_wo_intercept = np.dot(main_matrix,main_effect) + np.dot(inter_matrix,inter_effect)\n",
    "intercept = -np.mean(eta_wo_intercept)\n",
    "np.random.seed(867)\n",
    "eps = np.random.normal(0, 1, N)\n",
    "eta = eta_wo_intercept + intercept + eps\n",
    "p = np.exp(eta)/(1+np.exp(eta))\n",
    "y = np.zeros(N)\n",
    "y[p>0.5]=1"
   ]
  },
  {
   "cell_type": "code",
   "execution_count": 51,
   "metadata": {},
   "outputs": [
    {
     "data": {
      "text/plain": [
       "array([ 0,  1,  2,  3,  4,  5,  7,  9, 12, 13, 15, 23, 25, 27, 28, 31, 32,\n",
       "       34, 36, 37, 39, 40, 43, 62], dtype=int64)"
      ]
     },
     "execution_count": 51,
     "metadata": {},
     "output_type": "execute_result"
    }
   ],
   "source": [
    "### LASSO with logistic regression\n",
    "lam=5\n",
    "logistic = LogisticRegression(penalty='l1',tol=1e-5,C=1/lam,fit_intercept=True,intercept_scaling=1e6,max_iter=1e5)\n",
    "result = logistic.fit(df,y)\n",
    "useful_index = np.where(logistic.coef_!= 0)[1]\n",
    "num_main = sum(useful_index<=11)\n",
    "useful_index"
   ]
  },
  {
   "cell_type": "code",
   "execution_count": 52,
   "metadata": {},
   "outputs": [
    {
     "data": {
      "text/html": [
       "<div>\n",
       "<table border=\"1\" class=\"dataframe\">\n",
       "  <thead>\n",
       "    <tr style=\"text-align: right;\">\n",
       "      <th></th>\n",
       "      <th>x1</th>\n",
       "      <th>x2</th>\n",
       "      <th>x3</th>\n",
       "      <th>x5</th>\n",
       "      <th>x4_1</th>\n",
       "      <th>x4_2</th>\n",
       "      <th>x4_4</th>\n",
       "      <th>x6_2</th>\n",
       "      <th>0</th>\n",
       "      <th>0</th>\n",
       "      <th>...</th>\n",
       "      <th>0</th>\n",
       "      <th>0</th>\n",
       "      <th>0</th>\n",
       "      <th>0</th>\n",
       "      <th>0</th>\n",
       "      <th>0</th>\n",
       "      <th>0</th>\n",
       "      <th>0</th>\n",
       "      <th>0</th>\n",
       "      <th>0</th>\n",
       "    </tr>\n",
       "  </thead>\n",
       "  <tbody>\n",
       "    <tr>\n",
       "      <th>0</th>\n",
       "      <td>-0.154005</td>\n",
       "      <td>0.197094</td>\n",
       "      <td>0.123579</td>\n",
       "      <td>-1.023316</td>\n",
       "      <td>0.0</td>\n",
       "      <td>0.0</td>\n",
       "      <td>1.0</td>\n",
       "      <td>0.0</td>\n",
       "      <td>-0.030353</td>\n",
       "      <td>-0.019032</td>\n",
       "      <td>...</td>\n",
       "      <td>0.197094</td>\n",
       "      <td>0.0</td>\n",
       "      <td>0.0</td>\n",
       "      <td>0.000000</td>\n",
       "      <td>0.000000</td>\n",
       "      <td>0.123579</td>\n",
       "      <td>0.000000</td>\n",
       "      <td>0.0</td>\n",
       "      <td>-0.000000</td>\n",
       "      <td>0.0</td>\n",
       "    </tr>\n",
       "    <tr>\n",
       "      <th>1</th>\n",
       "      <td>-1.069379</td>\n",
       "      <td>1.314449</td>\n",
       "      <td>-2.132584</td>\n",
       "      <td>0.256518</td>\n",
       "      <td>0.0</td>\n",
       "      <td>0.0</td>\n",
       "      <td>0.0</td>\n",
       "      <td>1.0</td>\n",
       "      <td>-1.405644</td>\n",
       "      <td>2.280539</td>\n",
       "      <td>...</td>\n",
       "      <td>0.000000</td>\n",
       "      <td>0.0</td>\n",
       "      <td>0.0</td>\n",
       "      <td>-0.000000</td>\n",
       "      <td>-2.132584</td>\n",
       "      <td>-0.000000</td>\n",
       "      <td>-2.132584</td>\n",
       "      <td>-0.0</td>\n",
       "      <td>0.000000</td>\n",
       "      <td>0.0</td>\n",
       "    </tr>\n",
       "    <tr>\n",
       "      <th>2</th>\n",
       "      <td>0.161591</td>\n",
       "      <td>0.503896</td>\n",
       "      <td>1.493674</td>\n",
       "      <td>0.631397</td>\n",
       "      <td>0.0</td>\n",
       "      <td>1.0</td>\n",
       "      <td>0.0</td>\n",
       "      <td>1.0</td>\n",
       "      <td>0.081425</td>\n",
       "      <td>0.241364</td>\n",
       "      <td>...</td>\n",
       "      <td>0.000000</td>\n",
       "      <td>0.0</td>\n",
       "      <td>0.0</td>\n",
       "      <td>0.000000</td>\n",
       "      <td>0.000000</td>\n",
       "      <td>0.000000</td>\n",
       "      <td>1.493674</td>\n",
       "      <td>0.0</td>\n",
       "      <td>0.631397</td>\n",
       "      <td>0.0</td>\n",
       "    </tr>\n",
       "    <tr>\n",
       "      <th>3</th>\n",
       "      <td>0.029792</td>\n",
       "      <td>-0.061004</td>\n",
       "      <td>-0.568154</td>\n",
       "      <td>-1.651640</td>\n",
       "      <td>0.0</td>\n",
       "      <td>1.0</td>\n",
       "      <td>0.0</td>\n",
       "      <td>1.0</td>\n",
       "      <td>-0.001817</td>\n",
       "      <td>-0.016926</td>\n",
       "      <td>...</td>\n",
       "      <td>-0.000000</td>\n",
       "      <td>-0.0</td>\n",
       "      <td>-0.0</td>\n",
       "      <td>-0.000000</td>\n",
       "      <td>-0.000000</td>\n",
       "      <td>-0.000000</td>\n",
       "      <td>-0.568154</td>\n",
       "      <td>-0.0</td>\n",
       "      <td>-1.651640</td>\n",
       "      <td>0.0</td>\n",
       "    </tr>\n",
       "    <tr>\n",
       "      <th>4</th>\n",
       "      <td>-1.079196</td>\n",
       "      <td>0.091550</td>\n",
       "      <td>-0.817524</td>\n",
       "      <td>-0.372353</td>\n",
       "      <td>1.0</td>\n",
       "      <td>0.0</td>\n",
       "      <td>0.0</td>\n",
       "      <td>1.0</td>\n",
       "      <td>-0.098800</td>\n",
       "      <td>0.882269</td>\n",
       "      <td>...</td>\n",
       "      <td>0.000000</td>\n",
       "      <td>0.0</td>\n",
       "      <td>0.0</td>\n",
       "      <td>-0.817524</td>\n",
       "      <td>-0.000000</td>\n",
       "      <td>-0.000000</td>\n",
       "      <td>-0.817524</td>\n",
       "      <td>-0.0</td>\n",
       "      <td>-0.000000</td>\n",
       "      <td>0.0</td>\n",
       "    </tr>\n",
       "  </tbody>\n",
       "</table>\n",
       "<p>5 rows × 24 columns</p>\n",
       "</div>"
      ],
      "text/plain": [
       "         x1        x2        x3        x5  x4_1  x4_2  x4_4  x6_2         0  \\\n",
       "0 -0.154005  0.197094  0.123579 -1.023316   0.0   0.0   1.0   0.0 -0.030353   \n",
       "1 -1.069379  1.314449 -2.132584  0.256518   0.0   0.0   0.0   1.0 -1.405644   \n",
       "2  0.161591  0.503896  1.493674  0.631397   0.0   1.0   0.0   1.0  0.081425   \n",
       "3  0.029792 -0.061004 -0.568154 -1.651640   0.0   1.0   0.0   1.0 -0.001817   \n",
       "4 -1.079196  0.091550 -0.817524 -0.372353   1.0   0.0   0.0   1.0 -0.098800   \n",
       "\n",
       "          0 ...          0    0    0         0         0         0         0  \\\n",
       "0 -0.019032 ...   0.197094  0.0  0.0  0.000000  0.000000  0.123579  0.000000   \n",
       "1  2.280539 ...   0.000000  0.0  0.0 -0.000000 -2.132584 -0.000000 -2.132584   \n",
       "2  0.241364 ...   0.000000  0.0  0.0  0.000000  0.000000  0.000000  1.493674   \n",
       "3 -0.016926 ...  -0.000000 -0.0 -0.0 -0.000000 -0.000000 -0.000000 -0.568154   \n",
       "4  0.882269 ...   0.000000  0.0  0.0 -0.817524 -0.000000 -0.000000 -0.817524   \n",
       "\n",
       "     0         0    0  \n",
       "0  0.0 -0.000000  0.0  \n",
       "1 -0.0  0.000000  0.0  \n",
       "2  0.0  0.631397  0.0  \n",
       "3 -0.0 -1.651640  0.0  \n",
       "4 -0.0 -0.000000  0.0  \n",
       "\n",
       "[5 rows x 24 columns]"
      ]
     },
     "execution_count": 52,
     "metadata": {},
     "output_type": "execute_result"
    }
   ],
   "source": [
    "x=df.iloc[:,useful_index]\n",
    "x.head()"
   ]
  },
  {
   "cell_type": "code",
   "execution_count": 53,
   "metadata": {},
   "outputs": [
    {
     "data": {
      "image/png": "[encoded data removed]",
      "text/plain": [
       "<matplotlib.figure.Figure at 0x1eb9855b518>"
      ]
     },
     "metadata": {},
     "output_type": "display_data"
    }
   ],
   "source": [
    "## random forest to see the importance\n",
    "forest = ExtraTreesClassifier(n_estimators=20, random_state=0)\n",
    "forest.fit(x, y)\n",
    "importances = forest.feature_importances_\n",
    "std = np.std([tree.feature_importances_ for tree in forest.estimators_],\n",
    "             axis=0)\n",
    "indices = np.argsort(importances)\n",
    "plt.figure()\n",
    "plt.title(\"Feature importances\")\n",
    "plt.barh(range(x.shape[1]), importances[indices])\n",
    "plt.yticks(range(x.shape[1]), indices)\n",
    "plt.ylim([-1, x.shape[1]])\n",
    "plt.show()"
   ]
  },
  {
   "cell_type": "code",
   "execution_count": 54,
   "metadata": {},
   "outputs": [
    {
     "data": {
      "text/plain": [
       "0.41791571187276522"
      ]
     },
     "execution_count": 54,
     "metadata": {},
     "output_type": "execute_result"
    }
   ],
   "source": [
    "inter_prop = 1-sum(importances[range(num_main)])\n",
    "inter_prop"
   ]
  },
  {
   "cell_type": "code",
   "execution_count": 55,
   "metadata": {},
   "outputs": [
    {
     "name": "stdout",
     "output_type": "stream",
     "text": [
      "1000/1000 [==============================] - 1s 1ms/step\n"
     ]
    }
   ],
   "source": [
    "## with interaction\n",
    "x = np.array(x)\n",
    "y = np.array(y)\n",
    "model1 = Sequential()\n",
    "model1.add(Dense(10, input_dim=np.shape(x)[1], activation='relu'))\n",
    "model1.add(Dense(5, activation='relu'))\n",
    "model1.add(Dense(1, activation='sigmoid'))\n",
    "model1.compile(loss='binary_crossentropy',optimizer='rmsprop',metrics=['accuracy'])\n",
    "trace1 = model1.fit(x[0:4000,:], y[0:4000],epochs=50,batch_size=64,verbose=0)\n",
    "score1 = model1.evaluate(x[4000:5000,:], y[4000:5000], batch_size=64)"
   ]
  },
  {
   "cell_type": "code",
   "execution_count": 56,
   "metadata": {},
   "outputs": [
    {
     "data": {
      "text/plain": [
       "[0.051221471033990384, 0.98199999999999998]"
      ]
     },
     "execution_count": 56,
     "metadata": {},
     "output_type": "execute_result"
    }
   ],
   "source": [
    "score1"
   ]
  },
  {
   "cell_type": "code",
   "execution_count": 57,
   "metadata": {},
   "outputs": [
    {
     "data": {
      "text/plain": [
       "8"
      ]
     },
     "execution_count": 57,
     "metadata": {},
     "output_type": "execute_result"
    }
   ],
   "source": [
    "min(np.where(np.transpose(trace1.history['acc'])>0.95)[0])"
   ]
  },
  {
   "cell_type": "code",
   "execution_count": 58,
   "metadata": {},
   "outputs": [
    {
     "name": "stdout",
     "output_type": "stream",
     "text": [
      "1000/1000 [==============================] - 1s 1ms/step\n"
     ]
    }
   ],
   "source": [
    "## without interaction\n",
    "x = np.array(x)\n",
    "y = np.array(y)\n",
    "model2 = Sequential()\n",
    "model2.add(Dense(10, input_dim=num_main, activation='relu'))\n",
    "model2.add(Dense(5, activation='relu'))\n",
    "model2.add(Dense(1, activation='sigmoid'))\n",
    "model2.compile(loss='binary_crossentropy',optimizer='rmsprop',metrics=['accuracy'])\n",
    "trace2 = model2.fit(x[0:4000,0:num_main], y[0:4000],epochs=50,batch_size=64,verbose=0)\n",
    "score2 = model2.evaluate(x[4000:5000,0:num_main], y[4000:5000], batch_size=64)"
   ]
  },
  {
   "cell_type": "code",
   "execution_count": 59,
   "metadata": {},
   "outputs": [
    {
     "data": {
      "text/plain": [
       "[0.10075744140148163, 0.96000000095367433]"
      ]
     },
     "execution_count": 59,
     "metadata": {},
     "output_type": "execute_result"
    }
   ],
   "source": [
    "score2"
   ]
  },
  {
   "cell_type": "code",
   "execution_count": 60,
   "metadata": {},
   "outputs": [
    {
     "data": {
      "text/plain": [
       "22"
      ]
     },
     "execution_count": 60,
     "metadata": {},
     "output_type": "execute_result"
    }
   ],
   "source": [
    "min(np.where(np.transpose(trace2.history['acc'])>0.95)[0])"
   ]
  },
  {
   "cell_type": "code",
   "execution_count": 47,
   "metadata": {},
   "outputs": [
    {
     "name": "stdout",
     "output_type": "stream",
     "text": [
      "1000/1000 [==============================] - 2s      \n",
      "  64/1000 [>.............................] - ETA: 33s"
     ]
    }
   ],
   "source": [
    "## Finally, put all things together, assume there is a shrinkage factor t for the interaction effect\n",
    "## we vary t from 0 to 1 with grid level 0.05, and we expect the importance of interaction term increase\n",
    "np.random.seed(867)\n",
    "lam=5  ## tuning parameter in LASSO\n",
    "max_epoch = 100\n",
    "table = np.zeros((21,6))\n",
    "for i in range(21):\n",
    "    t = 0.05*i\n",
    "    inter_effect = np.array([1,0.5,1,2,3])*t\n",
    "    eta_wo_intercept = np.dot(main_matrix,main_effect) + np.dot(inter_matrix,inter_effect)\n",
    "    intercept = -np.mean(eta_wo_intercept)\n",
    "    eps = np.random.normal(0, 1, N)\n",
    "    eta = eta_wo_intercept + intercept + eps\n",
    "    p = np.exp(eta)/(1+np.exp(eta))\n",
    "    y = np.zeros(N)\n",
    "    y[p>0.5]=1\n",
    "    m = LogisticRegression(penalty='l1',tol=1e-5,C=1/lam,fit_intercept=True,intercept_scaling=1e6,max_iter=1e5)\n",
    "    m.fit(df,y)\n",
    "    inter_prop1 = 1-sum((np.array(np.std(df, 0))*abs(m.coef_))[0][0:11])/sum((np.array(np.std(df, 0))*abs(m.coef_))[0])\n",
    "    useful_index = np.where(m.coef_!= 0)[1]\n",
    "    num_main = sum(useful_index<=11)\n",
    "    num_inter = len(useful_index) - num_main\n",
    "    x=df.iloc[:,useful_index]\n",
    "    forest = ExtraTreesClassifier(n_estimators=20, random_state=0)\n",
    "    forest.fit(x, y)\n",
    "    importances = forest.feature_importances_\n",
    "    std = np.std([tree.feature_importances_ for tree in forest.estimators_],axis=0)\n",
    "    inter_prop2 = 1-sum(importances[range(num_main)])\n",
    "    inter_prop = (inter_prop1+inter_prop2)/2\n",
    "    x = np.array(x)\n",
    "    y = np.array(y)\n",
    "    model1 = Sequential()\n",
    "    model1.add(Dense(30, input_dim=np.shape(x)[1], activation='tanh'))\n",
    "    model1.add(Dense(1, activation='sigmoid'))\n",
    "    sgd = optimizers.SGD(lr=0.01, decay=1e-6, momentum=0.9, nesterov=True)\n",
    "    model1.compile(loss='binary_crossentropy',optimizer=sgd, metrics=['accuracy'])\n",
    "    trace1 = model1.fit(x[0:4000,:], y[0:4000],epochs=max_epoch,batch_size=64,verbose=0)\n",
    "    score1 = model1.evaluate(x[4000:5000,:], y[4000:5000], batch_size=64)\n",
    "    model2 = Sequential()\n",
    "    model2.add(Dense(30, input_dim=num_main, activation='tanh'))\n",
    "    model2.add(Dense(1, activation='sigmoid'))\n",
    "    model2.compile(loss='binary_crossentropy',optimizer=sgd, metrics=['accuracy'])\n",
    "    trace2 = model2.fit(x[0:4000,0:num_main], y[0:4000],epochs=max_epoch,batch_size=64,verbose=0)\n",
    "    score2 = model2.evaluate(x[4000:5000,0:num_main], y[4000:5000], batch_size=64)\n",
    "    best_acc = np.transpose(trace2.history['acc'])[70]\n",
    "    step2 = min(np.where(np.transpose(trace2.history['acc'])>=best_acc)[0])\n",
    "    if len(np.where(np.transpose(trace1.history['acc'])>=best_acc)[0])==0:\n",
    "        step1 = max_epoch\n",
    "    else:\n",
    "        step1 = min(np.where(np.transpose(trace1.history['acc'])>=best_acc)[0])\n",
    "    table[i,:]=np.array([i,num_inter,inter_prop,step2-step1,score1[1],score2[1]])"
   ]
  },
  {
   "cell_type": "code",
   "execution_count": 51,
   "metadata": {},
   "outputs": [
    {
     "data": {
      "image/png": "[encoded data removed]",
      "text/plain": [
       "<matplotlib.figure.Figure at 0x14af28f3eb8>"
      ]
     },
     "metadata": {},
     "output_type": "display_data"
    }
   ],
   "source": [
    "plt.title('Summary')\n",
    "plt.plot(table[:,0],table[:,2],label='importance')\n",
    "plt.plot(table[:,0],1-table[:,4],label='test err with inter')\n",
    "plt.plot(table[:,0],1-table[:,5],label='test err without inter')\n",
    "plt.legend(bbox_to_anchor=(1.05, 1), loc=2, borderaxespad=0.)\n",
    "plt.show()"
   ]
  },
  {
   "cell_type": "code",
   "execution_count": 52,
   "metadata": {},
   "outputs": [
    {
     "data": {
      "image/png": "[encoded data removed]",
      "text/plain": [
       "<matplotlib.figure.Figure at 0x14ac17e7128>"
      ]
     },
     "metadata": {},
     "output_type": "display_data"
    }
   ],
   "source": [
    "plt.title('Step2 - Step1')\n",
    "plt.plot(table[:,0],table[:,3])\n",
    "plt.show()"
   ]
  },
  {
   "cell_type": "code",
   "execution_count": 2,
   "metadata": {},
   "outputs": [
    {
     "data": {
      "text/html": [
       "<div>\n",
       "<table border=\"1\" class=\"dataframe\">\n",
       "  <thead>\n",
       "    <tr style=\"text-align: right;\">\n",
       "      <th></th>\n",
       "      <th>x1</th>\n",
       "      <th>x2</th>\n",
       "      <th>x3</th>\n",
       "      <th>x4_1</th>\n",
       "      <th>x4_2</th>\n",
       "      <th>x4_3</th>\n",
       "      <th>x4_4</th>\n",
       "      <th>inter1</th>\n",
       "      <th>inter2</th>\n",
       "      <th>inter3</th>\n",
       "      <th>inter4</th>\n",
       "      <th>inter5</th>\n",
       "    </tr>\n",
       "  </thead>\n",
       "  <tbody>\n",
       "    <tr>\n",
       "      <th>0</th>\n",
       "      <td>-0.154005</td>\n",
       "      <td>0.197094</td>\n",
       "      <td>0.123579</td>\n",
       "      <td>0.0</td>\n",
       "      <td>0.0</td>\n",
       "      <td>0.0</td>\n",
       "      <td>1.0</td>\n",
       "      <td>-0.012515</td>\n",
       "      <td>0.008493</td>\n",
       "      <td>0.006318</td>\n",
       "      <td>0.039944</td>\n",
       "      <td>0.261018</td>\n",
       "    </tr>\n",
       "    <tr>\n",
       "      <th>1</th>\n",
       "      <td>-1.069379</td>\n",
       "      <td>1.314449</td>\n",
       "      <td>-2.132584</td>\n",
       "      <td>0.0</td>\n",
       "      <td>0.0</td>\n",
       "      <td>1.0</td>\n",
       "      <td>0.0</td>\n",
       "      <td>-1.369655</td>\n",
       "      <td>0.008493</td>\n",
       "      <td>0.006318</td>\n",
       "      <td>-4.231714</td>\n",
       "      <td>0.009344</td>\n",
       "    </tr>\n",
       "    <tr>\n",
       "      <th>2</th>\n",
       "      <td>0.161591</td>\n",
       "      <td>0.503896</td>\n",
       "      <td>1.493674</td>\n",
       "      <td>0.0</td>\n",
       "      <td>1.0</td>\n",
       "      <td>0.0</td>\n",
       "      <td>0.0</td>\n",
       "      <td>0.097788</td>\n",
       "      <td>0.008493</td>\n",
       "      <td>2.955005</td>\n",
       "      <td>0.039944</td>\n",
       "      <td>0.009344</td>\n",
       "    </tr>\n",
       "    <tr>\n",
       "      <th>3</th>\n",
       "      <td>0.029792</td>\n",
       "      <td>-0.061004</td>\n",
       "      <td>-0.568154</td>\n",
       "      <td>0.0</td>\n",
       "      <td>1.0</td>\n",
       "      <td>0.0</td>\n",
       "      <td>0.0</td>\n",
       "      <td>0.015644</td>\n",
       "      <td>0.008493</td>\n",
       "      <td>-1.115285</td>\n",
       "      <td>0.039944</td>\n",
       "      <td>0.009344</td>\n",
       "    </tr>\n",
       "    <tr>\n",
       "      <th>4</th>\n",
       "      <td>-1.079196</td>\n",
       "      <td>0.091550</td>\n",
       "      <td>-0.817524</td>\n",
       "      <td>1.0</td>\n",
       "      <td>0.0</td>\n",
       "      <td>0.0</td>\n",
       "      <td>0.0</td>\n",
       "      <td>-0.080059</td>\n",
       "      <td>-1.654195</td>\n",
       "      <td>0.006318</td>\n",
       "      <td>0.039944</td>\n",
       "      <td>0.009344</td>\n",
       "    </tr>\n",
       "  </tbody>\n",
       "</table>\n",
       "</div>"
      ],
      "text/plain": [
       "         x1        x2        x3  x4_1  x4_2  x4_3  x4_4    inter1    inter2  \\\n",
       "0 -0.154005  0.197094  0.123579   0.0   0.0   0.0   1.0 -0.012515  0.008493   \n",
       "1 -1.069379  1.314449 -2.132584   0.0   0.0   1.0   0.0 -1.369655  0.008493   \n",
       "2  0.161591  0.503896  1.493674   0.0   1.0   0.0   0.0  0.097788  0.008493   \n",
       "3  0.029792 -0.061004 -0.568154   0.0   1.0   0.0   0.0  0.015644  0.008493   \n",
       "4 -1.079196  0.091550 -0.817524   1.0   0.0   0.0   0.0 -0.080059 -1.654195   \n",
       "\n",
       "     inter3    inter4    inter5  \n",
       "0  0.006318  0.039944  0.261018  \n",
       "1  0.006318 -4.231714  0.009344  \n",
       "2  2.955005  0.039944  0.009344  \n",
       "3 -1.115285  0.039944  0.009344  \n",
       "4  0.006318  0.039944  0.009344  "
      ]
     },
     "execution_count": 2,
     "metadata": {},
     "output_type": "execute_result"
    }
   ],
   "source": [
    "#### remove all the irrelavant variables, do a simplified simulation\n",
    "np.random.seed(867)\n",
    "N = 5000\n",
    "x1 = np.random.normal(0, 1, N)\n",
    "x2 = np.random.normal(0, 1, N)\n",
    "x3 = np.random.normal(0, 1, N)\n",
    "x4 = np.random.randint(1, 5, N)\n",
    "d = {'x1': x1, 'x2': x2, 'x3': x3,'x4': x4}\n",
    "df = pd.DataFrame(data=d)\n",
    "df = pd.get_dummies(df, columns=[\"x4\"])\n",
    "x4_1 = df.iloc[:,3]\n",
    "x4_2 = df.iloc[:,4]\n",
    "x4_3 = df.iloc[:,5]\n",
    "x4_4 = df.iloc[:,6]\n",
    "df['inter1'] = pd.Series((x1*x2-np.mean(x1*x2))/np.std(x1*x2), index=df.index)\n",
    "df['inter2'] = pd.Series((x4_1*x3-np.mean(x4_1*x3))/np.std(x4_1*x3), index=df.index)\n",
    "df['inter3'] = pd.Series((x4_2*x3-np.mean(x4_2*x3))/np.std(x4_2*x3), index=df.index)\n",
    "df['inter4'] = pd.Series((x4_3*x3-np.mean(x4_3*x3))/np.std(x4_3*x3), index=df.index)\n",
    "df['inter5'] = pd.Series((x4_4*x3-np.mean(x4_4*x3))/np.std(x4_4*x3), index=df.index)\n",
    "main_effect = [0.3,0.1,0.1,0.1,0.2,0.3,0.4]\n",
    "main_matrix = np.column_stack((x1,x2**2,0.5*np.exp(x3),x4_1,x4_2,x4_3,x4_4))\n",
    "inter_matrix = np.column_stack((x1*x2**2,0.5*np.exp(x3)*x4_1,0.5*np.exp(x3)*x4_2,0.5*np.exp(x3)*x4_3,0.5*np.exp(x3)*x4_4))\n",
    "df.head()"
   ]
  },
  {
   "cell_type": "code",
   "execution_count": 26,
   "metadata": {},
   "outputs": [
    {
     "name": "stdout",
     "output_type": "stream",
     "text": [
      "  64/1000 [>.............................] - ETA: 14s"
     ]
    }
   ],
   "source": [
    "np.random.seed(867)\n",
    "max_epoch = 100\n",
    "table = np.zeros((11,5))\n",
    "for i in range(11):\n",
    "    t = 0.2*i\n",
    "    inter_effect = np.array([1,0.5,1,2,3])*t\n",
    "    eta_wo_intercept = np.dot(main_matrix,main_effect) + np.dot(inter_matrix,inter_effect)\n",
    "    intercept = -np.mean(eta_wo_intercept)\n",
    "    eps = np.random.normal(0, 1, N)\n",
    "    eta = eta_wo_intercept + intercept + eps\n",
    "    p = np.exp(eta)/(1+np.exp(eta))\n",
    "    y = np.zeros(N)\n",
    "    y[p>0.5]=1\n",
    "    forest = ExtraTreesClassifier(n_estimators=20, random_state=0)\n",
    "    forest.fit(df, y)\n",
    "    importances = forest.feature_importances_\n",
    "    std = np.std([tree.feature_importances_ for tree in forest.estimators_],axis=0)\n",
    "    inter_prop1 = 1-sum(importances[range(7)])\n",
    "    x = np.array(df)\n",
    "    y = np.array(y)\n",
    "    m = LogisticRegression()\n",
    "    m.fit(x, y)\n",
    "    inter_prop2 = 1-sum((np.std(x, 0)*abs(m.coef_))[0][0:6])/sum((np.std(x, 0)*abs(m.coef_))[0])\n",
    "    inter_prop = (inter_prop1+inter_prop2)/2\n",
    "    model1 = Sequential()\n",
    "    model1.add(Dense(20, input_dim=np.shape(x)[1], activation='tanh')) ## larger number of units\n",
    "    model1.add(Dense(1, activation='sigmoid'))\n",
    "    sgd = optimizers.SGD(lr=0.01, decay=1e-6, momentum=0.9, nesterov=True)\n",
    "    model1.compile(loss='binary_crossentropy',optimizer=sgd, metrics=['accuracy'])\n",
    "    trace1 = model1.fit(x[0:4000,:], y[0:4000],epochs=max_epoch,batch_size=64,verbose=0) ## regularization\n",
    "    score1 = model1.evaluate(x[4000:5000,:], y[4000:5000], batch_size=64)\n",
    "    model2 = Sequential()\n",
    "    num_main = 7\n",
    "    model2.add(Dense(20, input_dim=num_main, activation='tanh'))\n",
    "    model2.add(Dense(1, activation='sigmoid'))\n",
    "    model2.compile(loss='binary_crossentropy',optimizer=sgd, metrics=['accuracy'])\n",
    "    trace2 = model2.fit(x[0:4000,0:num_main], y[0:4000],epochs=max_epoch,batch_size=64,verbose=0)\n",
    "    score2 = model2.evaluate(x[4000:5000,0:num_main], y[4000:5000], batch_size=64)\n",
    "    best_acc = np.transpose(trace2.history['acc'])[70]\n",
    "    step2 = min(np.where(np.transpose(trace2.history['acc'])>=best_acc)[0])\n",
    "    if len(np.where(np.transpose(trace1.history['acc'])>=best_acc)[0])==0:\n",
    "        step1 = max_epoch\n",
    "    else:\n",
    "        step1 = min(np.where(np.transpose(trace1.history['acc'])>=best_acc)[0])\n",
    "    table[i,:]=np.array([i,inter_prop,step2-step1,score1[1],score2[1]])"
   ]
  },
  {
   "cell_type": "code",
   "execution_count": 27,
   "metadata": {},
   "outputs": [
    {
     "data": {
      "image/png": "[encoded data removed]",
      "text/plain": [
       "<matplotlib.figure.Figure at 0x14ab0ff3908>"
      ]
     },
     "metadata": {},
     "output_type": "display_data"
    }
   ],
   "source": [
    "plt.title('Summary')\n",
    "plt.plot(table[:,0],table[:,1],label='importance')\n",
    "plt.plot(table[:,0],1-table[:,3],label='test err with inter')\n",
    "plt.plot(table[:,0],1-table[:,4],label='test err without inter')\n",
    "plt.legend(bbox_to_anchor=(1.05, 1), loc=2, borderaxespad=0.)\n",
    "plt.show()"
   ]
  },
  {
   "cell_type": "code",
   "execution_count": 28,
   "metadata": {
    "scrolled": true
   },
   "outputs": [
    {
     "data": {
      "image/png": "[encoded data removed]",
      "text/plain": [
       "<matplotlib.figure.Figure at 0x14ab0e6e4a8>"
      ]
     },
     "metadata": {},
     "output_type": "display_data"
    }
   ],
   "source": [
    "plt.title('Step2-Step1')\n",
    "plt.plot(table[:,0],table[:,2])\n",
    "plt.show()"
   ]
  },
  {
   "cell_type": "code",
   "execution_count": 3,
   "metadata": {},
   "outputs": [
    {
     "name": "stdout",
     "output_type": "stream",
     "text": [
      "1000/1000 [==============================] - 2s      \n",
      "1000/1000 [==============================] - 3s      \n",
      "1000/1000 [==============================] - 3s      \n",
      "1000/1000 [==============================] - 5s     \n",
      " 896/1000 [=========================>....] - ETA: 0s "
     ]
    }
   ],
   "source": [
    "## zoom in 0-2\n",
    "max_epoch = 100\n",
    "table = np.zeros((10,11,5))\n",
    "for k in range(10):\n",
    "    for i in range(11):\n",
    "        t = 0.02*i\n",
    "        inter_effect = np.array([1,0.5,1,2,3])*t\n",
    "        eta_wo_intercept = np.dot(main_matrix,main_effect) + np.dot(inter_matrix,inter_effect)\n",
    "        intercept = -np.mean(eta_wo_intercept)\n",
    "        eps = np.random.normal(0, 1, N)\n",
    "        eta = eta_wo_intercept + intercept + eps\n",
    "        p = np.exp(eta)/(1+np.exp(eta))\n",
    "        y = np.zeros(N)\n",
    "        y[p>0.5]=1\n",
    "        forest = ExtraTreesClassifier(n_estimators=20, random_state=0)\n",
    "        forest.fit(df, y)\n",
    "        importances = forest.feature_importances_\n",
    "        std = np.std([tree.feature_importances_ for tree in forest.estimators_],axis=0)\n",
    "        inter_prop1 = 1-sum(importances[range(7)])\n",
    "        x = np.array(df)\n",
    "        y = np.array(y)\n",
    "        m = LogisticRegression()\n",
    "        m.fit(x, y)\n",
    "        inter_prop2 = 1-sum((np.std(x, 0)*abs(m.coef_))[0][0:6])/sum((np.std(x, 0)*abs(m.coef_))[0])\n",
    "        inter_prop = (inter_prop1+inter_prop2)/2\n",
    "        model1 = Sequential()\n",
    "        model1.add(Dense(20, input_dim=np.shape(x)[1], activation='tanh'))\n",
    "        model1.add(Dense(1, activation='sigmoid'))\n",
    "        sgd = optimizers.SGD(lr=0.01, decay=1e-6, momentum=0.9, nesterov=True)\n",
    "        model1.compile(loss='binary_crossentropy',optimizer=sgd, metrics=['accuracy'])\n",
    "        trace1 = model1.fit(x[0:4000,:], y[0:4000],epochs=max_epoch,batch_size=64,verbose=0)\n",
    "        score1 = model1.evaluate(x[4000:5000,:], y[4000:5000], batch_size=64)\n",
    "        model2 = Sequential()\n",
    "        num_main = 7\n",
    "        model2.add(Dense(20, input_dim=num_main, activation='tanh'))\n",
    "        model2.add(Dense(1, activation='sigmoid'))\n",
    "        model2.compile(loss='binary_crossentropy',optimizer=sgd, metrics=['accuracy'])\n",
    "        trace2 = model2.fit(x[0:4000,0:num_main], y[0:4000],epochs=max_epoch,batch_size=64,verbose=0)\n",
    "        score2 = model2.evaluate(x[4000:5000,0:num_main], y[4000:5000], batch_size=64)\n",
    "        best_acc = np.transpose(trace2.history['acc'])[70]\n",
    "        step2 = min(np.where(np.transpose(trace2.history['acc'])>=best_acc)[0])\n",
    "        if len(np.where(np.transpose(trace1.history['acc'])>=best_acc)[0])==0:\n",
    "            step1 = max_epoch\n",
    "        else:\n",
    "            step1 = min(np.where(np.transpose(trace1.history['acc'])>=best_acc)[0])\n",
    "        table[k,i,:]=np.array([i,inter_prop,step2-step1,score1[1],score2[1]])"
   ]
  },
  {
   "cell_type": "code",
   "execution_count": 6,
   "metadata": {
    "collapsed": true
   },
   "outputs": [],
   "source": [
    "final_table = np.zeros((11,5))\n",
    "for i in range(10):\n",
    "    final_table = final_table + table[i,:,:]\n",
    "final_table = final_table/10"
   ]
  },
  {
   "cell_type": "code",
   "execution_count": 14,
   "metadata": {},
   "outputs": [
    {
     "data": {
      "image/png": "[encoded data removed]",
      "text/plain": [
       "<matplotlib.figure.Figure at 0x2350c196198>"
      ]
     },
     "metadata": {},
     "output_type": "display_data"
    }
   ],
   "source": [
    "plt.title('Summary')\n",
    "plt.plot(final_table[:,0],final_table[:,1],label='importance')\n",
    "plt.plot(final_table[:,0],1-final_table[:,3],label='test err with inter')\n",
    "plt.plot(final_table[:,0],1-final_table[:,4],label='test err without inter')\n",
    "plt.legend(loc=1)\n",
    "plt.show()"
   ]
  },
  {
   "cell_type": "code",
   "execution_count": 11,
   "metadata": {},
   "outputs": [
    {
     "data": {
      "image/png": "[encoded data removed]",
      "text/plain": [
       "<matplotlib.figure.Figure at 0x2350ae7aef0>"
      ]
     },
     "metadata": {},
     "output_type": "display_data"
    }
   ],
   "source": [
    "plt.title('Step Difference')\n",
    "plt.plot(final_table[:,0],final_table[:,2])\n",
    "plt.show()"
   ]
  },
  {
   "cell_type": "code",
   "execution_count": 22,
   "metadata": {},
   "outputs": [
    {
     "name": "stdout",
     "output_type": "stream",
     "text": [
      "1000/1000 [==============================] - 3s      \n",
      " 960/1000 [===========================>..] - ETA: 0s "
     ]
    },
    {
     "ename": "KeyboardInterrupt",
     "evalue": "",
     "output_type": "error",
     "traceback": [
      "\u001b[0;31m---------------------------------------------------------------------------\u001b[0m",
      "\u001b[0;31mKeyboardInterrupt\u001b[0m                         Traceback (most recent call last)",
      "\u001b[0;32m<ipython-input-22-20e33ace475b>\u001b[0m in \u001b[0;36m<module>\u001b[0;34m()\u001b[0m\n\u001b[1;32m     29\u001b[0m         \u001b[0msgd\u001b[0m \u001b[1;33m=\u001b[0m \u001b[0moptimizers\u001b[0m\u001b[1;33m.\u001b[0m\u001b[0mSGD\u001b[0m\u001b[1;33m(\u001b[0m\u001b[0mlr\u001b[0m\u001b[1;33m=\u001b[0m\u001b[1;36m0.01\u001b[0m\u001b[1;33m,\u001b[0m \u001b[0mdecay\u001b[0m\u001b[1;33m=\u001b[0m\u001b[1;36m1e-6\u001b[0m\u001b[1;33m,\u001b[0m \u001b[0mmomentum\u001b[0m\u001b[1;33m=\u001b[0m\u001b[1;36m0.9\u001b[0m\u001b[1;33m,\u001b[0m \u001b[0mnesterov\u001b[0m\u001b[1;33m=\u001b[0m\u001b[1;32mTrue\u001b[0m\u001b[1;33m)\u001b[0m\u001b[1;33m\u001b[0m\u001b[0m\n\u001b[1;32m     30\u001b[0m         \u001b[0mmodel1\u001b[0m\u001b[1;33m.\u001b[0m\u001b[0mcompile\u001b[0m\u001b[1;33m(\u001b[0m\u001b[0mloss\u001b[0m\u001b[1;33m=\u001b[0m\u001b[1;34m'binary_crossentropy'\u001b[0m\u001b[1;33m,\u001b[0m\u001b[0moptimizer\u001b[0m\u001b[1;33m=\u001b[0m\u001b[0msgd\u001b[0m\u001b[1;33m,\u001b[0m \u001b[0mmetrics\u001b[0m\u001b[1;33m=\u001b[0m\u001b[1;33m[\u001b[0m\u001b[1;34m'accuracy'\u001b[0m\u001b[1;33m]\u001b[0m\u001b[1;33m)\u001b[0m\u001b[1;33m\u001b[0m\u001b[0m\n\u001b[0;32m---> 31\u001b[0;31m         \u001b[0mtrace1\u001b[0m \u001b[1;33m=\u001b[0m \u001b[0mmodel1\u001b[0m\u001b[1;33m.\u001b[0m\u001b[0mfit\u001b[0m\u001b[1;33m(\u001b[0m\u001b[0mx\u001b[0m\u001b[1;33m[\u001b[0m\u001b[1;36m0\u001b[0m\u001b[1;33m:\u001b[0m\u001b[1;36m4000\u001b[0m\u001b[1;33m,\u001b[0m\u001b[1;33m:\u001b[0m\u001b[1;33m]\u001b[0m\u001b[1;33m,\u001b[0m \u001b[0my\u001b[0m\u001b[1;33m[\u001b[0m\u001b[1;36m0\u001b[0m\u001b[1;33m:\u001b[0m\u001b[1;36m4000\u001b[0m\u001b[1;33m]\u001b[0m\u001b[1;33m,\u001b[0m\u001b[0mepochs\u001b[0m\u001b[1;33m=\u001b[0m\u001b[0mmax_epoch\u001b[0m\u001b[1;33m,\u001b[0m\u001b[0mbatch_size\u001b[0m\u001b[1;33m=\u001b[0m\u001b[1;36m64\u001b[0m\u001b[1;33m,\u001b[0m\u001b[0mverbose\u001b[0m\u001b[1;33m=\u001b[0m\u001b[1;36m0\u001b[0m\u001b[1;33m)\u001b[0m\u001b[1;33m\u001b[0m\u001b[0m\n\u001b[0m\u001b[1;32m     32\u001b[0m         \u001b[0mscore1\u001b[0m \u001b[1;33m=\u001b[0m \u001b[0mmodel1\u001b[0m\u001b[1;33m.\u001b[0m\u001b[0mevaluate\u001b[0m\u001b[1;33m(\u001b[0m\u001b[0mx\u001b[0m\u001b[1;33m[\u001b[0m\u001b[1;36m4000\u001b[0m\u001b[1;33m:\u001b[0m\u001b[1;36m5000\u001b[0m\u001b[1;33m,\u001b[0m\u001b[1;33m:\u001b[0m\u001b[1;33m]\u001b[0m\u001b[1;33m,\u001b[0m \u001b[0my\u001b[0m\u001b[1;33m[\u001b[0m\u001b[1;36m4000\u001b[0m\u001b[1;33m:\u001b[0m\u001b[1;36m5000\u001b[0m\u001b[1;33m]\u001b[0m\u001b[1;33m,\u001b[0m \u001b[0mbatch_size\u001b[0m\u001b[1;33m=\u001b[0m\u001b[1;36m64\u001b[0m\u001b[1;33m)\u001b[0m\u001b[1;33m\u001b[0m\u001b[0m\n\u001b[1;32m     33\u001b[0m         \u001b[0mmodel2\u001b[0m \u001b[1;33m=\u001b[0m \u001b[0mSequential\u001b[0m\u001b[1;33m(\u001b[0m\u001b[1;33m)\u001b[0m\u001b[1;33m\u001b[0m\u001b[0m\n",
      "\u001b[0;32mC:\\Users\\glius\\Anaconda3\\lib\\site-packages\\keras\\models.py\u001b[0m in \u001b[0;36mfit\u001b[0;34m(self, x, y, batch_size, epochs, verbose, callbacks, validation_split, validation_data, shuffle, class_weight, sample_weight, initial_epoch, **kwargs)\u001b[0m\n\u001b[1;32m    865\u001b[0m                               \u001b[0mclass_weight\u001b[0m\u001b[1;33m=\u001b[0m\u001b[0mclass_weight\u001b[0m\u001b[1;33m,\u001b[0m\u001b[1;33m\u001b[0m\u001b[0m\n\u001b[1;32m    866\u001b[0m                               \u001b[0msample_weight\u001b[0m\u001b[1;33m=\u001b[0m\u001b[0msample_weight\u001b[0m\u001b[1;33m,\u001b[0m\u001b[1;33m\u001b[0m\u001b[0m\n\u001b[0;32m--> 867\u001b[0;31m                               initial_epoch=initial_epoch)\n\u001b[0m\u001b[1;32m    868\u001b[0m \u001b[1;33m\u001b[0m\u001b[0m\n\u001b[1;32m    869\u001b[0m     def evaluate(self, x, y, batch_size=32, verbose=1,\n",
      "\u001b[0;32mC:\\Users\\glius\\Anaconda3\\lib\\site-packages\\keras\\engine\\training.py\u001b[0m in \u001b[0;36mfit\u001b[0;34m(self, x, y, batch_size, epochs, verbose, callbacks, validation_split, validation_data, shuffle, class_weight, sample_weight, initial_epoch, steps_per_epoch, validation_steps, **kwargs)\u001b[0m\n\u001b[1;32m   1596\u001b[0m                               \u001b[0minitial_epoch\u001b[0m\u001b[1;33m=\u001b[0m\u001b[0minitial_epoch\u001b[0m\u001b[1;33m,\u001b[0m\u001b[1;33m\u001b[0m\u001b[0m\n\u001b[1;32m   1597\u001b[0m                               \u001b[0msteps_per_epoch\u001b[0m\u001b[1;33m=\u001b[0m\u001b[0msteps_per_epoch\u001b[0m\u001b[1;33m,\u001b[0m\u001b[1;33m\u001b[0m\u001b[0m\n\u001b[0;32m-> 1598\u001b[0;31m                               validation_steps=validation_steps)\n\u001b[0m\u001b[1;32m   1599\u001b[0m \u001b[1;33m\u001b[0m\u001b[0m\n\u001b[1;32m   1600\u001b[0m     def evaluate(self, x, y,\n",
      "\u001b[0;32mC:\\Users\\glius\\Anaconda3\\lib\\site-packages\\keras\\engine\\training.py\u001b[0m in \u001b[0;36m_fit_loop\u001b[0;34m(self, f, ins, out_labels, batch_size, epochs, verbose, callbacks, val_f, val_ins, shuffle, callback_metrics, initial_epoch, steps_per_epoch, validation_steps)\u001b[0m\n\u001b[1;32m   1181\u001b[0m                     \u001b[0mbatch_logs\u001b[0m\u001b[1;33m[\u001b[0m\u001b[1;34m'size'\u001b[0m\u001b[1;33m]\u001b[0m \u001b[1;33m=\u001b[0m \u001b[0mlen\u001b[0m\u001b[1;33m(\u001b[0m\u001b[0mbatch_ids\u001b[0m\u001b[1;33m)\u001b[0m\u001b[1;33m\u001b[0m\u001b[0m\n\u001b[1;32m   1182\u001b[0m                     \u001b[0mcallbacks\u001b[0m\u001b[1;33m.\u001b[0m\u001b[0mon_batch_begin\u001b[0m\u001b[1;33m(\u001b[0m\u001b[0mbatch_index\u001b[0m\u001b[1;33m,\u001b[0m \u001b[0mbatch_logs\u001b[0m\u001b[1;33m)\u001b[0m\u001b[1;33m\u001b[0m\u001b[0m\n\u001b[0;32m-> 1183\u001b[0;31m                     \u001b[0mouts\u001b[0m \u001b[1;33m=\u001b[0m \u001b[0mf\u001b[0m\u001b[1;33m(\u001b[0m\u001b[0mins_batch\u001b[0m\u001b[1;33m)\u001b[0m\u001b[1;33m\u001b[0m\u001b[0m\n\u001b[0m\u001b[1;32m   1184\u001b[0m                     \u001b[1;32mif\u001b[0m \u001b[1;32mnot\u001b[0m \u001b[0misinstance\u001b[0m\u001b[1;33m(\u001b[0m\u001b[0mouts\u001b[0m\u001b[1;33m,\u001b[0m \u001b[0mlist\u001b[0m\u001b[1;33m)\u001b[0m\u001b[1;33m:\u001b[0m\u001b[1;33m\u001b[0m\u001b[0m\n\u001b[1;32m   1185\u001b[0m                         \u001b[0mouts\u001b[0m \u001b[1;33m=\u001b[0m \u001b[1;33m[\u001b[0m\u001b[0mouts\u001b[0m\u001b[1;33m]\u001b[0m\u001b[1;33m\u001b[0m\u001b[0m\n",
      "\u001b[0;32mC:\\Users\\glius\\Anaconda3\\lib\\site-packages\\keras\\backend\\tensorflow_backend.py\u001b[0m in \u001b[0;36m__call__\u001b[0;34m(self, inputs)\u001b[0m\n\u001b[1;32m   2271\u001b[0m         updated = session.run(self.outputs + [self.updates_op],\n\u001b[1;32m   2272\u001b[0m                               \u001b[0mfeed_dict\u001b[0m\u001b[1;33m=\u001b[0m\u001b[0mfeed_dict\u001b[0m\u001b[1;33m,\u001b[0m\u001b[1;33m\u001b[0m\u001b[0m\n\u001b[0;32m-> 2273\u001b[0;31m                               **self.session_kwargs)\n\u001b[0m\u001b[1;32m   2274\u001b[0m         \u001b[1;32mreturn\u001b[0m \u001b[0mupdated\u001b[0m\u001b[1;33m[\u001b[0m\u001b[1;33m:\u001b[0m\u001b[0mlen\u001b[0m\u001b[1;33m(\u001b[0m\u001b[0mself\u001b[0m\u001b[1;33m.\u001b[0m\u001b[0moutputs\u001b[0m\u001b[1;33m)\u001b[0m\u001b[1;33m]\u001b[0m\u001b[1;33m\u001b[0m\u001b[0m\n\u001b[1;32m   2275\u001b[0m \u001b[1;33m\u001b[0m\u001b[0m\n",
      "\u001b[0;32mC:\\Users\\glius\\Anaconda3\\lib\\site-packages\\tensorflow\\python\\client\\session.py\u001b[0m in \u001b[0;36mrun\u001b[0;34m(self, fetches, feed_dict, options, run_metadata)\u001b[0m\n\u001b[1;32m    887\u001b[0m     \u001b[1;32mtry\u001b[0m\u001b[1;33m:\u001b[0m\u001b[1;33m\u001b[0m\u001b[0m\n\u001b[1;32m    888\u001b[0m       result = self._run(None, fetches, feed_dict, options_ptr,\n\u001b[0;32m--> 889\u001b[0;31m                          run_metadata_ptr)\n\u001b[0m\u001b[1;32m    890\u001b[0m       \u001b[1;32mif\u001b[0m \u001b[0mrun_metadata\u001b[0m\u001b[1;33m:\u001b[0m\u001b[1;33m\u001b[0m\u001b[0m\n\u001b[1;32m    891\u001b[0m         \u001b[0mproto_data\u001b[0m \u001b[1;33m=\u001b[0m \u001b[0mtf_session\u001b[0m\u001b[1;33m.\u001b[0m\u001b[0mTF_GetBuffer\u001b[0m\u001b[1;33m(\u001b[0m\u001b[0mrun_metadata_ptr\u001b[0m\u001b[1;33m)\u001b[0m\u001b[1;33m\u001b[0m\u001b[0m\n",
      "\u001b[0;32mC:\\Users\\glius\\Anaconda3\\lib\\site-packages\\tensorflow\\python\\client\\session.py\u001b[0m in \u001b[0;36m_run\u001b[0;34m(self, handle, fetches, feed_dict, options, run_metadata)\u001b[0m\n\u001b[1;32m   1118\u001b[0m     \u001b[1;32mif\u001b[0m \u001b[0mfinal_fetches\u001b[0m \u001b[1;32mor\u001b[0m \u001b[0mfinal_targets\u001b[0m \u001b[1;32mor\u001b[0m \u001b[1;33m(\u001b[0m\u001b[0mhandle\u001b[0m \u001b[1;32mand\u001b[0m \u001b[0mfeed_dict_tensor\u001b[0m\u001b[1;33m)\u001b[0m\u001b[1;33m:\u001b[0m\u001b[1;33m\u001b[0m\u001b[0m\n\u001b[1;32m   1119\u001b[0m       results = self._do_run(handle, final_targets, final_fetches,\n\u001b[0;32m-> 1120\u001b[0;31m                              feed_dict_tensor, options, run_metadata)\n\u001b[0m\u001b[1;32m   1121\u001b[0m     \u001b[1;32melse\u001b[0m\u001b[1;33m:\u001b[0m\u001b[1;33m\u001b[0m\u001b[0m\n\u001b[1;32m   1122\u001b[0m       \u001b[0mresults\u001b[0m \u001b[1;33m=\u001b[0m \u001b[1;33m[\u001b[0m\u001b[1;33m]\u001b[0m\u001b[1;33m\u001b[0m\u001b[0m\n",
      "\u001b[0;32mC:\\Users\\glius\\Anaconda3\\lib\\site-packages\\tensorflow\\python\\client\\session.py\u001b[0m in \u001b[0;36m_do_run\u001b[0;34m(self, handle, target_list, fetch_list, feed_dict, options, run_metadata)\u001b[0m\n\u001b[1;32m   1315\u001b[0m     \u001b[1;32mif\u001b[0m \u001b[0mhandle\u001b[0m \u001b[1;32mis\u001b[0m \u001b[1;32mNone\u001b[0m\u001b[1;33m:\u001b[0m\u001b[1;33m\u001b[0m\u001b[0m\n\u001b[1;32m   1316\u001b[0m       return self._do_call(_run_fn, self._session, feeds, fetches, targets,\n\u001b[0;32m-> 1317\u001b[0;31m                            options, run_metadata)\n\u001b[0m\u001b[1;32m   1318\u001b[0m     \u001b[1;32melse\u001b[0m\u001b[1;33m:\u001b[0m\u001b[1;33m\u001b[0m\u001b[0m\n\u001b[1;32m   1319\u001b[0m       \u001b[1;32mreturn\u001b[0m \u001b[0mself\u001b[0m\u001b[1;33m.\u001b[0m\u001b[0m_do_call\u001b[0m\u001b[1;33m(\u001b[0m\u001b[0m_prun_fn\u001b[0m\u001b[1;33m,\u001b[0m \u001b[0mself\u001b[0m\u001b[1;33m.\u001b[0m\u001b[0m_session\u001b[0m\u001b[1;33m,\u001b[0m \u001b[0mhandle\u001b[0m\u001b[1;33m,\u001b[0m \u001b[0mfeeds\u001b[0m\u001b[1;33m,\u001b[0m \u001b[0mfetches\u001b[0m\u001b[1;33m)\u001b[0m\u001b[1;33m\u001b[0m\u001b[0m\n",
      "\u001b[0;32mC:\\Users\\glius\\Anaconda3\\lib\\site-packages\\tensorflow\\python\\client\\session.py\u001b[0m in \u001b[0;36m_do_call\u001b[0;34m(self, fn, *args)\u001b[0m\n\u001b[1;32m   1321\u001b[0m   \u001b[1;32mdef\u001b[0m \u001b[0m_do_call\u001b[0m\u001b[1;33m(\u001b[0m\u001b[0mself\u001b[0m\u001b[1;33m,\u001b[0m \u001b[0mfn\u001b[0m\u001b[1;33m,\u001b[0m \u001b[1;33m*\u001b[0m\u001b[0margs\u001b[0m\u001b[1;33m)\u001b[0m\u001b[1;33m:\u001b[0m\u001b[1;33m\u001b[0m\u001b[0m\n\u001b[1;32m   1322\u001b[0m     \u001b[1;32mtry\u001b[0m\u001b[1;33m:\u001b[0m\u001b[1;33m\u001b[0m\u001b[0m\n\u001b[0;32m-> 1323\u001b[0;31m       \u001b[1;32mreturn\u001b[0m \u001b[0mfn\u001b[0m\u001b[1;33m(\u001b[0m\u001b[1;33m*\u001b[0m\u001b[0margs\u001b[0m\u001b[1;33m)\u001b[0m\u001b[1;33m\u001b[0m\u001b[0m\n\u001b[0m\u001b[1;32m   1324\u001b[0m     \u001b[1;32mexcept\u001b[0m \u001b[0merrors\u001b[0m\u001b[1;33m.\u001b[0m\u001b[0mOpError\u001b[0m \u001b[1;32mas\u001b[0m \u001b[0me\u001b[0m\u001b[1;33m:\u001b[0m\u001b[1;33m\u001b[0m\u001b[0m\n\u001b[1;32m   1325\u001b[0m       \u001b[0mmessage\u001b[0m \u001b[1;33m=\u001b[0m \u001b[0mcompat\u001b[0m\u001b[1;33m.\u001b[0m\u001b[0mas_text\u001b[0m\u001b[1;33m(\u001b[0m\u001b[0me\u001b[0m\u001b[1;33m.\u001b[0m\u001b[0mmessage\u001b[0m\u001b[1;33m)\u001b[0m\u001b[1;33m\u001b[0m\u001b[0m\n",
      "\u001b[0;32mC:\\Users\\glius\\Anaconda3\\lib\\site-packages\\tensorflow\\python\\client\\session.py\u001b[0m in \u001b[0;36m_run_fn\u001b[0;34m(session, feed_dict, fetch_list, target_list, options, run_metadata)\u001b[0m\n\u001b[1;32m   1292\u001b[0m       \u001b[1;31m# Ensure any changes to the graph are reflected in the runtime.\u001b[0m\u001b[1;33m\u001b[0m\u001b[1;33m\u001b[0m\u001b[0m\n\u001b[1;32m   1293\u001b[0m       \u001b[0mself\u001b[0m\u001b[1;33m.\u001b[0m\u001b[0m_extend_graph\u001b[0m\u001b[1;33m(\u001b[0m\u001b[1;33m)\u001b[0m\u001b[1;33m\u001b[0m\u001b[0m\n\u001b[0;32m-> 1294\u001b[0;31m       \u001b[1;32mwith\u001b[0m \u001b[0merrors\u001b[0m\u001b[1;33m.\u001b[0m\u001b[0mraise_exception_on_not_ok_status\u001b[0m\u001b[1;33m(\u001b[0m\u001b[1;33m)\u001b[0m \u001b[1;32mas\u001b[0m \u001b[0mstatus\u001b[0m\u001b[1;33m:\u001b[0m\u001b[1;33m\u001b[0m\u001b[0m\n\u001b[0m\u001b[1;32m   1295\u001b[0m         \u001b[1;32mif\u001b[0m \u001b[0mself\u001b[0m\u001b[1;33m.\u001b[0m\u001b[0m_created_with_new_api\u001b[0m\u001b[1;33m:\u001b[0m\u001b[1;33m\u001b[0m\u001b[0m\n\u001b[1;32m   1296\u001b[0m           return tf_session.TF_SessionRun_wrapper(\n",
      "\u001b[0;32mC:\\Users\\glius\\Anaconda3\\lib\\site-packages\\tensorflow\\python\\framework\\errors_impl.py\u001b[0m in \u001b[0;36m__enter__\u001b[0;34m(self)\u001b[0m\n\u001b[1;32m    462\u001b[0m \u001b[1;33m\u001b[0m\u001b[0m\n\u001b[1;32m    463\u001b[0m   \u001b[1;32mdef\u001b[0m \u001b[0m__enter__\u001b[0m\u001b[1;33m(\u001b[0m\u001b[0mself\u001b[0m\u001b[1;33m)\u001b[0m\u001b[1;33m:\u001b[0m\u001b[1;33m\u001b[0m\u001b[0m\n\u001b[0;32m--> 464\u001b[0;31m     \u001b[0mself\u001b[0m\u001b[1;33m.\u001b[0m\u001b[0mstatus\u001b[0m \u001b[1;33m=\u001b[0m \u001b[0mc_api_util\u001b[0m\u001b[1;33m.\u001b[0m\u001b[0mScopedTFStatus\u001b[0m\u001b[1;33m(\u001b[0m\u001b[1;33m)\u001b[0m\u001b[1;33m\u001b[0m\u001b[0m\n\u001b[0m\u001b[1;32m    465\u001b[0m     \u001b[1;32mreturn\u001b[0m \u001b[0mself\u001b[0m\u001b[1;33m.\u001b[0m\u001b[0mstatus\u001b[0m\u001b[1;33m.\u001b[0m\u001b[0mstatus\u001b[0m\u001b[1;33m\u001b[0m\u001b[0m\n\u001b[1;32m    466\u001b[0m \u001b[1;33m\u001b[0m\u001b[0m\n",
      "\u001b[0;32mC:\\Users\\glius\\Anaconda3\\lib\\site-packages\\tensorflow\\python\\framework\\c_api_util.py\u001b[0m in \u001b[0;36m__init__\u001b[0;34m(self)\u001b[0m\n\u001b[1;32m     28\u001b[0m \u001b[1;33m\u001b[0m\u001b[0m\n\u001b[1;32m     29\u001b[0m   \u001b[1;32mdef\u001b[0m \u001b[0m__init__\u001b[0m\u001b[1;33m(\u001b[0m\u001b[0mself\u001b[0m\u001b[1;33m)\u001b[0m\u001b[1;33m:\u001b[0m\u001b[1;33m\u001b[0m\u001b[0m\n\u001b[0;32m---> 30\u001b[0;31m     \u001b[0mself\u001b[0m\u001b[1;33m.\u001b[0m\u001b[0mstatus\u001b[0m \u001b[1;33m=\u001b[0m \u001b[0mc_api\u001b[0m\u001b[1;33m.\u001b[0m\u001b[0mTF_NewStatus\u001b[0m\u001b[1;33m(\u001b[0m\u001b[1;33m)\u001b[0m\u001b[1;33m\u001b[0m\u001b[0m\n\u001b[0m\u001b[1;32m     31\u001b[0m \u001b[1;33m\u001b[0m\u001b[0m\n\u001b[1;32m     32\u001b[0m   \u001b[1;32mdef\u001b[0m \u001b[0m__del__\u001b[0m\u001b[1;33m(\u001b[0m\u001b[0mself\u001b[0m\u001b[1;33m)\u001b[0m\u001b[1;33m:\u001b[0m\u001b[1;33m\u001b[0m\u001b[0m\n",
      "\u001b[0;31mKeyboardInterrupt\u001b[0m: "
     ]
    }
   ],
   "source": [
    "## zoom in 0-2, with regularization\n",
    "max_epoch = 100\n",
    "table = np.zeros((10,11,5))\n",
    "for k in range(10):\n",
    "    for i in range(11):\n",
    "        t = 0.02*i\n",
    "        inter_effect = np.array([1,0.5,1,2,3])*t\n",
    "        eta_wo_intercept = np.dot(main_matrix,main_effect) + np.dot(inter_matrix,inter_effect)\n",
    "        intercept = -np.mean(eta_wo_intercept)\n",
    "        eps = np.random.normal(0, 1, N)\n",
    "        eta = eta_wo_intercept + intercept + eps\n",
    "        p = np.exp(eta)/(1+np.exp(eta))\n",
    "        y = np.zeros(N)\n",
    "        y[p>0.5]=1\n",
    "        forest = ExtraTreesClassifier(n_estimators=20, random_state=0)\n",
    "        forest.fit(df, y)\n",
    "        importances = forest.feature_importances_\n",
    "        std = np.std([tree.feature_importances_ for tree in forest.estimators_],axis=0)\n",
    "        inter_prop1 = 1-sum(importances[range(7)])\n",
    "        x = np.array(df)\n",
    "        y = np.array(y)\n",
    "        m = LogisticRegression()\n",
    "        m.fit(x, y)\n",
    "        inter_prop2 = 1-sum((np.std(x, 0)*abs(m.coef_))[0][0:6])/sum((np.std(x, 0)*abs(m.coef_))[0])\n",
    "        inter_prop = (inter_prop1+inter_prop2)/2\n",
    "        model1 = Sequential()\n",
    "        model1.add(Dense(20, input_dim=np.shape(x)[1],kernel_regularizer=regularizers.l2(0.02),activation='tanh'))\n",
    "        model1.add(Dense(1, activation='sigmoid'))\n",
    "        sgd = optimizers.SGD(lr=0.01, decay=1e-6, momentum=0.9, nesterov=True)\n",
    "        model1.compile(loss='binary_crossentropy',optimizer=sgd, metrics=['accuracy'])\n",
    "        trace1 = model1.fit(x[0:4000,:], y[0:4000],epochs=max_epoch,batch_size=64,verbose=0)\n",
    "        score1 = model1.evaluate(x[4000:5000,:], y[4000:5000], batch_size=64)\n",
    "        model2 = Sequential()\n",
    "        num_main = 7\n",
    "        model2.add(Dense(20, input_dim=num_main,kernel_regularizer=regularizers.l2(0.02),activation='tanh'))\n",
    "        model2.add(Dense(1, activation='sigmoid'))\n",
    "        model2.compile(loss='binary_crossentropy',optimizer=sgd, metrics=['accuracy'])\n",
    "        trace2 = model2.fit(x[0:4000,0:num_main], y[0:4000],epochs=max_epoch,batch_size=64,verbose=0)\n",
    "        score2 = model2.evaluate(x[4000:5000,0:num_main], y[4000:5000], batch_size=64)\n",
    "        best_acc = np.transpose(trace2.history['acc'])[70]\n",
    "        step2 = min(np.where(np.transpose(trace2.history['acc'])>=best_acc)[0])\n",
    "        if len(np.where(np.transpose(trace1.history['acc'])>=best_acc)[0])==0:\n",
    "            step1 = max_epoch\n",
    "        else:\n",
    "            step1 = min(np.where(np.transpose(trace1.history['acc'])>=best_acc)[0])\n",
    "        table[k,i,:]=np.array([i,inter_prop,step2-step1,score1[1],score2[1]])\n",
    "\n",
    "cPickle.dump( table, open( \"small_table.pkl\", \"wb\" ) )"
   ]
  },
  {
   "cell_type": "code",
   "execution_count": null,
   "metadata": {
    "collapsed": true
   },
   "outputs": [],
   "source": []
  },
  {
   "cell_type": "code",
   "execution_count": 25,
   "metadata": {},
   "outputs": [],
   "source": [
    "# read from cPickle\n",
    "#table = cPickle.load( open( \"filename.pkl\", \"rb\" ) )"
   ]
  }
 ],
 "metadata": {
  "anaconda-cloud": {},
  "kernelspec": {
   "display_name": "Python 3",
   "language": "python",
   "name": "python3"
  },
  "language_info": {
   "codemirror_mode": {
    "name": "ipython",
    "version": 3
   },
   "file_extension": ".py",
   "mimetype": "text/x-python",
   "name": "python",
   "nbconvert_exporter": "python",
   "pygments_lexer": "ipython3",
   "version": "3.6.3"
  }
 },
 "nbformat": 4,
 "nbformat_minor": 1
}
