{
 "cells": [
  {
   "cell_type": "markdown",
   "metadata": {},
   "source": [
    "# MIT 6.867 Final Project: Ensembling Algorithms\n",
    "Irina Degtiar\n",
    "\n",
    "Sources for functions: https://www.kaggle.com/arthurtok/introduction-to-ensembling-stacking-in-python\n",
    "https://rasbt.github.io/mlxtend/user_guide/classifier/StackingClassifier/"
   ]
  },
  {
   "cell_type": "code",
   "execution_count": 17,
   "metadata": {},
   "outputs": [
    {
     "name": "stdout",
     "output_type": "stream",
     "text": [
      "The autoreload extension is already loaded. To reload it, use:\n",
      "  %reload_ext autoreload\n"
     ]
    }
   ],
   "source": [
    "##########################################################################################################\n",
    "### Set up workspace\n",
    "##########################################################################################################\n",
    "# Ensure re-load of all code\n",
    "%load_ext autoreload\n",
    "%autoreload 2\n",
    "%matplotlib inline\n",
    "\n",
    "# Import libraries - general\n",
    "import numpy as np\n",
    "import pylab as pl\n",
    "import pandas as pd\n",
    "import random\n",
    "\n",
    "# Import libraries - classification\n",
    "import sklearn.metrics\n",
    "from sklearn import model_selection\n",
    "from sklearn.linear_model import LogisticRegression\n",
    "from sklearn.neighbors import KNeighborsClassifier\n",
    "from sklearn.naive_bayes import GaussianNB \n",
    "from sklearn.ensemble import RandomForestClassifier\n",
    "from mlxtend.classifier import StackingClassifier\n",
    "from Helper_files.Gini_coefficient import gini_sklearn"
   ]
  },
  {
   "cell_type": "code",
   "execution_count": 4,
   "metadata": {},
   "outputs": [],
   "source": [
    "##########################################################################################################\n",
    "### Load data\n",
    "##########################################################################################################\n",
    "training_scaled = pd.read_pickle('../Data/2_Cleaned/training_scaled.pickle')\n",
    "validation_scaled = pd.read_pickle('../Data/2_Cleaned/training_scaled.pickle')\n",
    "test_scaled = pd.read_pickle('../Data/2_Cleaned/training_scaled.pickle')"
   ]
  },
  {
   "cell_type": "code",
   "execution_count": null,
   "metadata": {
    "collapsed": true
   },
   "outputs": [],
   "source": [
    "# ##########################################################################################################\n",
    "# ### Define functions\n",
    "# ##########################################################################################################\n",
    "# # Parameter definition\n",
    "# ntrain = train.shape[0]\n",
    "# ntest = test.shape[0]\n",
    "# SEED = 123 # for reproducibility\n",
    "# NFOLDS = 5 # set folds for out-of-fold prediction\n",
    "# kf = KFold(ntrain, n_folds= NFOLDS, random_state=SEED)\n",
    "\n",
    "# # Class to extend the Sklearn classifier\n",
    "# class SklearnHelper(object):\n",
    "#     def __init__(self, classifier, seed=0, params=None):\n",
    "#         params['random_state'] = seed\n",
    "#         self.classifier = classifier(**params)\n",
    "\n",
    "#     def train(self, x_train, y_train):\n",
    "#         self.classifier.fit(x_train, y_train)\n",
    "\n",
    "#     def predict(self, x):\n",
    "#         return self.classifier.predict(x)\n",
    "    \n",
    "#     def fit(self,x,y):\n",
    "#         return self.classifier.fit(x,y)\n",
    "    \n",
    "#     def feature_importances(self,x,y):\n",
    "#         return self.classifier.fit(x,y).feature_importances_\n",
    "\n",
    "# # Function to obtain out-of-fold training and test predictions\n",
    "# def get_oof(classifier, x_train, y_train, x_test):\n",
    "#     oof_train = np.zeros((ntrain,))\n",
    "#     oof_test = np.zeros((ntest,))\n",
    "#     oof_test_skf = np.empty((NFOLDS, ntest))\n",
    "\n",
    "#     for i, (train_index, test_index) in enumerate(kf):\n",
    "#         x_tr = x_train[train_index]\n",
    "#         y_tr = y_train[train_index]\n",
    "#         x_te = x_train[test_index]\n",
    "\n",
    "#         classifier.train(x_tr, y_tr)\n",
    "\n",
    "#         oof_train[test_index] = classifier.predict(x_te)\n",
    "#         oof_test_skf[i, :] = classifier.predict(x_test)\n",
    "\n",
    "#     oof_test[:] = oof_test_skf.mean(axis=0)\n",
    "#     return oof_train.reshape(-1, 1), oof_test.reshape(-1, 1)"
   ]
  },
  {
   "cell_type": "code",
   "execution_count": 15,
   "metadata": {},
   "outputs": [],
   "source": [
    "##########################################################################################################\n",
    "### Set parameters for each algorithm; create algorithms\n",
    "##########################################################################################################\n",
    "seed = 123\n",
    "\n",
    "clf1 = KNeighborsClassifier(n_neighbors=1)\n",
    "clf2 = RandomForestClassifier(bootstrap=True, class_weight=None, criterion='gini',\n",
    "    max_depth=9, max_features='auto', max_leaf_nodes=None,\n",
    "    #min_impurity_decrease=0, min_impurity_split=None,\n",
    "    min_samples_leaf=1, min_samples_split=2,\n",
    "    min_weight_fraction_leaf=0.0, n_estimators=10, n_jobs=1,\n",
    "    oob_score=False, random_state=seed, verbose=0, warm_start=False)\n",
    "clf3 = GaussianNB()\n",
    "lr = LogisticRegression() # Will replace with XGBoost\n",
    "sclf = StackingClassifier(classifiers=[clf1, clf2, clf3],\n",
    "                          use_probas=False,\n",
    "                          average_probas=False,\n",
    "                          meta_classifier=lr)\n"
   ]
  },
  {
   "cell_type": "code",
   "execution_count": null,
   "metadata": {},
   "outputs": [],
   "source": [
    "##########################################################################################################\n",
    "### Run stacked ensemble\n",
    "##########################################################################################################\n",
    "print('5-fold cross validation:\\n')\n",
    "X = training_scaled.drop(['id', 'target'], 1)\n",
    "y = training_scaled['target']\n",
    "\n",
    "for clf, label in zip([clf1, clf2, clf3, sclf], \n",
    "                      ['KNN', \n",
    "                       'Random Forest', \n",
    "                       'Naive Bayes',\n",
    "                       'StackingClassifier']):\n",
    "    scores = model_selection.cross_val_score(clf, X, y, \n",
    "                                              cv=5, scoring=gini_sklearn)\n",
    "    print(\"Accuracy: %0.2f (+/- %0.2f) [%s]\" \n",
    "          % (scores.mean(), scores.std(), label))\n"
   ]
  }
 ],
 "metadata": {
  "kernelspec": {
   "display_name": "Python [conda root]",
   "language": "python",
   "name": "conda-root-py"
  },
  "language_info": {
   "codemirror_mode": {
    "name": "ipython",
    "version": 3
   },
   "file_extension": ".py",
   "mimetype": "text/x-python",
   "name": "python",
   "nbconvert_exporter": "python",
   "pygments_lexer": "ipython3",
   "version": "3.6.1"
  }
 },
 "nbformat": 4,
 "nbformat_minor": 2
}
