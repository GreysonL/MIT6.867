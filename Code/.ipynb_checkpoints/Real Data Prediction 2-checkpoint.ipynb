{
 "cells": [
  {
   "cell_type": "code",
   "execution_count": 9,
   "metadata": {},
   "outputs": [],
   "source": [
    "import keras\n",
    "import matplotlib.pyplot as plt\n",
    "from sklearn.utils import class_weight\n",
    "from keras.models import Sequential, Model\n",
    "from keras.layers import Dense, Dropout, Activation,Input, Merge, add\n",
    "from keras.layers.normalization import BatchNormalization\n",
    "from keras.optimizers import SGD\n",
    "import numpy as np\n",
    "import pandas as pd\n",
    "import random"
   ]
  },
  {
   "cell_type": "code",
   "execution_count": 10,
   "metadata": {
    "collapsed": true
   },
   "outputs": [],
   "source": [
    "data = pd.read_csv('../Data/trainset_1120.csv')\n",
    "x = data.drop(data.columns[[0, 1]], axis=1)\n",
    "x = np.array(x)\n",
    "y = data['target']\n",
    "y = np.array(y)"
   ]
  },
  {
   "cell_type": "code",
   "execution_count": 11,
   "metadata": {
    "collapsed": true
   },
   "outputs": [],
   "source": [
    "random.seed(867)\n",
    "train_index = np.random.choice(range(data.shape[0]),int(0.8*data.shape[0]))\n",
    "validate_index=set(range(data.shape[0]))-set(train_index)\n",
    "validate_index=np.array(list(validate_index),dtype='int64')"
   ]
  },
  {
   "cell_type": "code",
   "execution_count": 12,
   "metadata": {},
   "outputs": [],
   "source": [
    "x_train = x[train_index,:]\n",
    "x_validate = x[validate_index,:]\n",
    "y_train = y[train_index]\n",
    "y_validate = y[validate_index]"
   ]
  },
  {
   "cell_type": "code",
   "execution_count": 13,
   "metadata": {
    "collapsed": true
   },
   "outputs": [],
   "source": [
    "import keras.backend as K\n",
    "import tensorflow as tf\n",
    "def gini(actual, pred):\n",
    "    pred = tf.argmax(pred, axis=1)\n",
    "    actual = tf.argmax(actual, axis=1)\n",
    "    nT = K.shape(pred)[0]\n",
    "    n = K.cast(nT, dtype='int32')\n",
    "    n_float = K.cast(nT, dtype=K.floatx())\n",
    "    actual = K.reshape(actual,(1,n))[-1]\n",
    "    pred = K.reshape(pred,(1,n))[-1]\n",
    "    inds = tf.nn.top_k(pred, n)[1]\n",
    "    a_s = K.gather(actual, inds)\n",
    "    a_c = K.cumsum(a_s)\n",
    "    s1 = K.sum(a_c)\n",
    "    s2 = K.sum(a_s)\n",
    "    giniSum = K.cast(tf.divide(s1,s2),dtype=K.floatx()) - K.cast(tf.divide(n+1,2),dtype=K.floatx())\n",
    "    standard_gini = K.cast(tf.divide(giniSum,n_float),dtype=K.floatx())\n",
    "    return standard_gini\n",
    "\n",
    "def gini_normalized(a, p):\n",
    "    norm_gini = K.cast(tf.divide(gini(a, p),gini(a, a)),dtype=K.floatx())\n",
    "    return norm_gini\n"
   ]
  },
  {
   "cell_type": "code",
   "execution_count": 14,
   "metadata": {},
   "outputs": [
    {
     "data": {
      "text/plain": [
       "array([  0.51899207,  13.66338594])"
      ]
     },
     "execution_count": 14,
     "metadata": {},
     "output_type": "execute_result"
    }
   ],
   "source": [
    "from sklearn.utils import class_weight\n",
    "class_weight = class_weight.compute_class_weight('balanced', np.unique(y_train), y_train)\n",
    "class_weight"
   ]
  },
  {
   "cell_type": "code",
   "execution_count": 15,
   "metadata": {},
   "outputs": [
    {
     "ename": "NameError",
     "evalue": "name 'new_x_train' is not defined",
     "output_type": "error",
     "traceback": [
      "\u001b[0;31m---------------------------------------------------------------------------\u001b[0m",
      "\u001b[0;31mNameError\u001b[0m                                 Traceback (most recent call last)",
      "\u001b[0;32m<ipython-input-15-7a7fc999b08c>\u001b[0m in \u001b[0;36m<module>\u001b[0;34m()\u001b[0m\n\u001b[1;32m      1\u001b[0m \u001b[0;34m\u001b[0m\u001b[0m\n\u001b[1;32m      2\u001b[0m \u001b[0mmodel\u001b[0m \u001b[0;34m=\u001b[0m \u001b[0mSequential\u001b[0m\u001b[0;34m(\u001b[0m\u001b[0;34m)\u001b[0m\u001b[0;34m\u001b[0m\u001b[0m\n\u001b[0;32m----> 3\u001b[0;31m \u001b[0mmodel\u001b[0m\u001b[0;34m.\u001b[0m\u001b[0madd\u001b[0m\u001b[0;34m(\u001b[0m\u001b[0mDense\u001b[0m\u001b[0;34m(\u001b[0m\u001b[0;36m400\u001b[0m\u001b[0;34m,\u001b[0m \u001b[0mactivation\u001b[0m\u001b[0;34m=\u001b[0m\u001b[0;34m'relu'\u001b[0m\u001b[0;34m,\u001b[0m \u001b[0minput_dim\u001b[0m\u001b[0;34m=\u001b[0m\u001b[0mnew_x_train\u001b[0m\u001b[0;34m.\u001b[0m\u001b[0mshape\u001b[0m\u001b[0;34m[\u001b[0m\u001b[0;36m1\u001b[0m\u001b[0;34m]\u001b[0m\u001b[0;34m)\u001b[0m\u001b[0;34m)\u001b[0m\u001b[0;34m\u001b[0m\u001b[0m\n\u001b[0m\u001b[1;32m      4\u001b[0m \u001b[0mmodel\u001b[0m\u001b[0;34m.\u001b[0m\u001b[0madd\u001b[0m\u001b[0;34m(\u001b[0m\u001b[0mDropout\u001b[0m\u001b[0;34m(\u001b[0m\u001b[0;36m0.5\u001b[0m\u001b[0;34m)\u001b[0m\u001b[0;34m)\u001b[0m\u001b[0;34m\u001b[0m\u001b[0m\n\u001b[1;32m      5\u001b[0m \u001b[0mmodel\u001b[0m\u001b[0;34m.\u001b[0m\u001b[0madd\u001b[0m\u001b[0;34m(\u001b[0m\u001b[0mDense\u001b[0m\u001b[0;34m(\u001b[0m\u001b[0;36m200\u001b[0m\u001b[0;34m,\u001b[0m \u001b[0mactivation\u001b[0m\u001b[0;34m=\u001b[0m\u001b[0;34m'relu'\u001b[0m\u001b[0;34m)\u001b[0m\u001b[0;34m)\u001b[0m\u001b[0;34m\u001b[0m\u001b[0m\n",
      "\u001b[0;31mNameError\u001b[0m: name 'new_x_train' is not defined"
     ]
    }
   ],
   "source": [
    "\n",
    "model = Sequential()\n",
    "model.add(Dense(400, activation='relu', input_dim=new_x_train.shape[1]))\n",
    "model.add(Dropout(0.5))\n",
    "model.add(Dense(200, activation='relu'))\n",
    "model.add(Dropout(0.5))\n",
    "model.add(Dense(1, activation='softmax'))\n",
    "sgd = SGD(lr=0.01, decay=1e-6, momentum=0.9, nesterov=True)\n",
    "model.compile(loss=\"binary_crossentropy\", optimizer=sgd, \n",
    "              metrics=['accuracy',gini_normalized])#class_weight={0:class_weight[0],1:class_weight[1]}\n",
    "model.fit(new_x_train, new_y_train, epochs=10, batch_size=1000)"
   ]
  },
  {
   "cell_type": "code",
   "execution_count": 17,
   "metadata": {},
   "outputs": [
    {
     "name": "stdout",
     "output_type": "stream",
     "text": [
      "Train on 476169 samples, validate on 267438 samples\n",
      "Epoch 1/100\n",
      "295000/476169 [=================>............] - ETA: 3s - loss: 3.6013 - acc: 0.5122 - gini_normalized: 0.0248"
     ]
    },
    {
     "ename": "KeyboardInterrupt",
     "evalue": "",
     "output_type": "error",
     "traceback": [
      "\u001b[0;31m---------------------------------------------------------------------------\u001b[0m",
      "\u001b[0;31mKeyboardInterrupt\u001b[0m                         Traceback (most recent call last)",
      "\u001b[0;32m<ipython-input-17-c0858cd8c2ed>\u001b[0m in \u001b[0;36m<module>\u001b[0;34m()\u001b[0m\n\u001b[1;32m     15\u001b[0m \u001b[0;34m\u001b[0m\u001b[0m\n\u001b[1;32m     16\u001b[0m nn_interaction = model.fit(x_train, OH_y_train,epochs=100,batch_size=5000 ,class_weight = {0:0.51901583 , 1:13.64693913},\n\u001b[0;32m---> 17\u001b[0;31m           validation_data=(x_validate, OH_y_validate))\n\u001b[0m",
      "\u001b[0;32m~/anaconda/lib/python3.6/site-packages/keras/models.py\u001b[0m in \u001b[0;36mfit\u001b[0;34m(self, x, y, batch_size, epochs, verbose, callbacks, validation_split, validation_data, shuffle, class_weight, sample_weight, initial_epoch, **kwargs)\u001b[0m\n\u001b[1;32m    891\u001b[0m                               \u001b[0mclass_weight\u001b[0m\u001b[0;34m=\u001b[0m\u001b[0mclass_weight\u001b[0m\u001b[0;34m,\u001b[0m\u001b[0;34m\u001b[0m\u001b[0m\n\u001b[1;32m    892\u001b[0m                               \u001b[0msample_weight\u001b[0m\u001b[0;34m=\u001b[0m\u001b[0msample_weight\u001b[0m\u001b[0;34m,\u001b[0m\u001b[0;34m\u001b[0m\u001b[0m\n\u001b[0;32m--> 893\u001b[0;31m                               initial_epoch=initial_epoch)\n\u001b[0m\u001b[1;32m    894\u001b[0m \u001b[0;34m\u001b[0m\u001b[0m\n\u001b[1;32m    895\u001b[0m     def evaluate(self, x, y, batch_size=32, verbose=1,\n",
      "\u001b[0;32m~/anaconda/lib/python3.6/site-packages/keras/engine/training.py\u001b[0m in \u001b[0;36mfit\u001b[0;34m(self, x, y, batch_size, epochs, verbose, callbacks, validation_split, validation_data, shuffle, class_weight, sample_weight, initial_epoch, steps_per_epoch, validation_steps, **kwargs)\u001b[0m\n\u001b[1;32m   1629\u001b[0m                               \u001b[0minitial_epoch\u001b[0m\u001b[0;34m=\u001b[0m\u001b[0minitial_epoch\u001b[0m\u001b[0;34m,\u001b[0m\u001b[0;34m\u001b[0m\u001b[0m\n\u001b[1;32m   1630\u001b[0m                               \u001b[0msteps_per_epoch\u001b[0m\u001b[0;34m=\u001b[0m\u001b[0msteps_per_epoch\u001b[0m\u001b[0;34m,\u001b[0m\u001b[0;34m\u001b[0m\u001b[0m\n\u001b[0;32m-> 1631\u001b[0;31m                               validation_steps=validation_steps)\n\u001b[0m\u001b[1;32m   1632\u001b[0m \u001b[0;34m\u001b[0m\u001b[0m\n\u001b[1;32m   1633\u001b[0m     def evaluate(self, x=None, y=None,\n",
      "\u001b[0;32m~/anaconda/lib/python3.6/site-packages/keras/engine/training.py\u001b[0m in \u001b[0;36m_fit_loop\u001b[0;34m(self, f, ins, out_labels, batch_size, epochs, verbose, callbacks, val_f, val_ins, shuffle, callback_metrics, initial_epoch, steps_per_epoch, validation_steps)\u001b[0m\n\u001b[1;32m   1211\u001b[0m                     \u001b[0mbatch_logs\u001b[0m\u001b[0;34m[\u001b[0m\u001b[0;34m'size'\u001b[0m\u001b[0;34m]\u001b[0m \u001b[0;34m=\u001b[0m \u001b[0mlen\u001b[0m\u001b[0;34m(\u001b[0m\u001b[0mbatch_ids\u001b[0m\u001b[0;34m)\u001b[0m\u001b[0;34m\u001b[0m\u001b[0m\n\u001b[1;32m   1212\u001b[0m                     \u001b[0mcallbacks\u001b[0m\u001b[0;34m.\u001b[0m\u001b[0mon_batch_begin\u001b[0m\u001b[0;34m(\u001b[0m\u001b[0mbatch_index\u001b[0m\u001b[0;34m,\u001b[0m \u001b[0mbatch_logs\u001b[0m\u001b[0;34m)\u001b[0m\u001b[0;34m\u001b[0m\u001b[0m\n\u001b[0;32m-> 1213\u001b[0;31m                     \u001b[0mouts\u001b[0m \u001b[0;34m=\u001b[0m \u001b[0mf\u001b[0m\u001b[0;34m(\u001b[0m\u001b[0mins_batch\u001b[0m\u001b[0;34m)\u001b[0m\u001b[0;34m\u001b[0m\u001b[0m\n\u001b[0m\u001b[1;32m   1214\u001b[0m                     \u001b[0;32mif\u001b[0m \u001b[0;32mnot\u001b[0m \u001b[0misinstance\u001b[0m\u001b[0;34m(\u001b[0m\u001b[0mouts\u001b[0m\u001b[0;34m,\u001b[0m \u001b[0mlist\u001b[0m\u001b[0;34m)\u001b[0m\u001b[0;34m:\u001b[0m\u001b[0;34m\u001b[0m\u001b[0m\n\u001b[1;32m   1215\u001b[0m                         \u001b[0mouts\u001b[0m \u001b[0;34m=\u001b[0m \u001b[0;34m[\u001b[0m\u001b[0mouts\u001b[0m\u001b[0;34m]\u001b[0m\u001b[0;34m\u001b[0m\u001b[0m\n",
      "\u001b[0;32m~/anaconda/lib/python3.6/site-packages/keras/backend/tensorflow_backend.py\u001b[0m in \u001b[0;36m__call__\u001b[0;34m(self, inputs)\u001b[0m\n\u001b[1;32m   2330\u001b[0m         updated = session.run(self.outputs + [self.updates_op],\n\u001b[1;32m   2331\u001b[0m                               \u001b[0mfeed_dict\u001b[0m\u001b[0;34m=\u001b[0m\u001b[0mfeed_dict\u001b[0m\u001b[0;34m,\u001b[0m\u001b[0;34m\u001b[0m\u001b[0m\n\u001b[0;32m-> 2332\u001b[0;31m                               **self.session_kwargs)\n\u001b[0m\u001b[1;32m   2333\u001b[0m         \u001b[0;32mreturn\u001b[0m \u001b[0mupdated\u001b[0m\u001b[0;34m[\u001b[0m\u001b[0;34m:\u001b[0m\u001b[0mlen\u001b[0m\u001b[0;34m(\u001b[0m\u001b[0mself\u001b[0m\u001b[0;34m.\u001b[0m\u001b[0moutputs\u001b[0m\u001b[0;34m)\u001b[0m\u001b[0;34m]\u001b[0m\u001b[0;34m\u001b[0m\u001b[0m\n\u001b[1;32m   2334\u001b[0m \u001b[0;34m\u001b[0m\u001b[0m\n",
      "\u001b[0;32m~/anaconda/lib/python3.6/site-packages/tensorflow/python/client/session.py\u001b[0m in \u001b[0;36mrun\u001b[0;34m(self, fetches, feed_dict, options, run_metadata)\u001b[0m\n\u001b[1;32m    893\u001b[0m     \u001b[0;32mtry\u001b[0m\u001b[0;34m:\u001b[0m\u001b[0;34m\u001b[0m\u001b[0m\n\u001b[1;32m    894\u001b[0m       result = self._run(None, fetches, feed_dict, options_ptr,\n\u001b[0;32m--> 895\u001b[0;31m                          run_metadata_ptr)\n\u001b[0m\u001b[1;32m    896\u001b[0m       \u001b[0;32mif\u001b[0m \u001b[0mrun_metadata\u001b[0m\u001b[0;34m:\u001b[0m\u001b[0;34m\u001b[0m\u001b[0m\n\u001b[1;32m    897\u001b[0m         \u001b[0mproto_data\u001b[0m \u001b[0;34m=\u001b[0m \u001b[0mtf_session\u001b[0m\u001b[0;34m.\u001b[0m\u001b[0mTF_GetBuffer\u001b[0m\u001b[0;34m(\u001b[0m\u001b[0mrun_metadata_ptr\u001b[0m\u001b[0;34m)\u001b[0m\u001b[0;34m\u001b[0m\u001b[0m\n",
      "\u001b[0;32m~/anaconda/lib/python3.6/site-packages/tensorflow/python/client/session.py\u001b[0m in \u001b[0;36m_run\u001b[0;34m(self, handle, fetches, feed_dict, options, run_metadata)\u001b[0m\n\u001b[1;32m   1122\u001b[0m     \u001b[0;32mif\u001b[0m \u001b[0mfinal_fetches\u001b[0m \u001b[0;32mor\u001b[0m \u001b[0mfinal_targets\u001b[0m \u001b[0;32mor\u001b[0m \u001b[0;34m(\u001b[0m\u001b[0mhandle\u001b[0m \u001b[0;32mand\u001b[0m \u001b[0mfeed_dict_tensor\u001b[0m\u001b[0;34m)\u001b[0m\u001b[0;34m:\u001b[0m\u001b[0;34m\u001b[0m\u001b[0m\n\u001b[1;32m   1123\u001b[0m       results = self._do_run(handle, final_targets, final_fetches,\n\u001b[0;32m-> 1124\u001b[0;31m                              feed_dict_tensor, options, run_metadata)\n\u001b[0m\u001b[1;32m   1125\u001b[0m     \u001b[0;32melse\u001b[0m\u001b[0;34m:\u001b[0m\u001b[0;34m\u001b[0m\u001b[0m\n\u001b[1;32m   1126\u001b[0m       \u001b[0mresults\u001b[0m \u001b[0;34m=\u001b[0m \u001b[0;34m[\u001b[0m\u001b[0;34m]\u001b[0m\u001b[0;34m\u001b[0m\u001b[0m\n",
      "\u001b[0;32m~/anaconda/lib/python3.6/site-packages/tensorflow/python/client/session.py\u001b[0m in \u001b[0;36m_do_run\u001b[0;34m(self, handle, target_list, fetch_list, feed_dict, options, run_metadata)\u001b[0m\n\u001b[1;32m   1319\u001b[0m     \u001b[0;32mif\u001b[0m \u001b[0mhandle\u001b[0m \u001b[0;32mis\u001b[0m \u001b[0;32mNone\u001b[0m\u001b[0;34m:\u001b[0m\u001b[0;34m\u001b[0m\u001b[0m\n\u001b[1;32m   1320\u001b[0m       return self._do_call(_run_fn, self._session, feeds, fetches, targets,\n\u001b[0;32m-> 1321\u001b[0;31m                            options, run_metadata)\n\u001b[0m\u001b[1;32m   1322\u001b[0m     \u001b[0;32melse\u001b[0m\u001b[0;34m:\u001b[0m\u001b[0;34m\u001b[0m\u001b[0m\n\u001b[1;32m   1323\u001b[0m       \u001b[0;32mreturn\u001b[0m \u001b[0mself\u001b[0m\u001b[0;34m.\u001b[0m\u001b[0m_do_call\u001b[0m\u001b[0;34m(\u001b[0m\u001b[0m_prun_fn\u001b[0m\u001b[0;34m,\u001b[0m \u001b[0mself\u001b[0m\u001b[0;34m.\u001b[0m\u001b[0m_session\u001b[0m\u001b[0;34m,\u001b[0m \u001b[0mhandle\u001b[0m\u001b[0;34m,\u001b[0m \u001b[0mfeeds\u001b[0m\u001b[0;34m,\u001b[0m \u001b[0mfetches\u001b[0m\u001b[0;34m)\u001b[0m\u001b[0;34m\u001b[0m\u001b[0m\n",
      "\u001b[0;32m~/anaconda/lib/python3.6/site-packages/tensorflow/python/client/session.py\u001b[0m in \u001b[0;36m_do_call\u001b[0;34m(self, fn, *args)\u001b[0m\n\u001b[1;32m   1325\u001b[0m   \u001b[0;32mdef\u001b[0m \u001b[0m_do_call\u001b[0m\u001b[0;34m(\u001b[0m\u001b[0mself\u001b[0m\u001b[0;34m,\u001b[0m \u001b[0mfn\u001b[0m\u001b[0;34m,\u001b[0m \u001b[0;34m*\u001b[0m\u001b[0margs\u001b[0m\u001b[0;34m)\u001b[0m\u001b[0;34m:\u001b[0m\u001b[0;34m\u001b[0m\u001b[0m\n\u001b[1;32m   1326\u001b[0m     \u001b[0;32mtry\u001b[0m\u001b[0;34m:\u001b[0m\u001b[0;34m\u001b[0m\u001b[0m\n\u001b[0;32m-> 1327\u001b[0;31m       \u001b[0;32mreturn\u001b[0m \u001b[0mfn\u001b[0m\u001b[0;34m(\u001b[0m\u001b[0;34m*\u001b[0m\u001b[0margs\u001b[0m\u001b[0;34m)\u001b[0m\u001b[0;34m\u001b[0m\u001b[0m\n\u001b[0m\u001b[1;32m   1328\u001b[0m     \u001b[0;32mexcept\u001b[0m \u001b[0merrors\u001b[0m\u001b[0;34m.\u001b[0m\u001b[0mOpError\u001b[0m \u001b[0;32mas\u001b[0m \u001b[0me\u001b[0m\u001b[0;34m:\u001b[0m\u001b[0;34m\u001b[0m\u001b[0m\n\u001b[1;32m   1329\u001b[0m       \u001b[0mmessage\u001b[0m \u001b[0;34m=\u001b[0m \u001b[0mcompat\u001b[0m\u001b[0;34m.\u001b[0m\u001b[0mas_text\u001b[0m\u001b[0;34m(\u001b[0m\u001b[0me\u001b[0m\u001b[0;34m.\u001b[0m\u001b[0mmessage\u001b[0m\u001b[0;34m)\u001b[0m\u001b[0;34m\u001b[0m\u001b[0m\n",
      "\u001b[0;32m~/anaconda/lib/python3.6/site-packages/tensorflow/python/client/session.py\u001b[0m in \u001b[0;36m_run_fn\u001b[0;34m(session, feed_dict, fetch_list, target_list, options, run_metadata)\u001b[0m\n\u001b[1;32m   1304\u001b[0m           return tf_session.TF_Run(session, options,\n\u001b[1;32m   1305\u001b[0m                                    \u001b[0mfeed_dict\u001b[0m\u001b[0;34m,\u001b[0m \u001b[0mfetch_list\u001b[0m\u001b[0;34m,\u001b[0m \u001b[0mtarget_list\u001b[0m\u001b[0;34m,\u001b[0m\u001b[0;34m\u001b[0m\u001b[0m\n\u001b[0;32m-> 1306\u001b[0;31m                                    status, run_metadata)\n\u001b[0m\u001b[1;32m   1307\u001b[0m \u001b[0;34m\u001b[0m\u001b[0m\n\u001b[1;32m   1308\u001b[0m     \u001b[0;32mdef\u001b[0m \u001b[0m_prun_fn\u001b[0m\u001b[0;34m(\u001b[0m\u001b[0msession\u001b[0m\u001b[0;34m,\u001b[0m \u001b[0mhandle\u001b[0m\u001b[0;34m,\u001b[0m \u001b[0mfeed_dict\u001b[0m\u001b[0;34m,\u001b[0m \u001b[0mfetch_list\u001b[0m\u001b[0;34m)\u001b[0m\u001b[0;34m:\u001b[0m\u001b[0;34m\u001b[0m\u001b[0m\n",
      "\u001b[0;31mKeyboardInterrupt\u001b[0m: "
     ]
    }
   ],
   "source": [
    "# Convert to one-hot-vector\n",
    "nb_classes = 2\n",
    "OH_y_train = np.eye(nb_classes)[y_train]\n",
    "OH_y_validate = np.eye(nb_classes)[y_validate]\n",
    "\n",
    "##\n",
    "model = Sequential()\n",
    "model.add(Dense(203, input_dim=np.shape(x_train)[1], activation='relu'))\n",
    "model.add(Dropout(0.5))\n",
    "model.add(Dense(2, activation='softmax'))\n",
    "\n",
    "model.compile(loss='categorical_crossentropy',\n",
    "              optimizer='rmsprop',\n",
    "              metrics=['accuracy',gini_normalized])\n",
    "\n",
    "nn_interaction = model.fit(x_train, OH_y_train,epochs=100,batch_size=5000 ,class_weight = {0:0.51901583 , 1:13.64693913},\n",
    "          validation_data=(x_validate, OH_y_validate))"
   ]
  },
  {
   "cell_type": "code",
   "execution_count": 59,
   "metadata": {
    "scrolled": true
   },
   "outputs": [
    {
     "name": "stdout",
     "output_type": "stream",
     "text": [
      "Train on 476169 samples, validate on 267438 samples\n",
      "Epoch 1/35\n",
      "476169/476169 [==============================] - 31s 65us/step - loss: 0.9751 - acc: 0.6327 - gini_normalized: 0.0051 - val_loss: 0.7179 - val_acc: 0.0872 - val_gini_normalized: -6.6587e-04\n",
      "Epoch 2/35\n",
      "476169/476169 [==============================] - 19s 39us/step - loss: 0.6964 - acc: 0.3485 - gini_normalized: -0.0047 - val_loss: 0.7058 - val_acc: 0.1041 - val_gini_normalized: 0.0077\n",
      "Epoch 3/35\n",
      "476169/476169 [==============================] - 11s 24us/step - loss: 0.6936 - acc: 0.4023 - gini_normalized: 0.0064 - val_loss: 0.7247 - val_acc: 0.0365 - val_gini_normalized: 0.0035\n",
      "Epoch 4/35\n",
      "476169/476169 [==============================] - 11s 23us/step - loss: 0.6935 - acc: 0.4016 - gini_normalized: 0.0130 - val_loss: 0.6855 - val_acc: 0.7104 - val_gini_normalized: 0.0231\n",
      "Epoch 5/35\n",
      "476169/476169 [==============================] - 12s 25us/step - loss: 0.6935 - acc: 0.3853 - gini_normalized: 0.0039 - val_loss: 0.6928 - val_acc: 0.4899 - val_gini_normalized: 0.0423\n",
      "Epoch 6/35\n",
      "476169/476169 [==============================] - 10s 21us/step - loss: 0.6931 - acc: 0.4684 - gini_normalized: 0.0232 - val_loss: 0.6588 - val_acc: 0.8836 - val_gini_normalized: 0.0391\n",
      "Epoch 7/35\n",
      "476169/476169 [==============================] - 11s 23us/step - loss: 0.6921 - acc: 0.5068 - gini_normalized: 0.0438 - val_loss: 0.6687 - val_acc: 0.7178 - val_gini_normalized: 0.0859\n",
      "Epoch 8/35\n",
      "476169/476169 [==============================] - 11s 22us/step - loss: 0.6907 - acc: 0.4730 - gini_normalized: 0.0655 - val_loss: 0.7100 - val_acc: 0.3506 - val_gini_normalized: 0.1088\n",
      "Epoch 9/35\n",
      "476169/476169 [==============================] - 16s 34us/step - loss: 0.6883 - acc: 0.4545 - gini_normalized: 0.0786 - val_loss: 0.6862 - val_acc: 0.5058 - val_gini_normalized: 0.1245\n",
      "Epoch 10/35\n",
      "476169/476169 [==============================] - 17s 35us/step - loss: 0.6855 - acc: 0.4791 - gini_normalized: 0.0971 - val_loss: 0.7459 - val_acc: 0.1629 - val_gini_normalized: 0.0644\n",
      "Epoch 11/35\n",
      "476169/476169 [==============================] - 10s 21us/step - loss: 0.6839 - acc: 0.4887 - gini_normalized: 0.1185 - val_loss: 0.6263 - val_acc: 0.6688 - val_gini_normalized: 0.12738\n",
      "Epoch 12/35\n",
      "476169/476169 [==============================] - 12s 25us/step - loss: 0.6818 - acc: 0.5001 - gini_normalized: 0.1240 - val_loss: 0.6742 - val_acc: 0.5527 - val_gini_normalized: 0.1474\n",
      "Epoch 13/35\n",
      "476169/476169 [==============================] - 13s 27us/step - loss: 0.6809 - acc: 0.4903 - gini_normalized: 0.1378 - val_loss: 0.6841 - val_acc: 0.5340 - val_gini_normalized: 0.1473\n",
      "Epoch 14/35\n",
      "476169/476169 [==============================] - 10s 22us/step - loss: 0.6787 - acc: 0.5098 - gini_normalized: 0.1436 - val_loss: 0.6597 - val_acc: 0.5803 - val_gini_normalized: 0.1511\n",
      "Epoch 15/35\n",
      "476169/476169 [==============================] - 10s 21us/step - loss: 0.6788 - acc: 0.5036 - gini_normalized: 0.1439 - val_loss: 0.6638 - val_acc: 0.5790 - val_gini_normalized: 0.1548\n",
      "Epoch 16/35\n",
      "476169/476169 [==============================] - 11s 22us/step - loss: 0.6772 - acc: 0.5137 - gini_normalized: 0.1531 - val_loss: 0.7142 - val_acc: 0.4126 - val_gini_normalized: 0.1442\n",
      "Epoch 17/35\n",
      "476169/476169 [==============================] - 10s 21us/step - loss: 0.6762 - acc: 0.5166 - gini_normalized: 0.1503 - val_loss: 0.7522 - val_acc: 0.3080 - val_gini_normalized: 0.1204\n",
      "Epoch 18/35\n",
      "476169/476169 [==============================] - 9s 19us/step - loss: 0.6756 - acc: 0.5173 - gini_normalized: 0.1500 - val_loss: 0.6761 - val_acc: 0.5442 - val_gini_normalized: 0.1553\n",
      "Epoch 19/35\n",
      "476169/476169 [==============================] - 10s 22us/step - loss: 0.6749 - acc: 0.5340 - gini_normalized: 0.1566 - val_loss: 0.6650 - val_acc: 0.5810 - val_gini_normalized: 0.1621\n",
      "Epoch 20/35\n",
      "476169/476169 [==============================] - 10s 22us/step - loss: 0.6741 - acc: 0.5437 - gini_normalized: 0.1662 - val_loss: 0.6255 - val_acc: 0.6656 - val_gini_normalized: 0.1533\n",
      "Epoch 21/35\n",
      "476169/476169 [==============================] - 15s 31us/step - loss: 0.6737 - acc: 0.5411 - gini_normalized: 0.1594 - val_loss: 0.7367 - val_acc: 0.3941 - val_gini_normalized: 0.1436\n",
      "Epoch 22/35\n",
      "476169/476169 [==============================] - 11s 24us/step - loss: 0.6729 - acc: 0.5338 - gini_normalized: 0.1690 - val_loss: 0.7382 - val_acc: 0.3628 - val_gini_normalized: 0.1383\n",
      "Epoch 23/35\n",
      "476169/476169 [==============================] - 11s 22us/step - loss: 0.6730 - acc: 0.5388 - gini_normalized: 0.1689 - val_loss: 0.6429 - val_acc: 0.6455 - val_gini_normalized: 0.1601\n",
      "Epoch 24/35\n",
      "476169/476169 [==============================] - 10s 21us/step - loss: 0.6725 - acc: 0.5439 - gini_normalized: 0.1643 - val_loss: 0.6877 - val_acc: 0.4983 - val_gini_normalized: 0.1622\n",
      "Epoch 25/35\n",
      "476169/476169 [==============================] - 9s 19us/step - loss: 0.6715 - acc: 0.5460 - gini_normalized: 0.1664 - val_loss: 0.7502 - val_acc: 0.3600 - val_gini_normalized: 0.1362\n",
      "Epoch 26/35\n",
      "476169/476169 [==============================] - 9s 19us/step - loss: 0.6713 - acc: 0.5444 - gini_normalized: 0.1717 - val_loss: 0.7821 - val_acc: 0.2687 - val_gini_normalized: 0.1112\n",
      "Epoch 27/35\n",
      "476169/476169 [==============================] - 9s 19us/step - loss: 0.6714 - acc: 0.5430 - gini_normalized: 0.1670 - val_loss: 0.7289 - val_acc: 0.3954 - val_gini_normalized: 0.1450\n",
      "Epoch 28/35\n",
      "476169/476169 [==============================] - 9s 19us/step - loss: 0.6701 - acc: 0.5366 - gini_normalized: 0.1747 - val_loss: 0.7261 - val_acc: 0.3895 - val_gini_normalized: 0.1459\n",
      "Epoch 29/35\n",
      "476169/476169 [==============================] - 9s 18us/step - loss: 0.6698 - acc: 0.5512 - gini_normalized: 0.1735 - val_loss: 0.7949 - val_acc: 0.2619 - val_gini_normalized: 0.1107\n",
      "Epoch 30/35\n",
      "476169/476169 [==============================] - 10s 21us/step - loss: 0.6691 - acc: 0.5474 - gini_normalized: 0.1663 - val_loss: 0.6118 - val_acc: 0.6818 - val_gini_normalized: 0.1586\n",
      "Epoch 31/35\n",
      "476169/476169 [==============================] - 11s 24us/step - loss: 0.6693 - acc: 0.5485 - gini_normalized: 0.1751 - val_loss: 0.7205 - val_acc: 0.4381 - val_gini_normalized: 0.1542\n",
      "Epoch 32/35\n",
      "476169/476169 [==============================] - 9s 18us/step - loss: 0.6694 - acc: 0.5387 - gini_normalized: 0.1799 - val_loss: 0.6418 - val_acc: 0.6276 - val_gini_normalized: 0.1625\n",
      "Epoch 33/35\n",
      "476169/476169 [==============================] - 9s 19us/step - loss: 0.6693 - acc: 0.5567 - gini_normalized: 0.1812 - val_loss: 0.6514 - val_acc: 0.5913 - val_gini_normalized: 0.1675\n",
      "Epoch 34/35\n",
      "476169/476169 [==============================] - 9s 19us/step - loss: 0.6682 - acc: 0.5506 - gini_normalized: 0.1796 - val_loss: 0.6730 - val_acc: 0.5339 - val_gini_normalized: 0.1696\n",
      "Epoch 35/35\n",
      "476169/476169 [==============================] - 9s 19us/step - loss: 0.6677 - acc: 0.5569 - gini_normalized: 0.1796 - val_loss: 0.6475 - val_acc: 0.6128 - val_gini_normalized: 0.1663\n"
     ]
    }
   ],
   "source": [
    "# Convert to one-hot-vector\n",
    "nb_classes = 2\n",
    "OH_y_train = np.eye(nb_classes)[y_train]\n",
    "OH_y_validate = np.eye(nb_classes)[y_validate]\n",
    "\n",
    "##\n",
    "model = Sequential()\n",
    "model.add(Dense(80, input_dim=np.shape(x_train)[1], activation='relu'))\n",
    "model.add(Dropout(0.35))\n",
    "model.add(Dense(20, input_dim=np.shape(x_train)[1], activation='relu'))\n",
    "model.add(Dropout(0.15))\n",
    "model.add(Dense(10, input_dim=np.shape(x_train)[1], activation='relu'))\n",
    "model.add(Dropout(0.15))\n",
    "model.add(Dense(10, input_dim=np.shape(x_train)[1], activation='relu'))\n",
    "model.add(Dense(2, activation='softmax'))\n",
    "\n",
    "model.compile(loss='categorical_crossentropy',\n",
    "              optimizer='rmsprop',\n",
    "              metrics=['accuracy',gini_normalized])\n",
    "\n",
    "nn_interaction = model.fit(x_train, OH_y_train,epochs=35,batch_size=5000 ,class_weight = {0:0.51901583 , 1:13.64693913},\n",
    "          validation_data=(x_validate, OH_y_validate))"
   ]
  },
  {
   "cell_type": "code",
   "execution_count": 60,
   "metadata": {},
   "outputs": [
    {
     "name": "stdout",
     "output_type": "stream",
     "text": [
      "Train on 476169 samples, validate on 267438 samples\n",
      "Epoch 1/35\n",
      "476169/476169 [==============================] - 11s 22us/step - loss: 0.7022 - acc: 0.4217 - gini_normalized: 0.0439 - val_loss: 0.6842 - val_acc: 0.6464 - val_gini_normalized: 0.1530\n",
      "Epoch 2/35\n",
      "476169/476169 [==============================] - 9s 19us/step - loss: 0.6828 - acc: 0.5837 - gini_normalized: 0.1155 - val_loss: 0.6504 - val_acc: 0.7079 - val_gini_normalized: 0.1533\n",
      "Epoch 3/35\n",
      "476169/476169 [==============================] - 10s 20us/step - loss: 0.6773 - acc: 0.6163 - gini_normalized: 0.1403 - val_loss: 0.6733 - val_acc: 0.6364 - val_gini_normalized: 0.1654\n",
      "Epoch 4/35\n",
      "476169/476169 [==============================] - 9s 20us/step - loss: 0.6744 - acc: 0.6159 - gini_normalized: 0.1578 - val_loss: 0.6382 - val_acc: 0.6823 - val_gini_normalized: 0.1652\n",
      "Epoch 5/35\n",
      "476169/476169 [==============================] - 9s 19us/step - loss: 0.6723 - acc: 0.6137 - gini_normalized: 0.1616 - val_loss: 0.6366 - val_acc: 0.6745 - val_gini_normalized: 0.1658132 - gini_normalized: 0.\n",
      "Epoch 6/35\n",
      "476169/476169 [==============================] - 9s 19us/step - loss: 0.6710 - acc: 0.6164 - gini_normalized: 0.1677 - val_loss: 0.6710 - val_acc: 0.6063 - val_gini_normalized: 0.1732\n",
      "Epoch 7/35\n",
      "476169/476169 [==============================] - 8s 18us/step - loss: 0.6700 - acc: 0.6136 - gini_normalized: 0.1745 - val_loss: 0.6881 - val_acc: 0.5735 - val_gini_normalized: 0.17556150 -\n",
      "Epoch 8/35\n",
      "476169/476169 [==============================] - 8s 16us/step - loss: 0.6690 - acc: 0.6087 - gini_normalized: 0.1769 - val_loss: 0.6712 - val_acc: 0.5993 - val_gini_normalized: 0.1783\n",
      "Epoch 9/35\n",
      "476169/476169 [==============================] - 8s 16us/step - loss: 0.6682 - acc: 0.6109 - gini_normalized: 0.1835 - val_loss: 0.6597 - val_acc: 0.6172 - val_gini_normalized: 0.17816108 - gini_normalized: 0.18\n",
      "Epoch 10/35\n",
      "476169/476169 [==============================] - 9s 18us/step - loss: 0.6675 - acc: 0.6102 - gini_normalized: 0.1838 - val_loss: 0.6865 - val_acc: 0.5686 - val_gini_normalized: 0.1761\n",
      "Epoch 11/35\n",
      "476169/476169 [==============================] - 8s 17us/step - loss: 0.6674 - acc: 0.6041 - gini_normalized: 0.1881 - val_loss: 0.6452 - val_acc: 0.6375 - val_gini_normalized: 0.1766\n",
      "Epoch 12/35\n",
      "476169/476169 [==============================] - 9s 19us/step - loss: 0.6668 - acc: 0.6070 - gini_normalized: 0.1820 - val_loss: 0.6813 - val_acc: 0.5741 - val_gini_normalized: 0.1772\n",
      "Epoch 13/35\n",
      "476169/476169 [==============================] - 13s 27us/step - loss: 0.6660 - acc: 0.6037 - gini_normalized: 0.1870 - val_loss: 0.6710 - val_acc: 0.5923 - val_gini_normalized: 0.1792\n",
      "Epoch 14/35\n",
      "476169/476169 [==============================] - 8s 17us/step - loss: 0.6658 - acc: 0.6058 - gini_normalized: 0.1890 - val_loss: 0.6613 - val_acc: 0.6070 - val_gini_normalized: 0.1796\n",
      "Epoch 15/35\n",
      "476169/476169 [==============================] - 8s 18us/step - loss: 0.6656 - acc: 0.6061 - gini_normalized: 0.1875 - val_loss: 0.6353 - val_acc: 0.6530 - val_gini_normalized: 0.1772\n",
      "Epoch 16/35\n",
      "476169/476169 [==============================] - 8s 17us/step - loss: 0.6651 - acc: 0.6060 - gini_normalized: 0.1956 - val_loss: 0.6758 - val_acc: 0.5828 - val_gini_normalized: 0.1774\n",
      "Epoch 17/35\n",
      "476169/476169 [==============================] - 8s 17us/step - loss: 0.6649 - acc: 0.6077 - gini_normalized: 0.1960 - val_loss: 0.6619 - val_acc: 0.6056 - val_gini_normalized: 0.1793\n",
      "Epoch 18/35\n",
      "476169/476169 [==============================] - 8s 17us/step - loss: 0.6645 - acc: 0.6056 - gini_normalized: 0.1926 - val_loss: 0.6398 - val_acc: 0.6426 - val_gini_normalized: 0.1806\n",
      "Epoch 19/35\n",
      "476169/476169 [==============================] - 8s 16us/step - loss: 0.6645 - acc: 0.6063 - gini_normalized: 0.1908 - val_loss: 0.6553 - val_acc: 0.6151 - val_gini_normalized: 0.1803\n",
      "Epoch 20/35\n",
      "476169/476169 [==============================] - 11s 23us/step - loss: 0.6651 - acc: 0.6044 - gini_normalized: 0.1882 - val_loss: 0.6715 - val_acc: 0.5884 - val_gini_normalized: 0.1770\n",
      "Epoch 21/35\n",
      "476169/476169 [==============================] - 14s 28us/step - loss: 0.6639 - acc: 0.6072 - gini_normalized: 0.1959 - val_loss: 0.6932 - val_acc: 0.5515 - val_gini_normalized: 0.1743\n",
      "Epoch 22/35\n",
      "476169/476169 [==============================] - 9s 18us/step - loss: 0.6640 - acc: 0.6038 - gini_normalized: 0.1927 - val_loss: 0.6697 - val_acc: 0.5888 - val_gini_normalized: 0.1772\n",
      "Epoch 23/35\n",
      "476169/476169 [==============================] - 8s 16us/step - loss: 0.6631 - acc: 0.6038 - gini_normalized: 0.1956 - val_loss: 0.6783 - val_acc: 0.5730 - val_gini_normalized: 0.1749\n",
      "Epoch 24/35\n",
      "476169/476169 [==============================] - 8s 17us/step - loss: 0.6642 - acc: 0.6026 - gini_normalized: 0.1945 - val_loss: 0.6682 - val_acc: 0.5948 - val_gini_normalized: 0.1792\n",
      "Epoch 25/35\n",
      "476169/476169 [==============================] - 13s 27us/step - loss: 0.6630 - acc: 0.6025 - gini_normalized: 0.1980 - val_loss: 0.6743 - val_acc: 0.5856 - val_gini_normalized: 0.1779\n",
      "Epoch 26/35\n",
      "476169/476169 [==============================] - 15s 31us/step - loss: 0.6628 - acc: 0.6083 - gini_normalized: 0.2005 - val_loss: 0.6338 - val_acc: 0.6518 - val_gini_normalized: 0.1784\n",
      "Epoch 27/35\n",
      "476169/476169 [==============================] - 10s 20us/step - loss: 0.6628 - acc: 0.6141 - gini_normalized: 0.1980 - val_loss: 0.6652 - val_acc: 0.5958 - val_gini_normalized: 0.1784\n",
      "Epoch 28/35\n",
      "476169/476169 [==============================] - 8s 17us/step - loss: 0.6624 - acc: 0.6090 - gini_normalized: 0.1964 - val_loss: 0.6686 - val_acc: 0.5896 - val_gini_normalized: 0.1779 -\n",
      "Epoch 29/35\n",
      "476169/476169 [==============================] - 10s 21us/step - loss: 0.6625 - acc: 0.6079 - gini_normalized: 0.1960 - val_loss: 0.6882 - val_acc: 0.5633 - val_gini_normalized: 0.1758\n",
      "Epoch 30/35\n",
      "476169/476169 [==============================] - 9s 18us/step - loss: 0.6618 - acc: 0.6054 - gini_normalized: 0.2046 - val_loss: 0.6606 - val_acc: 0.6109 - val_gini_normalized: 0.1794\n",
      "Epoch 31/35\n",
      "476169/476169 [==============================] - 8s 17us/step - loss: 0.6620 - acc: 0.6071 - gini_normalized: 0.2001 - val_loss: 0.6421 - val_acc: 0.6390 - val_gini_normalized: 0.1792\n",
      "Epoch 32/35\n",
      "476169/476169 [==============================] - 8s 17us/step - loss: 0.6617 - acc: 0.6072 - gini_normalized: 0.2015 - val_loss: 0.6689 - val_acc: 0.5920 - val_gini_normalized: 0.1782\n",
      "Epoch 33/35\n",
      "476169/476169 [==============================] - 8s 16us/step - loss: 0.6616 - acc: 0.6105 - gini_normalized: 0.2072 - val_loss: 0.6588 - val_acc: 0.6167 - val_gini_normalized: 0.1800\n",
      "Epoch 34/35\n",
      "476169/476169 [==============================] - 8s 17us/step - loss: 0.6614 - acc: 0.6166 - gini_normalized: 0.1983 - val_loss: 0.6769 - val_acc: 0.5834 - val_gini_normalized: 0.1802\n",
      "Epoch 35/35\n",
      "476169/476169 [==============================] - 7s 16us/step - loss: 0.6605 - acc: 0.6122 - gini_normalized: 0.1980 - val_loss: 0.6658 - val_acc: 0.5954 - val_gini_normalized: 0.1804\n"
     ]
    }
   ],
   "source": [
    "#x = data[['ps_ind_01', 'ps_ind_03', 'ps_ind_04_cat', 'ps_ind_06_bin', 'ps_ind_09_bin',\n",
    "# 'ps_ind_15', 'ps_ind_16_bin', 'ps_ind_17_bin', 'ps_car_03_cat',\n",
    "# 'ps_car_07_cat', 'ps_car_11', 'ps_car_12', 'ps_car_14', 'ps_calc_06',\n",
    "# 'ps_calc_08', 'ps_ind_05_cat_0', 'ps_car_01_cat_7', 'd.4', 'd.8', 'd.13', 'd.14',\n",
    "# 'd.17', 'd.20', 'd.21', 'd.22', 'd.24', 'd.25', 'd.27', 'd.30', 'd.36', 'd.37',\n",
    "# 'd.38', 'd.40', 'd.42', 'd.43', 'd.45', 'd.50', 'd.55', 'd.56', 'd.57', 'd.58',\n",
    "# 'd.59', 'd.60', 'd.63', 'd.65', 'd.66', 'd.76', 'd.81', 'd.82', 'd.83']]\n",
    "#x_train = x[train_index,:]\n",
    "#x_validate = x[validate_index,:]\n",
    "#y_train = y[train_index]\n",
    "#y_validate = y[validate_index]\n",
    "\n",
    "\n",
    "# No interaction (raw) data\n",
    "raw_x_train = x_train[:,0:x_train.shape[1]-91]\n",
    "raw_x_validate = x_validate[:,0:x_validate.shape[1]-91]\n",
    "##\n",
    "model = Sequential()\n",
    "model.add(Dense(80, input_dim=np.shape(raw_x_train)[1], activation='sigmoid'))\n",
    "model.add(Dropout(0.35))\n",
    "model.add(Dense(20, input_dim=np.shape(raw_x_train)[1], activation='sigmoid'))\n",
    "model.add(Dropout(0.15))\n",
    "model.add(Dense(10, input_dim=np.shape(raw_x_train)[1], activation='sigmoid'))\n",
    "model.add(Dropout(0.15))\n",
    "model.add(Dense(2, activation='softmax'))\n",
    "sgd = SGD(lr=0.01, decay=1e-6, momentum=0.9, nesterov=True)\n",
    "\n",
    "model.compile(loss='categorical_crossentropy',\n",
    "              optimizer='rmsprop',\n",
    "              metrics=['accuracy',gini_normalized])\n",
    "\n",
    "nn_raw = model.fit(raw_x_train, OH_y_train,epochs=35,batch_size=5000 ,class_weight = {0:0.51901583 , 1:13.64693913},\n",
    "          validation_data=(raw_x_validate, OH_y_validate))"
   ]
  },
  {
   "cell_type": "code",
   "execution_count": null,
   "metadata": {},
   "outputs": [],
   "source": [
    "cols_use = [c for c in x.columns if (not c.startswith(('ps_calc_','d')))] \n",
    "# No clean (no noise) data\n",
    "clean_x = x[cols_use]\n",
    "clean_x = np.array(clean_x)\n",
    "clean_x_train = clean_x[train_index,:]\n",
    "clean_x_validate = clean_x[validate_index,:]\n",
    "model = Sequential()\n",
    "model.add(Dense(80, input_dim=np.shape(clean_x_train)[1], activation='sigmoid'))\n",
    "model.add(Dropout(0.35))\n",
    "model.add(Dense(20, input_dim=np.shape(clean_x_train)[1], activation='sigmoid'))\n",
    "model.add(Dropout(0.15))\n",
    "model.add(Dense(10, input_dim=np.shape(clean_x_train)[1], activation='sigmoid'))\n",
    "model.add(Dropout(0.15))\n",
    "model.add(Dense(2, activation='softmax'))\n",
    "sgd = SGD(lr=0.01, decay=1e-6, momentum=0.9, nesterov=True)\n",
    "\n",
    "model.compile(loss='categorical_crossentropy',\n",
    "              optimizer='rmsprop',\n",
    "              metrics=['accuracy',gini_normalized])\n",
    "\n",
    "nn_clean = model.fit(clean_x_train, OH_y_train,epochs=35,batch_size=5000 ,class_weight = {0:0.51901583 , 1:13.64693913},\n",
    "          validation_data=(clean_x_validate, OH_y_validate))"
   ]
  },
  {
   "cell_type": "code",
   "execution_count": 75,
   "metadata": {},
   "outputs": [
    {
     "data": {
      "image/png": "[encoded data removed]",
      "text/plain": [
       "<matplotlib.figure.Figure at 0x130db6cc0>"
      ]
     },
     "metadata": {},
     "output_type": "display_data"
    }
   ],
   "source": [
    "plt.plot(nn_interaction.history['gini_normalized'],label='Feature Selection',color='purple')\n",
    "plt.plot(nn_raw.history['gini_normalized'],label='Raw Data',color='blue')\n",
    "plt.legend(loc=4)\n",
    "plt.xlabel('Epochs')\n",
    "plt.ylabel('Gini Coefficient')\n",
    "plt.show()\n"
   ]
  },
  {
   "cell_type": "code",
   "execution_count": 74,
   "metadata": {},
   "outputs": [
    {
     "data": {
      "image/png": "[encoded data removed]",
      "text/plain": [
       "<matplotlib.figure.Figure at 0x130d69390>"
      ]
     },
     "metadata": {},
     "output_type": "display_data"
    }
   ],
   "source": [
    "plt.plot(nn_interaction.history['val_gini_normalized'],label='Feature Selection',color='purple')\n",
    "plt.plot(nn_raw.history['val_gini_normalized'],label='Raw Data',color='blue')\n",
    "plt.xlabel('Epochs')\n",
    "plt.ylabel('Gini Coefficient')\n",
    "plt.legend(loc=4)\n",
    "plt.show()\n"
   ]
  },
  {
   "cell_type": "code",
   "execution_count": null,
   "metadata": {
    "collapsed": true
   },
   "outputs": [],
   "source": []
  }
 ],
 "metadata": {
  "anaconda-cloud": {},
  "kernelspec": {
   "display_name": "Python 3",
   "language": "python",
   "name": "python3"
  },
  "language_info": {
   "codemirror_mode": {
    "name": "ipython",
    "version": 3
   },
   "file_extension": ".py",
   "mimetype": "text/x-python",
   "name": "python",
   "nbconvert_exporter": "python",
   "pygments_lexer": "ipython3",
   "version": "3.6.3"
  }
 },
 "nbformat": 4,
 "nbformat_minor": 1
}
