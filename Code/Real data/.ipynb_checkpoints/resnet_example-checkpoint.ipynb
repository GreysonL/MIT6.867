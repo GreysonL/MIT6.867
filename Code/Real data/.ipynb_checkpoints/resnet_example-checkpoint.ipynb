{
 "cells": [
  {
   "cell_type": "code",
   "execution_count": 1,
   "metadata": {
    "collapsed": false
   },
   "outputs": [
    {
     "name": "stderr",
     "output_type": "stream",
     "text": [
      "Using TensorFlow backend.\n"
     ]
    }
   ],
   "source": [
    "import keras\n",
    "from keras.models import Sequential\n",
    "from keras.layers import Dense, Dropout, Activation\n",
    "from keras.optimizers import SGD"
   ]
  },
  {
   "cell_type": "code",
   "execution_count": 2,
   "metadata": {
    "collapsed": true
   },
   "outputs": [],
   "source": [
    "# Generate dummy data\n",
    "import numpy as np\n",
    "x_train = np.random.random((1000, 20))\n",
    "y_train = keras.utils.to_categorical(np.random.randint(10, size=(1000, 1)), num_classes=10)\n",
    "x_test = np.random.random((100, 20))\n",
    "y_test = keras.utils.to_categorical(np.random.randint(10, size=(100, 1)), num_classes=10)"
   ]
  },
  {
   "cell_type": "code",
   "execution_count": 3,
   "metadata": {
    "collapsed": false
   },
   "outputs": [
    {
     "name": "stdout",
     "output_type": "stream",
     "text": [
      "Epoch 1/20\n",
      "1000/1000 [==============================] - 0s 297us/step - loss: 2.4382 - acc: 0.0900\n",
      "Epoch 2/20\n",
      "1000/1000 [==============================] - 0s 20us/step - loss: 2.4052 - acc: 0.0840\n",
      "Epoch 3/20\n",
      "1000/1000 [==============================] - 0s 21us/step - loss: 2.3288 - acc: 0.1040\n",
      "Epoch 4/20\n",
      "1000/1000 [==============================] - 0s 19us/step - loss: 2.3372 - acc: 0.1000\n",
      "Epoch 5/20\n",
      "1000/1000 [==============================] - 0s 19us/step - loss: 2.3215 - acc: 0.1200\n",
      "Epoch 6/20\n",
      "1000/1000 [==============================] - 0s 20us/step - loss: 2.3049 - acc: 0.1420\n",
      "Epoch 7/20\n",
      "1000/1000 [==============================] - 0s 21us/step - loss: 2.3208 - acc: 0.1030\n",
      "Epoch 8/20\n",
      "1000/1000 [==============================] - 0s 19us/step - loss: 2.2994 - acc: 0.1130\n",
      "Epoch 9/20\n",
      "1000/1000 [==============================] - 0s 20us/step - loss: 2.3138 - acc: 0.1050\n",
      "Epoch 10/20\n",
      "1000/1000 [==============================] - 0s 19us/step - loss: 2.3045 - acc: 0.1110\n",
      "Epoch 11/20\n",
      "1000/1000 [==============================] - 0s 20us/step - loss: 2.3014 - acc: 0.1190\n",
      "Epoch 12/20\n",
      "1000/1000 [==============================] - 0s 20us/step - loss: 2.3055 - acc: 0.1110\n",
      "Epoch 13/20\n",
      "1000/1000 [==============================] - 0s 19us/step - loss: 2.3057 - acc: 0.1050\n",
      "Epoch 14/20\n",
      "1000/1000 [==============================] - 0s 18us/step - loss: 2.3009 - acc: 0.1240\n",
      "Epoch 15/20\n",
      "1000/1000 [==============================] - 0s 17us/step - loss: 2.2969 - acc: 0.1270\n",
      "Epoch 16/20\n",
      "1000/1000 [==============================] - 0s 18us/step - loss: 2.2934 - acc: 0.1330\n",
      "Epoch 17/20\n",
      "1000/1000 [==============================] - 0s 17us/step - loss: 2.2996 - acc: 0.1110\n",
      "Epoch 18/20\n",
      "1000/1000 [==============================] - 0s 19us/step - loss: 2.2923 - acc: 0.1270\n",
      "Epoch 19/20\n",
      "1000/1000 [==============================] - 0s 19us/step - loss: 2.3020 - acc: 0.1100\n",
      "Epoch 20/20\n",
      "1000/1000 [==============================] - 0s 20us/step - loss: 2.2968 - acc: 0.1240\n",
      "100/100 [==============================] - 0s 150us/step\n"
     ]
    }
   ],
   "source": [
    "model = Sequential()\n",
    "# Dense(64) is a fully-connected layer with 64 hidden units.\n",
    "# in the first layer, you must specify the expected input data shape:\n",
    "# here, 20-dimensional vectors.\n",
    "model.add(Dense(64, activation='relu', input_dim=20))\n",
    "model.add(Dropout(0.5))\n",
    "model.add(Dense(64, activation='relu'))\n",
    "model.add(Dropout(0.5))\n",
    "model.add(Dense(10, activation='softmax'))\n",
    "\n",
    "sgd = SGD(lr=0.01, decay=1e-6, momentum=0.9, nesterov=True)\n",
    "model.compile(loss='categorical_crossentropy',\n",
    "              optimizer=sgd,\n",
    "              metrics=['accuracy'])\n",
    "\n",
    "model.fit(x_train, y_train,\n",
    "          epochs=20,\n",
    "          batch_size=128)\n",
    "score = model.evaluate(x_test, y_test, batch_size=128)"
   ]
  },
  {
   "cell_type": "code",
   "execution_count": 5,
   "metadata": {
    "collapsed": false
   },
   "outputs": [
    {
     "name": "stdout",
     "output_type": "stream",
     "text": [
      "Epoch 1/20\n",
      "1000/1000 [==============================] - 0s 287us/step - loss: 0.7084 - acc: 0.4900\n",
      "Epoch 2/20\n",
      "1000/1000 [==============================] - 0s 18us/step - loss: 0.7026 - acc: 0.5150\n",
      "Epoch 3/20\n",
      "1000/1000 [==============================] - 0s 17us/step - loss: 0.6998 - acc: 0.4960\n",
      "Epoch 4/20\n",
      "1000/1000 [==============================] - 0s 17us/step - loss: 0.7073 - acc: 0.5040\n",
      "Epoch 5/20\n",
      "1000/1000 [==============================] - 0s 16us/step - loss: 0.6938 - acc: 0.5080\n",
      "Epoch 6/20\n",
      "1000/1000 [==============================] - 0s 18us/step - loss: 0.6961 - acc: 0.5140\n",
      "Epoch 7/20\n",
      "1000/1000 [==============================] - 0s 18us/step - loss: 0.6970 - acc: 0.5150\n",
      "Epoch 8/20\n",
      "1000/1000 [==============================] - 0s 17us/step - loss: 0.6996 - acc: 0.5110\n",
      "Epoch 9/20\n",
      "1000/1000 [==============================] - 0s 16us/step - loss: 0.6992 - acc: 0.4890\n",
      "Epoch 10/20\n",
      "1000/1000 [==============================] - 0s 17us/step - loss: 0.6933 - acc: 0.5130\n",
      "Epoch 11/20\n",
      "1000/1000 [==============================] - 0s 18us/step - loss: 0.6903 - acc: 0.5350\n",
      "Epoch 12/20\n",
      "1000/1000 [==============================] - 0s 16us/step - loss: 0.6963 - acc: 0.5230\n",
      "Epoch 13/20\n",
      "1000/1000 [==============================] - 0s 18us/step - loss: 0.6925 - acc: 0.5280\n",
      "Epoch 14/20\n",
      "1000/1000 [==============================] - 0s 16us/step - loss: 0.6943 - acc: 0.5120\n",
      "Epoch 15/20\n",
      "1000/1000 [==============================] - 0s 16us/step - loss: 0.6920 - acc: 0.5370\n",
      "Epoch 16/20\n",
      "1000/1000 [==============================] - 0s 17us/step - loss: 0.6948 - acc: 0.5090\n",
      "Epoch 17/20\n",
      "1000/1000 [==============================] - 0s 16us/step - loss: 0.6900 - acc: 0.5210\n",
      "Epoch 18/20\n",
      "1000/1000 [==============================] - 0s 17us/step - loss: 0.6921 - acc: 0.5080\n",
      "Epoch 19/20\n",
      "1000/1000 [==============================] - 0s 16us/step - loss: 0.6932 - acc: 0.5240\n",
      "Epoch 20/20\n",
      "1000/1000 [==============================] - 0s 16us/step - loss: 0.6948 - acc: 0.5110\n",
      "100/100 [==============================] - 0s 316us/step\n"
     ]
    }
   ],
   "source": [
    "x_train = np.random.random((1000, 20))\n",
    "y_train = np.random.randint(2, size=(1000, 1))\n",
    "x_test = np.random.random((100, 20))\n",
    "y_test = np.random.randint(2, size=(100, 1))\n",
    "\n",
    "model = Sequential()\n",
    "model.add(Dense(64, input_dim=20, activation='relu'))\n",
    "model.add(Dropout(0.5))\n",
    "model.add(Dense(64, activation='relu'))\n",
    "model.add(Dropout(0.5))\n",
    "model.add(Dense(1, activation='sigmoid'))\n",
    "\n",
    "model.compile(loss='binary_crossentropy',\n",
    "              optimizer='rmsprop',\n",
    "              metrics=['accuracy'])\n",
    "\n",
    "model.fit(x_train, y_train,\n",
    "          epochs=20,\n",
    "          batch_size=128)\n",
    "score = model.evaluate(x_test, y_test, batch_size=128)"
   ]
  },
  {
   "cell_type": "code",
   "execution_count": null,
   "metadata": {
    "collapsed": true
   },
   "outputs": [],
   "source": []
  }
 ],
 "metadata": {
  "anaconda-cloud": {},
  "kernelspec": {
   "display_name": "Python [conda root]",
   "language": "python",
   "name": "conda-root-py"
  },
  "language_info": {
   "codemirror_mode": {
    "name": "ipython",
    "version": 3
   },
   "file_extension": ".py",
   "mimetype": "text/x-python",
   "name": "python",
   "nbconvert_exporter": "python",
   "pygments_lexer": "ipython3",
   "version": "3.5.2"
  }
 },
 "nbformat": 4,
 "nbformat_minor": 1
}
