{
 "cells": [
  {
   "cell_type": "code",
   "execution_count": 143,
   "metadata": {
    "collapsed": true
   },
   "outputs": [],
   "source": [
    "# fix random seed for reproducibility\n",
    "numpy.random.seed(687)\n",
    "from keras.models import Sequential\n",
    "from keras.layers import Dense\n",
    "import numpy\n",
    "import pandas as pd\n",
    "import random"
   ]
  },
  {
   "cell_type": "code",
   "execution_count": 153,
   "metadata": {
    "collapsed": true
   },
   "outputs": [],
   "source": [
    "data = pd.read_csv('../Data/Interaction_data_simulation.csv')\n",
    "x = np.array(data.iloc[:,1:data.shape[1]])\n",
    "y = np.array(data.iloc[:,0])\n",
    "y[y > 0.5] = 1\n",
    "y[y <= 0.5] = 0"
   ]
  },
  {
   "cell_type": "code",
   "execution_count": 154,
   "metadata": {},
   "outputs": [
    {
     "data": {
      "text/plain": [
       "0.36520999999999998"
      ]
     },
     "execution_count": 154,
     "metadata": {},
     "output_type": "execute_result"
    }
   ],
   "source": [
    "np.mean(y)"
   ]
  },
  {
   "cell_type": "code",
   "execution_count": 159,
   "metadata": {
    "scrolled": false
   },
   "outputs": [
    {
     "name": "stdout",
     "output_type": "stream",
     "text": [
      "Epoch 1/20\n",
      "100000/100000 [==============================] - 3s 32us/step - loss: 0.2769 - acc: 0.9012\n",
      "Epoch 2/20\n",
      "100000/100000 [==============================] - 2s 20us/step - loss: 0.1198 - acc: 0.9507\n",
      "Epoch 3/20\n",
      "100000/100000 [==============================] - 2s 20us/step - loss: 0.1123 - acc: 0.9525\n",
      "Epoch 4/20\n",
      "100000/100000 [==============================] - 2s 20us/step - loss: 0.1092 - acc: 0.9537\n",
      "Epoch 5/20\n",
      "100000/100000 [==============================] - 2s 20us/step - loss: 0.1072 - acc: 0.9546\n",
      "Epoch 6/20\n",
      "100000/100000 [==============================] - 2s 20us/step - loss: 0.1058 - acc: 0.9550\n",
      "Epoch 7/20\n",
      "100000/100000 [==============================] - 2s 20us/step - loss: 0.1048 - acc: 0.9553\n",
      "Epoch 8/20\n",
      "100000/100000 [==============================] - 2s 20us/step - loss: 0.1037 - acc: 0.9554\n",
      "Epoch 9/20\n",
      "100000/100000 [==============================] - 2s 20us/step - loss: 0.1028 - acc: 0.9555\n",
      "Epoch 10/20\n",
      "100000/100000 [==============================] - 2s 20us/step - loss: 0.1020 - acc: 0.9562\n",
      "Epoch 11/20\n",
      "100000/100000 [==============================] - 2s 20us/step - loss: 0.1012 - acc: 0.9565\n",
      "Epoch 12/20\n",
      "100000/100000 [==============================] - 2s 20us/step - loss: 0.1005 - acc: 0.9565\n",
      "Epoch 13/20\n",
      "100000/100000 [==============================] - 2s 20us/step - loss: 0.1000 - acc: 0.9568\n",
      "Epoch 14/20\n",
      "100000/100000 [==============================] - 2s 21us/step - loss: 0.0995 - acc: 0.9569\n",
      "Epoch 15/20\n",
      "100000/100000 [==============================] - 2s 20us/step - loss: 0.0991 - acc: 0.9575\n",
      "Epoch 16/20\n",
      "100000/100000 [==============================] - 2s 20us/step - loss: 0.0987 - acc: 0.9574\n",
      "Epoch 17/20\n",
      "100000/100000 [==============================] - 2s 20us/step - loss: 0.0982 - acc: 0.9572\n",
      "Epoch 18/20\n",
      "100000/100000 [==============================] - 2s 21us/step - loss: 0.0979 - acc: 0.9574\n",
      "Epoch 19/20\n",
      "100000/100000 [==============================] - 2s 21us/step - loss: 0.0976 - acc: 0.9576\n",
      "Epoch 20/20\n",
      "100000/100000 [==============================] - 2s 21us/step - loss: 0.0973 - acc: 0.9578\n"
     ]
    },
    {
     "data": {
      "text/plain": [
       "<keras.callbacks.History at 0x1295aed30>"
      ]
     },
     "execution_count": 159,
     "metadata": {},
     "output_type": "execute_result"
    }
   ],
   "source": [
    "# With interactions\n",
    "# create model\n",
    "model = Sequential()\n",
    "model.add(Dense(5, input_dim=x.shape[1], activation='relu'))\n",
    "model.add(Dense(5, activation='relu'))\n",
    "model.add(Dense(1, activation='sigmoid'))\n",
    "# Compile model\n",
    "model.compile(loss='binary_crossentropy', optimizer='adam', metrics=['accuracy'])\n",
    "# Fit the model\n",
    "model.fit(x, y, epochs=20, batch_size=200)"
   ]
  },
  {
   "cell_type": "code",
   "execution_count": 160,
   "metadata": {
    "scrolled": false
   },
   "outputs": [
    {
     "name": "stdout",
     "output_type": "stream",
     "text": [
      "Epoch 1/20\n",
      "100000/100000 [==============================] - 3s 32us/step - loss: 0.3772 - acc: 0.8518\n",
      "Epoch 2/20\n",
      "100000/100000 [==============================] - 2s 20us/step - loss: 0.1470 - acc: 0.9376\n",
      "Epoch 3/20\n",
      "100000/100000 [==============================] - 2s 20us/step - loss: 0.1381 - acc: 0.9398\n",
      "Epoch 4/20\n",
      "100000/100000 [==============================] - 2s 20us/step - loss: 0.1294 - acc: 0.9460\n",
      "Epoch 5/20\n",
      "100000/100000 [==============================] - 2s 22us/step - loss: 0.1225 - acc: 0.9505\n",
      "Epoch 6/20\n",
      "100000/100000 [==============================] - 2s 22us/step - loss: 0.1194 - acc: 0.9522\n",
      "Epoch 7/20\n",
      "100000/100000 [==============================] - ETA: 0s - loss: 0.1145 - acc: 0.952 - 2s 23us/step - loss: 0.1142 - acc: 0.9528\n",
      "Epoch 8/20\n",
      "100000/100000 [==============================] - 2s 23us/step - loss: 0.1101 - acc: 0.9536\n",
      "Epoch 9/20\n",
      "100000/100000 [==============================] - 2s 21us/step - loss: 0.1083 - acc: 0.9538\n",
      "Epoch 10/20\n",
      "100000/100000 [==============================] - 2s 22us/step - loss: 0.1066 - acc: 0.9544\n",
      "Epoch 11/20\n",
      "100000/100000 [==============================] - 2s 21us/step - loss: 0.1055 - acc: 0.9546\n",
      "Epoch 12/20\n",
      "100000/100000 [==============================] - 2s 23us/step - loss: 0.1047 - acc: 0.9545\n",
      "Epoch 13/20\n",
      "100000/100000 [==============================] - 2s 21us/step - loss: 0.1039 - acc: 0.9546\n",
      "Epoch 14/20\n",
      "100000/100000 [==============================] - 2s 21us/step - loss: 0.1034 - acc: 0.9543\n",
      "Epoch 15/20\n",
      "100000/100000 [==============================] - 2s 21us/step - loss: 0.1031 - acc: 0.9544\n",
      "Epoch 16/20\n",
      "100000/100000 [==============================] - 2s 22us/step - loss: 0.1028 - acc: 0.9548\n",
      "Epoch 17/20\n",
      "100000/100000 [==============================] - 2s 22us/step - loss: 0.1026 - acc: 0.9547\n",
      "Epoch 18/20\n",
      "100000/100000 [==============================] - 2s 22us/step - loss: 0.1024 - acc: 0.9548\n",
      "Epoch 19/20\n",
      "100000/100000 [==============================] - 2s 20us/step - loss: 0.1022 - acc: 0.9550\n",
      "Epoch 20/20\n",
      "100000/100000 [==============================] - 2s 20us/step - loss: 0.1019 - acc: 0.9549\n"
     ]
    },
    {
     "data": {
      "text/plain": [
       "<keras.callbacks.History at 0x129e19c88>"
      ]
     },
     "execution_count": 160,
     "metadata": {},
     "output_type": "execute_result"
    }
   ],
   "source": [
    "# Without interactions\n",
    "# create model\n",
    "x_raw = x[:,0:17]\n",
    "model = Sequential()\n",
    "model.add(Dense(5, input_dim=x_raw.shape[1], activation='relu'))\n",
    "model.add(Dense(5, activation='relu'))\n",
    "model.add(Dense(1, activation='sigmoid'))\n",
    "# Compile model\n",
    "model.compile(loss='binary_crossentropy', optimizer='adam', metrics=['accuracy'])\n",
    "# Fit the model\n",
    "model.fit(x_raw, y, epochs=20, batch_size=200)"
   ]
  },
  {
   "cell_type": "code",
   "execution_count": 120,
   "metadata": {},
   "outputs": [
    {
     "name": "stdout",
     "output_type": "stream",
     "text": [
      "100000/100000 [==============================] - 3s 33us/step\n",
      "\n",
      "acc: 97.35%\n"
     ]
    }
   ],
   "source": [
    "# evaluate the model\n",
    "scores = model.evaluate(x, y)\n",
    "print(\"\\n%s: %.2f%%\" % (model.metrics_names[1], scores[1]*100))"
   ]
  },
  {
   "cell_type": "code",
   "execution_count": null,
   "metadata": {
    "collapsed": true
   },
   "outputs": [],
   "source": [
    "## calculate predictions\n",
    "#predictions = model.predict(X)\n",
    "## round predictions\n",
    "#rounded = [round(x[0]) for x in predictions]\n",
    "#print(rounded)"
   ]
  },
  {
   "cell_type": "code",
   "execution_count": 161,
   "metadata": {},
   "outputs": [
    {
     "data": {
      "text/plain": [
       "0.0001"
      ]
     },
     "execution_count": 161,
     "metadata": {},
     "output_type": "execute_result"
    }
   ],
   "source": []
  },
  {
   "cell_type": "code",
   "execution_count": null,
   "metadata": {
    "collapsed": true
   },
   "outputs": [],
   "source": []
  },
  {
   "cell_type": "code",
   "execution_count": null,
   "metadata": {
    "collapsed": true
   },
   "outputs": [],
   "source": []
  },
  {
   "cell_type": "code",
   "execution_count": 76,
   "metadata": {
    "collapsed": true
   },
   "outputs": [],
   "source": [
    "random.seed(867)\n",
    "train_index = np.random.choice(range(data.shape[0]),int(0.8*data.shape[0]))\n",
    "validate_index=set(range(data.shape[0]))-set(train_index)\n",
    "validate_index=np.array(list(validate_index),dtype='int64')"
   ]
  },
  {
   "cell_type": "code",
   "execution_count": 77,
   "metadata": {
    "collapsed": true
   },
   "outputs": [],
   "source": [
    "x_train = x[train_index,:]\n",
    "x_validate = x[validate_index,:]\n",
    "y_train = y[train_index]\n",
    "y_validate = y[validate_index]"
   ]
  },
  {
   "cell_type": "code",
   "execution_count": 78,
   "metadata": {
    "collapsed": true
   },
   "outputs": [],
   "source": [
    "case_index = [i for i,t in enumerate(y_train) if t == 1]\n",
    "control_index = [i for i,t in enumerate(y_train) if t == 0]"
   ]
  },
  {
   "cell_type": "code",
   "execution_count": 79,
   "metadata": {},
   "outputs": [
    {
     "data": {
      "text/plain": [
       "array([24905, 76853, 36616, ..., 79907, 79933, 79969])"
      ]
     },
     "execution_count": 79,
     "metadata": {},
     "output_type": "execute_result"
    }
   ],
   "source": [
    "new_control_index = np.random.choice(control_index,4*len(case_index))\n",
    "new_index = np.concatenate((new_control_index,case_index))\n",
    "new_index"
   ]
  },
  {
   "cell_type": "code",
   "execution_count": 80,
   "metadata": {
    "collapsed": true
   },
   "outputs": [],
   "source": [
    "new_x_train = x_train[new_index,:]\n",
    "new_y_train = y_train[new_index]"
   ]
  },
  {
   "cell_type": "code",
   "execution_count": 35,
   "metadata": {},
   "outputs": [
    {
     "name": "stdout",
     "output_type": "stream",
     "text": [
      "Epoch 1/20\n",
      "80000/80000 [==============================] - 9s 118us/step - loss: 0.6216 - acc: 0.2031\n",
      "Epoch 2/20\n",
      "80000/80000 [==============================] - 9s 108us/step - loss: 0.5814 - acc: 0.2137\n",
      "Epoch 3/20\n",
      "80000/80000 [==============================] - 9s 109us/step - loss: 0.5337 - acc: 0.2281\n",
      "Epoch 4/20\n",
      "80000/80000 [==============================] - 8s 105us/step - loss: 0.5039 - acc: 0.2364\n",
      "Epoch 5/20\n",
      "80000/80000 [==============================] - 9s 108us/step - loss: 0.4841 - acc: 0.2403\n",
      "Epoch 6/20\n",
      "80000/80000 [==============================] - 9s 109us/step - loss: 0.4636 - acc: 0.2459\n",
      "Epoch 7/20\n",
      "80000/80000 [==============================] - 9s 109us/step - loss: 0.4501 - acc: 0.2478\n",
      "Epoch 8/20\n",
      "80000/80000 [==============================] - 9s 110us/step - loss: 0.4432 - acc: 0.2503\n",
      "Epoch 9/20\n",
      "80000/80000 [==============================] - 9s 108us/step - loss: 0.4406 - acc: 0.2499\n",
      "Epoch 10/20\n",
      "46464/80000 [================>.............] - ETA: 3s - loss: 0.4277 - acc: 0.2516"
     ]
    },
    {
     "ename": "KeyboardInterrupt",
     "evalue": "",
     "output_type": "error",
     "traceback": [
      "\u001b[0;31m---------------------------------------------------------------------------\u001b[0m",
      "\u001b[0;31mKeyboardInterrupt\u001b[0m                         Traceback (most recent call last)",
      "\u001b[0;32m<ipython-input-35-77e7180bf6b3>\u001b[0m in \u001b[0;36m<module>\u001b[0;34m()\u001b[0m\n\u001b[1;32m     43\u001b[0m               metrics=['accuracy'])\n\u001b[1;32m     44\u001b[0m \u001b[0;34m\u001b[0m\u001b[0m\n\u001b[0;32m---> 45\u001b[0;31m \u001b[0mmodel\u001b[0m\u001b[0;34m.\u001b[0m\u001b[0mfit\u001b[0m\u001b[0;34m(\u001b[0m\u001b[0mx_train\u001b[0m\u001b[0;34m,\u001b[0m \u001b[0my_train\u001b[0m\u001b[0;34m,\u001b[0m \u001b[0mepochs\u001b[0m\u001b[0;34m=\u001b[0m\u001b[0;36m20\u001b[0m\u001b[0;34m,\u001b[0m \u001b[0mbatch_size\u001b[0m\u001b[0;34m=\u001b[0m\u001b[0;36m128\u001b[0m\u001b[0;34m)\u001b[0m\u001b[0;34m\u001b[0m\u001b[0m\n\u001b[0m\u001b[1;32m     46\u001b[0m \u001b[0mscore\u001b[0m \u001b[0;34m=\u001b[0m \u001b[0mmodel\u001b[0m\u001b[0;34m.\u001b[0m\u001b[0mevaluate\u001b[0m\u001b[0;34m(\u001b[0m\u001b[0mx_validate\u001b[0m\u001b[0;34m,\u001b[0m \u001b[0my_validate\u001b[0m\u001b[0;34m,\u001b[0m \u001b[0mbatch_size\u001b[0m\u001b[0;34m=\u001b[0m\u001b[0;36m128\u001b[0m\u001b[0;34m)\u001b[0m\u001b[0;34m\u001b[0m\u001b[0m\n",
      "\u001b[0;32m~/anaconda/lib/python3.6/site-packages/keras/engine/training.py\u001b[0m in \u001b[0;36mfit\u001b[0;34m(self, x, y, batch_size, epochs, verbose, callbacks, validation_split, validation_data, shuffle, class_weight, sample_weight, initial_epoch, steps_per_epoch, validation_steps, **kwargs)\u001b[0m\n\u001b[1;32m   1629\u001b[0m                               \u001b[0minitial_epoch\u001b[0m\u001b[0;34m=\u001b[0m\u001b[0minitial_epoch\u001b[0m\u001b[0;34m,\u001b[0m\u001b[0;34m\u001b[0m\u001b[0m\n\u001b[1;32m   1630\u001b[0m                               \u001b[0msteps_per_epoch\u001b[0m\u001b[0;34m=\u001b[0m\u001b[0msteps_per_epoch\u001b[0m\u001b[0;34m,\u001b[0m\u001b[0;34m\u001b[0m\u001b[0m\n\u001b[0;32m-> 1631\u001b[0;31m                               validation_steps=validation_steps)\n\u001b[0m\u001b[1;32m   1632\u001b[0m \u001b[0;34m\u001b[0m\u001b[0m\n\u001b[1;32m   1633\u001b[0m     def evaluate(self, x=None, y=None,\n",
      "\u001b[0;32m~/anaconda/lib/python3.6/site-packages/keras/engine/training.py\u001b[0m in \u001b[0;36m_fit_loop\u001b[0;34m(self, f, ins, out_labels, batch_size, epochs, verbose, callbacks, val_f, val_ins, shuffle, callback_metrics, initial_epoch, steps_per_epoch, validation_steps)\u001b[0m\n\u001b[1;32m   1211\u001b[0m                     \u001b[0mbatch_logs\u001b[0m\u001b[0;34m[\u001b[0m\u001b[0;34m'size'\u001b[0m\u001b[0;34m]\u001b[0m \u001b[0;34m=\u001b[0m \u001b[0mlen\u001b[0m\u001b[0;34m(\u001b[0m\u001b[0mbatch_ids\u001b[0m\u001b[0;34m)\u001b[0m\u001b[0;34m\u001b[0m\u001b[0m\n\u001b[1;32m   1212\u001b[0m                     \u001b[0mcallbacks\u001b[0m\u001b[0;34m.\u001b[0m\u001b[0mon_batch_begin\u001b[0m\u001b[0;34m(\u001b[0m\u001b[0mbatch_index\u001b[0m\u001b[0;34m,\u001b[0m \u001b[0mbatch_logs\u001b[0m\u001b[0;34m)\u001b[0m\u001b[0;34m\u001b[0m\u001b[0m\n\u001b[0;32m-> 1213\u001b[0;31m                     \u001b[0mouts\u001b[0m \u001b[0;34m=\u001b[0m \u001b[0mf\u001b[0m\u001b[0;34m(\u001b[0m\u001b[0mins_batch\u001b[0m\u001b[0;34m)\u001b[0m\u001b[0;34m\u001b[0m\u001b[0m\n\u001b[0m\u001b[1;32m   1214\u001b[0m                     \u001b[0;32mif\u001b[0m \u001b[0;32mnot\u001b[0m \u001b[0misinstance\u001b[0m\u001b[0;34m(\u001b[0m\u001b[0mouts\u001b[0m\u001b[0;34m,\u001b[0m \u001b[0mlist\u001b[0m\u001b[0;34m)\u001b[0m\u001b[0;34m:\u001b[0m\u001b[0;34m\u001b[0m\u001b[0m\n\u001b[1;32m   1215\u001b[0m                         \u001b[0mouts\u001b[0m \u001b[0;34m=\u001b[0m \u001b[0;34m[\u001b[0m\u001b[0mouts\u001b[0m\u001b[0;34m]\u001b[0m\u001b[0;34m\u001b[0m\u001b[0m\n",
      "\u001b[0;32m~/anaconda/lib/python3.6/site-packages/keras/backend/tensorflow_backend.py\u001b[0m in \u001b[0;36m__call__\u001b[0;34m(self, inputs)\u001b[0m\n\u001b[1;32m   2330\u001b[0m         updated = session.run(self.outputs + [self.updates_op],\n\u001b[1;32m   2331\u001b[0m                               \u001b[0mfeed_dict\u001b[0m\u001b[0;34m=\u001b[0m\u001b[0mfeed_dict\u001b[0m\u001b[0;34m,\u001b[0m\u001b[0;34m\u001b[0m\u001b[0m\n\u001b[0;32m-> 2332\u001b[0;31m                               **self.session_kwargs)\n\u001b[0m\u001b[1;32m   2333\u001b[0m         \u001b[0;32mreturn\u001b[0m \u001b[0mupdated\u001b[0m\u001b[0;34m[\u001b[0m\u001b[0;34m:\u001b[0m\u001b[0mlen\u001b[0m\u001b[0;34m(\u001b[0m\u001b[0mself\u001b[0m\u001b[0;34m.\u001b[0m\u001b[0moutputs\u001b[0m\u001b[0;34m)\u001b[0m\u001b[0;34m]\u001b[0m\u001b[0;34m\u001b[0m\u001b[0m\n\u001b[1;32m   2334\u001b[0m \u001b[0;34m\u001b[0m\u001b[0m\n",
      "\u001b[0;32m~/anaconda/lib/python3.6/site-packages/tensorflow/python/client/session.py\u001b[0m in \u001b[0;36mrun\u001b[0;34m(self, fetches, feed_dict, options, run_metadata)\u001b[0m\n\u001b[1;32m    893\u001b[0m     \u001b[0;32mtry\u001b[0m\u001b[0;34m:\u001b[0m\u001b[0;34m\u001b[0m\u001b[0m\n\u001b[1;32m    894\u001b[0m       result = self._run(None, fetches, feed_dict, options_ptr,\n\u001b[0;32m--> 895\u001b[0;31m                          run_metadata_ptr)\n\u001b[0m\u001b[1;32m    896\u001b[0m       \u001b[0;32mif\u001b[0m \u001b[0mrun_metadata\u001b[0m\u001b[0;34m:\u001b[0m\u001b[0;34m\u001b[0m\u001b[0m\n\u001b[1;32m    897\u001b[0m         \u001b[0mproto_data\u001b[0m \u001b[0;34m=\u001b[0m \u001b[0mtf_session\u001b[0m\u001b[0;34m.\u001b[0m\u001b[0mTF_GetBuffer\u001b[0m\u001b[0;34m(\u001b[0m\u001b[0mrun_metadata_ptr\u001b[0m\u001b[0;34m)\u001b[0m\u001b[0;34m\u001b[0m\u001b[0m\n",
      "\u001b[0;32m~/anaconda/lib/python3.6/site-packages/tensorflow/python/client/session.py\u001b[0m in \u001b[0;36m_run\u001b[0;34m(self, handle, fetches, feed_dict, options, run_metadata)\u001b[0m\n\u001b[1;32m   1122\u001b[0m     \u001b[0;32mif\u001b[0m \u001b[0mfinal_fetches\u001b[0m \u001b[0;32mor\u001b[0m \u001b[0mfinal_targets\u001b[0m \u001b[0;32mor\u001b[0m \u001b[0;34m(\u001b[0m\u001b[0mhandle\u001b[0m \u001b[0;32mand\u001b[0m \u001b[0mfeed_dict_tensor\u001b[0m\u001b[0;34m)\u001b[0m\u001b[0;34m:\u001b[0m\u001b[0;34m\u001b[0m\u001b[0m\n\u001b[1;32m   1123\u001b[0m       results = self._do_run(handle, final_targets, final_fetches,\n\u001b[0;32m-> 1124\u001b[0;31m                              feed_dict_tensor, options, run_metadata)\n\u001b[0m\u001b[1;32m   1125\u001b[0m     \u001b[0;32melse\u001b[0m\u001b[0;34m:\u001b[0m\u001b[0;34m\u001b[0m\u001b[0m\n\u001b[1;32m   1126\u001b[0m       \u001b[0mresults\u001b[0m \u001b[0;34m=\u001b[0m \u001b[0;34m[\u001b[0m\u001b[0;34m]\u001b[0m\u001b[0;34m\u001b[0m\u001b[0m\n",
      "\u001b[0;32m~/anaconda/lib/python3.6/site-packages/tensorflow/python/client/session.py\u001b[0m in \u001b[0;36m_do_run\u001b[0;34m(self, handle, target_list, fetch_list, feed_dict, options, run_metadata)\u001b[0m\n\u001b[1;32m   1319\u001b[0m     \u001b[0;32mif\u001b[0m \u001b[0mhandle\u001b[0m \u001b[0;32mis\u001b[0m \u001b[0;32mNone\u001b[0m\u001b[0;34m:\u001b[0m\u001b[0;34m\u001b[0m\u001b[0m\n\u001b[1;32m   1320\u001b[0m       return self._do_call(_run_fn, self._session, feeds, fetches, targets,\n\u001b[0;32m-> 1321\u001b[0;31m                            options, run_metadata)\n\u001b[0m\u001b[1;32m   1322\u001b[0m     \u001b[0;32melse\u001b[0m\u001b[0;34m:\u001b[0m\u001b[0;34m\u001b[0m\u001b[0m\n\u001b[1;32m   1323\u001b[0m       \u001b[0;32mreturn\u001b[0m \u001b[0mself\u001b[0m\u001b[0;34m.\u001b[0m\u001b[0m_do_call\u001b[0m\u001b[0;34m(\u001b[0m\u001b[0m_prun_fn\u001b[0m\u001b[0;34m,\u001b[0m \u001b[0mself\u001b[0m\u001b[0;34m.\u001b[0m\u001b[0m_session\u001b[0m\u001b[0;34m,\u001b[0m \u001b[0mhandle\u001b[0m\u001b[0;34m,\u001b[0m \u001b[0mfeeds\u001b[0m\u001b[0;34m,\u001b[0m \u001b[0mfetches\u001b[0m\u001b[0;34m)\u001b[0m\u001b[0;34m\u001b[0m\u001b[0m\n",
      "\u001b[0;32m~/anaconda/lib/python3.6/site-packages/tensorflow/python/client/session.py\u001b[0m in \u001b[0;36m_do_call\u001b[0;34m(self, fn, *args)\u001b[0m\n\u001b[1;32m   1325\u001b[0m   \u001b[0;32mdef\u001b[0m \u001b[0m_do_call\u001b[0m\u001b[0;34m(\u001b[0m\u001b[0mself\u001b[0m\u001b[0;34m,\u001b[0m \u001b[0mfn\u001b[0m\u001b[0;34m,\u001b[0m \u001b[0;34m*\u001b[0m\u001b[0margs\u001b[0m\u001b[0;34m)\u001b[0m\u001b[0;34m:\u001b[0m\u001b[0;34m\u001b[0m\u001b[0m\n\u001b[1;32m   1326\u001b[0m     \u001b[0;32mtry\u001b[0m\u001b[0;34m:\u001b[0m\u001b[0;34m\u001b[0m\u001b[0m\n\u001b[0;32m-> 1327\u001b[0;31m       \u001b[0;32mreturn\u001b[0m \u001b[0mfn\u001b[0m\u001b[0;34m(\u001b[0m\u001b[0;34m*\u001b[0m\u001b[0margs\u001b[0m\u001b[0;34m)\u001b[0m\u001b[0;34m\u001b[0m\u001b[0m\n\u001b[0m\u001b[1;32m   1328\u001b[0m     \u001b[0;32mexcept\u001b[0m \u001b[0merrors\u001b[0m\u001b[0;34m.\u001b[0m\u001b[0mOpError\u001b[0m \u001b[0;32mas\u001b[0m \u001b[0me\u001b[0m\u001b[0;34m:\u001b[0m\u001b[0;34m\u001b[0m\u001b[0m\n\u001b[1;32m   1329\u001b[0m       \u001b[0mmessage\u001b[0m \u001b[0;34m=\u001b[0m \u001b[0mcompat\u001b[0m\u001b[0;34m.\u001b[0m\u001b[0mas_text\u001b[0m\u001b[0;34m(\u001b[0m\u001b[0me\u001b[0m\u001b[0;34m.\u001b[0m\u001b[0mmessage\u001b[0m\u001b[0;34m)\u001b[0m\u001b[0;34m\u001b[0m\u001b[0m\n",
      "\u001b[0;32m~/anaconda/lib/python3.6/site-packages/tensorflow/python/client/session.py\u001b[0m in \u001b[0;36m_run_fn\u001b[0;34m(session, feed_dict, fetch_list, target_list, options, run_metadata)\u001b[0m\n\u001b[1;32m   1304\u001b[0m           return tf_session.TF_Run(session, options,\n\u001b[1;32m   1305\u001b[0m                                    \u001b[0mfeed_dict\u001b[0m\u001b[0;34m,\u001b[0m \u001b[0mfetch_list\u001b[0m\u001b[0;34m,\u001b[0m \u001b[0mtarget_list\u001b[0m\u001b[0;34m,\u001b[0m\u001b[0;34m\u001b[0m\u001b[0m\n\u001b[0;32m-> 1306\u001b[0;31m                                    status, run_metadata)\n\u001b[0m\u001b[1;32m   1307\u001b[0m \u001b[0;34m\u001b[0m\u001b[0m\n\u001b[1;32m   1308\u001b[0m     \u001b[0;32mdef\u001b[0m \u001b[0m_prun_fn\u001b[0m\u001b[0;34m(\u001b[0m\u001b[0msession\u001b[0m\u001b[0;34m,\u001b[0m \u001b[0mhandle\u001b[0m\u001b[0;34m,\u001b[0m \u001b[0mfeed_dict\u001b[0m\u001b[0;34m,\u001b[0m \u001b[0mfetch_list\u001b[0m\u001b[0;34m)\u001b[0m\u001b[0;34m:\u001b[0m\u001b[0;34m\u001b[0m\u001b[0m\n",
      "\u001b[0;31mKeyboardInterrupt\u001b[0m: "
     ]
    }
   ],
   "source": [
    "raw = Input(shape=(x.shape[1],))\n",
    "layer0 = Dense(10)(raw)\n",
    "norm_layer0 = BatchNormalization()(layer0)\n",
    "relu_layer0 = Activation('relu')(norm_layer0)\n",
    "drop_layer0 = Dropout(0.5)(relu_layer0)\n",
    "\n",
    "layer1 = Dense(10)(drop_layer0)\n",
    "norm_layer1 = BatchNormalization()(layer1)\n",
    "relu_layer1 = Activation('relu')(norm_layer1)\n",
    "drop_layer1 = Dropout(0.5)(relu_layer1)\n",
    "\n",
    "layer2 = Dense(10)(drop_layer1)\n",
    "norm_layer2 = BatchNormalization()(layer2)\n",
    "#res_block1 = add([drop_layer0, norm_layer2])\n",
    "#relu_layer2 = Activation('relu')(res_block1)\n",
    "relu_layer2 = Activation('relu')(norm_layer2)\n",
    "drop_layer2 = Dropout(0.5)(relu_layer2)\n",
    "\n",
    "layer3 = Dense(5)(drop_layer2)\n",
    "norm_layer3 = BatchNormalization()(layer3)\n",
    "relu_layer3 = Activation('relu')(norm_layer3)\n",
    "drop_layer3 = Dropout(0.5)(relu_layer3)\n",
    "\n",
    "layer4 = Dense(5)(drop_layer3)\n",
    "norm_layer4 = BatchNormalization()(layer4)\n",
    "relu_layer4 = Activation('relu')(norm_layer4)\n",
    "drop_layer4 = Dropout(0.5)(relu_layer4)\n",
    "\n",
    "layer5 = Dense(5)(drop_layer4)\n",
    "norm_layer5 = BatchNormalization()(layer5)\n",
    "#res_block2 = add([drop_layer3, norm_layer5])\n",
    "#relu_layer5 = Activation('relu')(res_block2)\n",
    "#relu_layer5 = Activation('relu')(norm_layer5)\n",
    "#drop_layer5 = Dropout(0.5)(relu_layer5)\n",
    "\n",
    "out = Dense(1, activation='sigmoid')(norm_layer5)\n",
    "model = Model(inputs=raw, outputs=out)\n",
    "\n",
    "sgd = SGD(lr=0.01, decay=1e-6, momentum=0.9, nesterov=True)\n",
    "\n",
    "model.compile(loss='binary_crossentropy',\n",
    "              optimizer='rmsprop',\n",
    "              metrics=['accuracy'])\n",
    "\n",
    "model.fit(x_train, y_train, epochs=20, batch_size=128)\n",
    "score = model.evaluate(x_validate, y_validate, batch_size=128)"
   ]
  },
  {
   "cell_type": "code",
   "execution_count": 36,
   "metadata": {},
   "outputs": [
    {
     "data": {
      "text/plain": [
       "[0.15486403196143583, 0.96372712146110617]"
      ]
     },
     "execution_count": 36,
     "metadata": {},
     "output_type": "execute_result"
    }
   ],
   "source": [
    "score"
   ]
  },
  {
   "cell_type": "code",
   "execution_count": 18,
   "metadata": {},
   "outputs": [
    {
     "name": "stdout",
     "output_type": "stream",
     "text": [
      "Epoch 1/20\n",
      "87825/87825 [==============================] - 8s 90us/step - loss: 0.5944 - acc: 0.7683\n",
      "Epoch 2/20\n",
      "87825/87825 [==============================] - 6s 71us/step - loss: 0.5091 - acc: 0.8000\n",
      "Epoch 3/20\n",
      "87825/87825 [==============================] - 6s 71us/step - loss: 0.5029 - acc: 0.8000\n",
      "Epoch 4/20\n",
      "87825/87825 [==============================] - 6s 71us/step - loss: 0.4990 - acc: 0.8000\n",
      "Epoch 5/20\n",
      "87825/87825 [==============================] - 6s 71us/step - loss: 0.4965 - acc: 0.8000\n",
      "Epoch 6/20\n",
      "87825/87825 [==============================] - 6s 71us/step - loss: 0.4943 - acc: 0.8000\n",
      "Epoch 7/20\n",
      "87825/87825 [==============================] - 6s 71us/step - loss: 0.4926 - acc: 0.8000\n",
      "Epoch 8/20\n",
      "87825/87825 [==============================] - 6s 72us/step - loss: 0.4916 - acc: 0.8000\n",
      "Epoch 9/20\n",
      "87825/87825 [==============================] - 6s 72us/step - loss: 0.4911 - acc: 0.7999\n",
      "Epoch 10/20\n",
      "87825/87825 [==============================] - 6s 72us/step - loss: 0.4911 - acc: 0.7999\n",
      "Epoch 11/20\n",
      "87825/87825 [==============================] - 6s 72us/step - loss: 0.4904 - acc: 0.8000\n",
      "Epoch 12/20\n",
      "87825/87825 [==============================] - 6s 72us/step - loss: 0.4898 - acc: 0.8000\n",
      "Epoch 13/20\n",
      "87825/87825 [==============================] - 6s 72us/step - loss: 0.4896 - acc: 0.7998\n",
      "Epoch 14/20\n",
      "87825/87825 [==============================] - 6s 71us/step - loss: 0.4891 - acc: 0.7998\n",
      "Epoch 15/20\n",
      "87825/87825 [==============================] - 6s 72us/step - loss: 0.4889 - acc: 0.7999\n",
      "Epoch 16/20\n",
      "87825/87825 [==============================] - 6s 71us/step - loss: 0.4892 - acc: 0.7998\n",
      "Epoch 17/20\n",
      "87825/87825 [==============================] - 6s 72us/step - loss: 0.4886 - acc: 0.7999\n",
      "Epoch 18/20\n",
      "87825/87825 [==============================] - 6s 71us/step - loss: 0.4888 - acc: 0.7998\n",
      "Epoch 19/20\n",
      "87825/87825 [==============================] - 6s 72us/step - loss: 0.4881 - acc: 0.7999\n",
      "Epoch 20/20\n",
      "87825/87825 [==============================] - 6s 72us/step - loss: 0.4883 - acc: 0.7998\n",
      "267447/267447 [==============================] - 6s 22us/step\n"
     ]
    }
   ],
   "source": [
    "raw = Input(shape=(57,))\n",
    "layer0 = Dense(100)(raw)\n",
    "norm_layer0 = BatchNormalization()(layer0)\n",
    "relu_layer0 = Activation('relu')(norm_layer0)\n",
    "drop_layer0 = Dropout(0.5)(relu_layer0)\n",
    "\n",
    "layer1 = Dense(100)(drop_layer0)\n",
    "norm_layer1 = BatchNormalization()(layer1)\n",
    "relu_layer1 = Activation('relu')(norm_layer1)\n",
    "drop_layer1 = Dropout(0.5)(relu_layer1)\n",
    "\n",
    "layer2 = Dense(100)(drop_layer1)\n",
    "norm_layer2 = BatchNormalization()(layer2)\n",
    "res_block1 = add([drop_layer0, norm_layer2])\n",
    "relu_layer2 = Activation('relu')(res_block1)\n",
    "drop_layer2 = Dropout(0.5)(relu_layer2)\n",
    "\n",
    "layer3 = Dense(50)(drop_layer2)\n",
    "norm_layer3 = BatchNormalization()(layer3)\n",
    "relu_layer3 = Activation('relu')(norm_layer3)\n",
    "drop_layer3 = Dropout(0.5)(relu_layer3)\n",
    "\n",
    "layer4 = Dense(50)(drop_layer3)\n",
    "norm_layer4 = BatchNormalization()(layer4)\n",
    "relu_layer4 = Activation('relu')(norm_layer4)\n",
    "drop_layer4 = Dropout(0.5)(relu_layer4)\n",
    "\n",
    "layer5 = Dense(50)(drop_layer4)\n",
    "norm_layer5 = BatchNormalization()(layer5)\n",
    "res_block2 = add([drop_layer3, norm_layer5])\n",
    "relu_layer5 = Activation('relu')(res_block2)\n",
    "drop_layer5 = Dropout(0.5)(relu_layer5)\n",
    "\n",
    "out = Dense(1, activation='sigmoid')(drop_layer5)\n",
    "model = Model(inputs=raw, outputs=out)\n",
    "\n",
    "sgd = SGD(lr=0.01, decay=1e-6, momentum=0.9, nesterov=True)\n",
    "\n",
    "model.compile(loss='binary_crossentropy',\n",
    "              optimizer='rmsprop',\n",
    "              metrics=['accuracy'])\n",
    "\n",
    "model.fit(new_x_train, new_y_train, epochs=20, batch_size=128)\n",
    "score = model.evaluate(x_validate, y_validate, batch_size=128)"
   ]
  },
  {
   "cell_type": "code",
   "execution_count": 19,
   "metadata": {},
   "outputs": [
    {
     "data": {
      "text/plain": [
       "[0.26448678825374206, 0.96385078165019611]"
      ]
     },
     "execution_count": 19,
     "metadata": {},
     "output_type": "execute_result"
    }
   ],
   "source": [
    "score"
   ]
  },
  {
   "cell_type": "code",
   "execution_count": null,
   "metadata": {
    "collapsed": true
   },
   "outputs": [],
   "source": []
  }
 ],
 "metadata": {
  "anaconda-cloud": {},
  "kernelspec": {
   "display_name": "Python 3",
   "language": "python",
   "name": "python3"
  },
  "language_info": {
   "codemirror_mode": {
    "name": "ipython",
    "version": 3
   },
   "file_extension": ".py",
   "mimetype": "text/x-python",
   "name": "python",
   "nbconvert_exporter": "python",
   "pygments_lexer": "ipython3",
   "version": "3.6.3"
  }
 },
 "nbformat": 4,
 "nbformat_minor": 1
}
