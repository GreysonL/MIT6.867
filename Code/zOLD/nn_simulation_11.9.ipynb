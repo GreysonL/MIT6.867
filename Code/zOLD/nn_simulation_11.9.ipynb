{
 "cells": [
  {
   "cell_type": "code",
   "execution_count": 122,
   "metadata": {
    "collapsed": false
   },
   "outputs": [],
   "source": [
    "import keras\n",
    "from keras.models import Sequential\n",
    "from keras.layers import Dense, Dropout, Activation\n",
    "from keras.optimizers import SGD\n",
    "import numpy as np\n",
    "import pandas as pd"
   ]
  },
  {
   "cell_type": "code",
   "execution_count": 129,
   "metadata": {
    "collapsed": false
   },
   "outputs": [],
   "source": [
    "data = pd.read_csv('../Data/Raw_simulation.csv')\n",
    "x = np.array(data.iloc[:,1:data.shape[1]])\n",
    "y = np.array(data.iloc[:,0])"
   ]
  },
  {
   "cell_type": "code",
   "execution_count": 130,
   "metadata": {
    "collapsed": false
   },
   "outputs": [
    {
     "data": {
      "text/plain": [
       "array([[ 1.        , -1.18439617,  0.5757819 , ...,  0.        ,\n",
       "         1.        , -1.        ],\n",
       "       [ 1.        , -0.74033047, -0.87456064, ...,  0.        ,\n",
       "         1.        ,  1.        ],\n",
       "       [ 1.        , -0.7335904 ,  0.56883181, ...,  0.        ,\n",
       "        -1.        ,  1.        ],\n",
       "       ..., \n",
       "       [ 1.        , -0.07548287, -0.9024933 , ...,  0.        ,\n",
       "        -1.        ,  1.        ],\n",
       "       [ 1.        ,  2.21644524,  0.61111877, ...,  1.        ,\n",
       "        -1.        , -1.        ],\n",
       "       [ 1.        , -0.30359783,  0.74221116, ...,  0.        ,\n",
       "        -1.        , -1.        ]])"
      ]
     },
     "execution_count": 130,
     "metadata": {},
     "output_type": "execute_result"
    }
   ],
   "source": [
    "x"
   ]
  },
  {
   "cell_type": "code",
   "execution_count": 131,
   "metadata": {
    "collapsed": false
   },
   "outputs": [
    {
     "data": {
      "text/plain": [
       "array([ 0.87932681,  0.99994029,  0.17878075, ...,  0.63817866,\n",
       "        1.        ,  0.12288769])"
      ]
     },
     "execution_count": 131,
     "metadata": {},
     "output_type": "execute_result"
    }
   ],
   "source": [
    "y"
   ]
  },
  {
   "cell_type": "code",
   "execution_count": 132,
   "metadata": {
    "collapsed": true
   },
   "outputs": [],
   "source": [
    "y[y>0.5]=1\n",
    "y[y<=0.5]=0"
   ]
  },
  {
   "cell_type": "code",
   "execution_count": 133,
   "metadata": {
    "collapsed": false
   },
   "outputs": [
    {
     "data": {
      "text/plain": [
       "array([ 1.,  1.,  0., ...,  1.,  1.,  0.])"
      ]
     },
     "execution_count": 133,
     "metadata": {},
     "output_type": "execute_result"
    }
   ],
   "source": [
    "y"
   ]
  },
  {
   "cell_type": "code",
   "execution_count": 134,
   "metadata": {
    "collapsed": false
   },
   "outputs": [
    {
     "data": {
      "text/plain": [
       "0.54949000000000003"
      ]
     },
     "execution_count": 134,
     "metadata": {},
     "output_type": "execute_result"
    }
   ],
   "source": [
    "np.mean(y)"
   ]
  },
  {
   "cell_type": "code",
   "execution_count": 135,
   "metadata": {
    "collapsed": false
   },
   "outputs": [
    {
     "data": {
      "text/plain": [
       "(100000, 18)"
      ]
     },
     "execution_count": 135,
     "metadata": {},
     "output_type": "execute_result"
    }
   ],
   "source": [
    "np.shape(x)"
   ]
  },
  {
   "cell_type": "code",
   "execution_count": 143,
   "metadata": {
    "collapsed": false
   },
   "outputs": [
    {
     "name": "stdout",
     "output_type": "stream",
     "text": [
      "Epoch 1/20\n",
      "79999/79999 [==============================] - 2s - loss: 0.2067 - acc: 0.9139     \n",
      "Epoch 2/20\n",
      "79999/79999 [==============================] - 1s - loss: 0.1279 - acc: 0.9435     \n",
      "Epoch 3/20\n",
      "79999/79999 [==============================] - 1s - loss: 0.1208 - acc: 0.9458     \n",
      "Epoch 4/20\n",
      "79999/79999 [==============================] - 1s - loss: 0.1180 - acc: 0.9480     \n",
      "Epoch 5/20\n",
      "79999/79999 [==============================] - 1s - loss: 0.1164 - acc: 0.9491     \n",
      "Epoch 6/20\n",
      "79999/79999 [==============================] - 1s - loss: 0.1151 - acc: 0.9490     \n",
      "Epoch 7/20\n",
      "79999/79999 [==============================] - 1s - loss: 0.1142 - acc: 0.9489     \n",
      "Epoch 8/20\n",
      "79999/79999 [==============================] - 1s - loss: 0.1130 - acc: 0.9499     \n",
      "Epoch 9/20\n",
      "79999/79999 [==============================] - 1s - loss: 0.1113 - acc: 0.9505     \n",
      "Epoch 10/20\n",
      "79999/79999 [==============================] - 1s - loss: 0.1104 - acc: 0.9515     \n",
      "Epoch 11/20\n",
      "79999/79999 [==============================] - 1s - loss: 0.1084 - acc: 0.9515     \n",
      "Epoch 12/20\n",
      "79999/79999 [==============================] - 2s - loss: 0.1078 - acc: 0.9522     \n",
      "Epoch 13/20\n",
      "79999/79999 [==============================] - 1s - loss: 0.1072 - acc: 0.9523     \n",
      "Epoch 14/20\n",
      "79999/79999 [==============================] - 1s - loss: 0.1063 - acc: 0.9530     \n",
      "Epoch 15/20\n",
      "79999/79999 [==============================] - 1s - loss: 0.1059 - acc: 0.9529     \n",
      "Epoch 16/20\n",
      "79999/79999 [==============================] - 1s - loss: 0.1056 - acc: 0.9530     \n",
      "Epoch 17/20\n",
      "79999/79999 [==============================] - 1s - loss: 0.1053 - acc: 0.9536     \n",
      "Epoch 18/20\n",
      "79999/79999 [==============================] - 2s - loss: 0.1048 - acc: 0.9536     \n",
      "Epoch 19/20\n",
      "79999/79999 [==============================] - 1s - loss: 0.1040 - acc: 0.9543     \n",
      "Epoch 20/20\n",
      "79999/79999 [==============================] - 1s - loss: 0.1040 - acc: 0.9535     \n",
      "18816/19999 [===========================>..] - ETA: 0s"
     ]
    }
   ],
   "source": [
    "model1 = Sequential()\n",
    "model1.add(Dense(100, input_dim=np.shape(x)[1], activation='relu'))\n",
    "model1.add(Dense(50, activation='relu'))\n",
    "model1.add(Dense(25, activation='relu'))\n",
    "model1.add(Dense(1, activation='sigmoid'))\n",
    "\n",
    "model1.compile(loss='binary_crossentropy',\n",
    "              optimizer='rmsprop',\n",
    "              metrics=['accuracy'])\n",
    "\n",
    "model1.fit(x[0:79999,:], y[0:79999],epochs=20,batch_size=128)\n",
    "score1 = model1.evaluate(x[80000:99999,:], y[80000:99999], batch_size=128)"
   ]
  },
  {
   "cell_type": "code",
   "execution_count": 144,
   "metadata": {
    "collapsed": false
   },
   "outputs": [
    {
     "data": {
      "text/plain": [
       "[0.11517418525497213, 0.94994749733314343]"
      ]
     },
     "execution_count": 144,
     "metadata": {},
     "output_type": "execute_result"
    }
   ],
   "source": [
    "score1"
   ]
  },
  {
   "cell_type": "code",
   "execution_count": 138,
   "metadata": {
    "collapsed": true
   },
   "outputs": [],
   "source": [
    "## 1 and 3, 2 and 3\n",
    "ncol = np.shape(x)[1]\n",
    "inter1 = np.array(x[:,0]*x[:,2])\n",
    "inter2 = np.array(x[:,1]*x[:,2])"
   ]
  },
  {
   "cell_type": "code",
   "execution_count": 139,
   "metadata": {
    "collapsed": false
   },
   "outputs": [],
   "source": [
    "inter1.shape=(100000,1)\n",
    "inter2.shape=(100000,1)"
   ]
  },
  {
   "cell_type": "code",
   "execution_count": 140,
   "metadata": {
    "collapsed": false
   },
   "outputs": [
    {
     "data": {
      "text/plain": [
       "(100000, 20)"
      ]
     },
     "execution_count": 140,
     "metadata": {},
     "output_type": "execute_result"
    }
   ],
   "source": [
    "new_x = np.hstack((x,inter1,inter2))\n",
    "new_x.shape"
   ]
  },
  {
   "cell_type": "code",
   "execution_count": 145,
   "metadata": {
    "collapsed": false
   },
   "outputs": [
    {
     "name": "stdout",
     "output_type": "stream",
     "text": [
      "Epoch 1/20\n",
      "79999/79999 [==============================] - 2s - loss: 0.2120 - acc: 0.9130     \n",
      "Epoch 2/20\n",
      "79999/79999 [==============================] - 1s - loss: 0.1263 - acc: 0.9451     \n",
      "Epoch 3/20\n",
      "79999/79999 [==============================] - 1s - loss: 0.1201 - acc: 0.9480     \n",
      "Epoch 4/20\n",
      "79999/79999 [==============================] - 1s - loss: 0.1157 - acc: 0.9492     \n",
      "Epoch 5/20\n",
      "79999/79999 [==============================] - 1s - loss: 0.1131 - acc: 0.9502     \n",
      "Epoch 6/20\n",
      "79999/79999 [==============================] - 1s - loss: 0.1111 - acc: 0.9513     \n",
      "Epoch 7/20\n",
      "79999/79999 [==============================] - 1s - loss: 0.1102 - acc: 0.9512     \n",
      "Epoch 8/20\n",
      "79999/79999 [==============================] - 1s - loss: 0.1086 - acc: 0.9520     \n",
      "Epoch 9/20\n",
      "79999/79999 [==============================] - 1s - loss: 0.1079 - acc: 0.9522     \n",
      "Epoch 10/20\n",
      "79999/79999 [==============================] - 1s - loss: 0.1074 - acc: 0.9529     \n",
      "Epoch 11/20\n",
      "79999/79999 [==============================] - 1s - loss: 0.1064 - acc: 0.9533     \n",
      "Epoch 12/20\n",
      "79999/79999 [==============================] - 1s - loss: 0.1061 - acc: 0.9529     \n",
      "Epoch 13/20\n",
      "79999/79999 [==============================] - 1s - loss: 0.1059 - acc: 0.9529     \n",
      "Epoch 14/20\n",
      "79999/79999 [==============================] - 1s - loss: 0.1051 - acc: 0.9535     \n",
      "Epoch 15/20\n",
      "79999/79999 [==============================] - 1s - loss: 0.1046 - acc: 0.9537     \n",
      "Epoch 16/20\n",
      "79999/79999 [==============================] - 1s - loss: 0.1038 - acc: 0.9541     \n",
      "Epoch 17/20\n",
      "79999/79999 [==============================] - 1s - loss: 0.1039 - acc: 0.9542     \n",
      "Epoch 18/20\n",
      "79999/79999 [==============================] - 1s - loss: 0.1041 - acc: 0.9539     \n",
      "Epoch 19/20\n",
      "79999/79999 [==============================] - 1s - loss: 0.1034 - acc: 0.9548     \n",
      "Epoch 20/20\n",
      "79999/79999 [==============================] - 1s - loss: 0.1027 - acc: 0.9545     \n",
      "19712/19999 [============================>.] - ETA: 0s"
     ]
    }
   ],
   "source": [
    "model2 = Sequential()\n",
    "model2.add(Dense(100, input_dim=np.shape(new_x)[1], activation='relu'))\n",
    "model2.add(Dense(50, activation='relu'))\n",
    "model2.add(Dense(25, activation='relu'))\n",
    "model2.add(Dense(1, activation='sigmoid'))\n",
    "\n",
    "model2.compile(loss='binary_crossentropy',\n",
    "              optimizer='rmsprop',\n",
    "              metrics=['accuracy'])\n",
    "\n",
    "model2.fit(new_x[0:79999,:], y[0:79999],epochs=20,batch_size=128)\n",
    "score2 = model2.evaluate(new_x[80000:99999,:], y[80000:99999], batch_size=128)"
   ]
  },
  {
   "cell_type": "code",
   "execution_count": 146,
   "metadata": {
    "collapsed": false
   },
   "outputs": [
    {
     "data": {
      "text/plain": [
       "[0.11932128423812706, 0.94874743733014322]"
      ]
     },
     "execution_count": 146,
     "metadata": {},
     "output_type": "execute_result"
    }
   ],
   "source": [
    "score2"
   ]
  },
  {
   "cell_type": "code",
   "execution_count": 3,
   "metadata": {
    "collapsed": false
   },
   "outputs": [],
   "source": [
    "import numpy as np\n",
    "acc1=[0.9139,0.9435,0.9458,0.9480,0.9491,0.9490,0.9489,0.9499,0.9505,0.9515,0.9515,0.9522,0.9523,0.9530,0.9529,0.9530,0.9536,0.9536,0.9543,0.9535]\n",
    "acc2=[0.9130,0.9451,0.9480,0.9492,0.9502,0.9513,0.9512,0.9520,0.9522,0.9529,0.9533,0.9529,0.9529,0.9535,0.9537,0.9541,0.9542,0.9539,0.9548,0.9545]\n",
    "err1=1-np.array(acc1)\n",
    "err2=1-np.array(acc2)"
   ]
  },
  {
   "cell_type": "code",
   "execution_count": 4,
   "metadata": {
    "collapsed": false
   },
   "outputs": [
    {
     "data": {
      "image/png": "[encoded data removed]",
      "text/plain": [
       "<matplotlib.figure.Figure at 0x1b74b678780>"
      ]
     },
     "metadata": {},
     "output_type": "display_data"
    }
   ],
   "source": [
    "import matplotlib.pyplot as plt\n",
    "plt.plot(range(20),err1,label='without interactions')\n",
    "plt.plot(range(20),err2,label='with interactions')\n",
    "plt.plot(range(20),np.ones(20)*0.05)\n",
    "plt.xlabel(\"Epoch\")\n",
    "plt.ylabel(\"Training error\")\n",
    "plt.legend()\n",
    "plt.show()"
   ]
  },
  {
   "cell_type": "code",
   "execution_count": null,
   "metadata": {
    "collapsed": true
   },
   "outputs": [],
   "source": [
    "data = pd.read_csv('../Data/Raw_simulation.csv')\n",
    "x = np.array(data.iloc[:,1:data.shape[1]])\n",
    "y = np.array(data.iloc[:,0])"
   ]
  }
 ],
 "metadata": {
  "kernelspec": {
   "display_name": "Python [conda root]",
   "language": "python",
   "name": "conda-root-py"
  },
  "language_info": {
   "codemirror_mode": {
    "name": "ipython",
    "version": 3
   },
   "file_extension": ".py",
   "mimetype": "text/x-python",
   "name": "python",
   "nbconvert_exporter": "python",
   "pygments_lexer": "ipython3",
   "version": "3.5.2"
  }
 },
 "nbformat": 4,
 "nbformat_minor": 1
}
