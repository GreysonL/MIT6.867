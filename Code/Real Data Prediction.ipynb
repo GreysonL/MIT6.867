{
 "cells": [
  {
   "cell_type": "code",
   "execution_count": 1,
   "metadata": {
    "collapsed": false
   },
   "outputs": [
    {
     "name": "stderr",
     "output_type": "stream",
     "text": [
      "Using TensorFlow backend.\n"
     ]
    }
   ],
   "source": [
    "import keras\n",
    "from keras.models import Sequential, Model\n",
    "from keras.layers import Dense, Dropout, Activation,Input, Merge, add\n",
    "from keras.layers.normalization import BatchNormalization\n",
    "from keras.optimizers import SGD\n",
    "import numpy as np\n",
    "import pandas as pd\n",
    "import random"
   ]
  },
  {
   "cell_type": "code",
   "execution_count": 3,
   "metadata": {
    "collapsed": false
   },
   "outputs": [],
   "source": [
    "data = pd.read_csv('../Data/trainset_1120.csv')\n",
    "x = data.drop(data.columns[[0, 1]], axis=1)\n",
    "x = np.array(x)\n",
    "y = data['target']\n",
    "y = np.array(y)"
   ]
  },
  {
   "cell_type": "code",
   "execution_count": 4,
   "metadata": {
    "collapsed": false
   },
   "outputs": [
    {
     "data": {
      "text/plain": [
       "0.96355248214081701"
      ]
     },
     "execution_count": 4,
     "metadata": {},
     "output_type": "execute_result"
    }
   ],
   "source": [
    "1-np.mean(y)"
   ]
  },
  {
   "cell_type": "code",
   "execution_count": 5,
   "metadata": {
    "collapsed": false
   },
   "outputs": [],
   "source": [
    "random.seed(867)\n",
    "train_index = np.random.choice(range(data.shape[0]),int(0.8*data.shape[0]))\n",
    "validate_index=set(range(data.shape[0]))-set(train_index)\n",
    "validate_index=np.array(list(validate_index),dtype='int64')"
   ]
  },
  {
   "cell_type": "code",
   "execution_count": 6,
   "metadata": {
    "collapsed": false
   },
   "outputs": [],
   "source": [
    "x_train = x[train_index,:]\n",
    "x_validate = x[validate_index,:]\n",
    "y_train = y[train_index]\n",
    "y_validate = y[validate_index]"
   ]
  },
  {
   "cell_type": "code",
   "execution_count": 8,
   "metadata": {
    "collapsed": false
   },
   "outputs": [],
   "source": [
    "case_index = [i for i,t in enumerate(y_train) if t == 1]\n",
    "control_index = [i for i,t in enumerate(y_train) if t == 0]"
   ]
  },
  {
   "cell_type": "code",
   "execution_count": 9,
   "metadata": {
    "collapsed": false
   },
   "outputs": [
    {
     "data": {
      "text/plain": [
       "array([401579, 393867,   8966, ..., 476123, 476143, 476167])"
      ]
     },
     "execution_count": 9,
     "metadata": {},
     "output_type": "execute_result"
    }
   ],
   "source": [
    "new_control_index = np.random.choice(control_index,4*len(case_index))\n",
    "new_index = np.concatenate((new_control_index,case_index))\n",
    "new_index"
   ]
  },
  {
   "cell_type": "code",
   "execution_count": 11,
   "metadata": {
    "collapsed": false
   },
   "outputs": [],
   "source": [
    "new_x_train = x_train[new_index,:]\n",
    "new_y_train = y_train[new_index]"
   ]
  },
  {
   "cell_type": "code",
   "execution_count": 100,
   "metadata": {
    "collapsed": false
   },
   "outputs": [
    {
     "data": {
      "text/plain": [
       "0.16666667"
      ]
     },
     "execution_count": 100,
     "metadata": {},
     "output_type": "execute_result"
    }
   ],
   "source": [
    "### test tensorflow, don't run\n",
    "import keras.backend as K\n",
    "import tensorflow as tf\n",
    "a=np.array([1,0,0,0,1,0])\n",
    "p=np.array([0,0,0,1,1,0])\n",
    "actual = K.variable(value=a)\n",
    "pred = K.variable(value=p)\n",
    "nT = K.shape(actual)[-1]\n",
    "n = K.cast(nT, dtype='int32')\n",
    "n_float = K.cast(nT, dtype=K.floatx())\n",
    "inds = tf.nn.top_k(pred, n)[1]\n",
    "a_s = K.gather(actual, inds)\n",
    "a_c = K.cumsum(a_s)\n",
    "s1 = K.sum(a_c)\n",
    "s2 = K.sum(a_s)\n",
    "giniSum = K.cast(tf.divide(s1,s2),dtype=K.floatx()) - K.cast(tf.divide(n+1,2),dtype=K.floatx())\n",
    "standard_gini = K.cast(tf.divide(giniSum,n_float),dtype=K.floatx())\n",
    "K.eval(standard_gini)"
   ]
  },
  {
   "cell_type": "code",
   "execution_count": 12,
   "metadata": {
    "collapsed": true
   },
   "outputs": [],
   "source": [
    "import keras.backend as K\n",
    "import tensorflow as tf\n",
    "def gini(actual, pred):\n",
    "    nT = K.shape(pred)[0]\n",
    "    n = K.cast(nT, dtype='int32')\n",
    "    n_float = K.cast(nT, dtype=K.floatx())\n",
    "    actual = K.reshape(actual,(1,n))[-1]\n",
    "    pred = K.reshape(pred,(1,n))[-1]\n",
    "    inds = tf.nn.top_k(pred, n)[1]\n",
    "    a_s = K.gather(actual, inds)\n",
    "    a_c = K.cumsum(a_s)\n",
    "    s1 = K.sum(a_c)\n",
    "    s2 = K.sum(a_s)\n",
    "    giniSum = K.cast(tf.divide(s1,s2),dtype=K.floatx()) - K.cast(tf.divide(n+1,2),dtype=K.floatx())\n",
    "    standard_gini = K.cast(tf.divide(giniSum,n_float),dtype=K.floatx())\n",
    "    return standard_gini\n",
    "\n",
    "def gini_normalized(a, p):\n",
    "    norm_gini = K.cast(tf.divide(gini(a, p),gini(a, a)),dtype=K.floatx())\n",
    "    return norm_gini\n",
    "\n",
    "## new loss\n",
    "## pred  actual  loss\n",
    "##  0       1      9\n",
    "##  1       0      1 \n",
    "##  1/0     1/0    0\n",
    "##  a=5,b=-4,c=0\n",
    "\n",
    "def new_loss(actual,pred):\n",
    "    return K.mean(5*K.square(pred-actual)-4*(pred-actual),axis=-1)"
   ]
  },
  {
   "cell_type": "code",
   "execution_count": 13,
   "metadata": {
    "collapsed": false
   },
   "outputs": [
    {
     "name": "stdout",
     "output_type": "stream",
     "text": [
      "Epoch 1/3\n",
      "86405/86405 [==============================] - 15s - loss: 12.7539 - gini_normalized: -0.0039    \n",
      "Epoch 2/3\n",
      "86405/86405 [==============================] - 14s - loss: 12.7539 - gini_normalized: 0.0010    \n",
      "Epoch 3/3\n",
      "86405/86405 [==============================] - 14s - loss: 12.7539 - gini_normalized: 2.9963e-04    \n"
     ]
    },
    {
     "data": {
      "text/plain": [
       "<keras.callbacks.History at 0x1c5d2e00f60>"
      ]
     },
     "execution_count": 13,
     "metadata": {},
     "output_type": "execute_result"
    }
   ],
   "source": [
    "model = Sequential()\n",
    "model.add(Dense(1000, activation='relu', input_dim=new_x_train.shape[1]))\n",
    "model.add(Dropout(0.5))\n",
    "model.add(Dense(250, activation='relu'))\n",
    "model.add(Dropout(0.5))\n",
    "model.add(Dense(1, activation='softmax'))\n",
    "sgd = SGD(lr=0.01, decay=1e-6, momentum=0.9, nesterov=True)\n",
    "model.compile(loss=\"binary_crossentropy\", optimizer=sgd, metrics=[gini_normalized])\n",
    "model.fit(new_x_train, new_y_train, epochs=3, batch_size=256)"
   ]
  },
  {
   "cell_type": "code",
   "execution_count": null,
   "metadata": {
    "collapsed": true
   },
   "outputs": [],
   "source": []
  }
 ],
 "metadata": {
  "anaconda-cloud": {},
  "kernelspec": {
   "display_name": "Python [conda root]",
   "language": "python",
   "name": "conda-root-py"
  },
  "language_info": {
   "codemirror_mode": {
    "name": "ipython",
    "version": 3
   },
   "file_extension": ".py",
   "mimetype": "text/x-python",
   "name": "python",
   "nbconvert_exporter": "python",
   "pygments_lexer": "ipython3",
   "version": "3.5.2"
  }
 },
 "nbformat": 4,
 "nbformat_minor": 1
}
